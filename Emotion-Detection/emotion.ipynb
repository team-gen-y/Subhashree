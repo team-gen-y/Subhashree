{
 "cells": [
  {
   "cell_type": "code",
   "execution_count": 1,
   "metadata": {},
   "outputs": [
    {
     "name": "stderr",
     "output_type": "stream",
     "text": [
      "Using TensorFlow backend.\n",
      "Using TensorFlow backend.\n"
     ]
    }
   ],
   "source": [
    "import keras\n",
    "import cv2\n",
    "import os \n",
    "import numpy as np\n",
    "from keras.models import model_from_json"
   ]
  },
  {
   "cell_type": "code",
   "execution_count": 2,
   "metadata": {},
   "outputs": [
    {
     "name": "stdout",
     "output_type": "stream",
     "text": [
      "WARNING:tensorflow:From C:\\anaconda\\lib\\site-packages\\tensorflow\\python\\framework\\op_def_library.py:263: colocate_with (from tensorflow.python.framework.ops) is deprecated and will be removed in a future version.\n",
      "Instructions for updating:\n",
      "Colocations handled automatically by placer.\n",
      "WARNING:tensorflow:From C:\\anaconda\\lib\\site-packages\\tensorflow\\python\\framework\\op_def_library.py:263: colocate_with (from tensorflow.python.framework.ops) is deprecated and will be removed in a future version.\n",
      "Instructions for updating:\n",
      "Colocations handled automatically by placer.\n"
     ]
    }
   ],
   "source": [
    "model = model_from_json(open('model.json').read())\n",
    "model.load_weights('weights.h5')"
   ]
  },
  {
   "cell_type": "code",
   "execution_count": 3,
   "metadata": {},
   "outputs": [],
   "source": [
    "face_cascade=cv2.CascadeClassifier('haarcascade_frontalface_default.xml')\n",
    "cap=cv2.VideoCapture(0)"
   ]
  },
  {
   "cell_type": "code",
   "execution_count": 4,
   "metadata": {},
   "outputs": [],
   "source": [
    "while True:\n",
    "    ret,frame=cap.read()\n",
    "    \n",
    "    frame1=frame\n",
    "    cv2.imwrite(\"fullimage.jpg\",frame1)\n",
    "    \n",
    "    #cv2.imshow('frame1',frame1)\n",
    "    gray=cv2.cvtColor(frame,cv2.COLOR_BGR2GRAY)\n",
    "    faces=face_cascade.detectMultiScale(gray,1.3,5)\n",
    "    for(x,y,w,h) in faces:\n",
    "        cv2.rectangle(frame,(x,y),(x+w,y+h),(255,0,0),2)\n",
    "        image=frame[y:y+h,x:x+w]\n",
    "        image=cv2.cvtColor(image,cv2.COLOR_BGR2GRAY)\n",
    "        #cv2.imshow('Press v to click',image)\n",
    "        image = cv2.resize(image,(200,200), interpolation = cv2.INTER_CUBIC)\n",
    "        #roi_gray=gray[y:y+h,x:x+h]\n",
    "        #roi_color=frame[y:y+h,x:x+h]\n",
    "        '''\n",
    "        eyes=eye_cascade.detectMultiScale(roi_gray)\n",
    "        for(ex,ey,ew,eh) in eyes:\n",
    "            cv2.rectangle(roi_color,(ex,ey),(ex+ew,ey+eh),(0,255,0),2)\n",
    "            '''\n",
    "    cv2.imshow('Press blah blah blah to click',frame)\n",
    "    if cv2.waitKey(1) & 0xff==ord('x'):\n",
    "        cv2.imwrite(\"imageuse.jpg\",image)\n",
    "        break"
   ]
  },
  {
   "cell_type": "code",
   "execution_count": 5,
   "metadata": {},
   "outputs": [],
   "source": [
    "X=cv2.imread(\"imageuse.jpg\")"
   ]
  },
  {
   "cell_type": "code",
   "execution_count": 6,
   "metadata": {},
   "outputs": [
    {
     "name": "stdout",
     "output_type": "stream",
     "text": [
      "[3.500000e+03 0.000000e+00 0.000000e+00 9.999963e+08 0.000000e+00\n",
      " 0.000000e+00 0.000000e+00 2.000000e+02]\n",
      "[3.500000e+03 0.000000e+00 0.000000e+00 9.999963e+08 0.000000e+00\n",
      " 0.000000e+00 0.000000e+00 2.000000e+02]\n"
     ]
    }
   ],
   "source": [
    "image = cv2.resize(X,(64,64), interpolation = cv2.INTER_CUBIC)\n",
    "image = cv2.cvtColor(image,cv2.COLOR_BGR2GRAY)\n",
    "image = image.reshape(1,64,64,1)\n",
    "predict = model.predict(image)\n",
    "predict = predict[0]*10000000\n",
    "for i in range(len(predict)):\n",
    "    predict[i]=int(predict[i])\n",
    "print(predict*100)"
   ]
  },
  {
   "cell_type": "code",
   "execution_count": 7,
   "metadata": {},
   "outputs": [],
   "source": [
    "import matplotlib.pyplot as plt"
   ]
  },
  {
   "cell_type": "code",
   "execution_count": 8,
   "metadata": {},
   "outputs": [
    {
     "data": {
      "image/png": "[encoded data removed]",
      "text/plain": [
       "<Figure size 432x288 with 1 Axes>"
      ]
     },
     "metadata": {
      "needs_background": "light"
     },
     "output_type": "display_data"
    },
    {
     "data": {
      "image/png": "[encoded data removed]",
      "text/plain": [
       "<Figure size 432x288 with 1 Axes>"
      ]
     },
     "metadata": {
      "needs_background": "light"
     },
     "output_type": "display_data"
    }
   ],
   "source": [
    "n_groups = len(predict)\n",
    "index = np.arange(n_groups)\n",
    "fig, ax = plt.subplots()\n",
    "bar_width = 0.35\n",
    "opacity = 1.0\n",
    "error_config = {'ecolor': '0.3'}\n",
    "rects1 = plt.bar(index, predict, bar_width,\n",
    "                 alpha=opacity,\n",
    "                 color='g',\n",
    "                 error_kw=error_config,\n",
    "                 label='Prediction')\n",
    "plt.xlabel('Group')\n",
    "plt.ylabel('Scores')\n",
    "plt.title('Scores by group and gender')\n",
    "plt.xticks(index + bar_width/12, ('neutral', 'anger', 'surprise', 'happy', 'disgust','fear','contempt','sad'))\n",
    "plt.legend()\n",
    "plt.tight_layout()\n",
    "plt.show()"
   ]
  },
  {
   "cell_type": "code",
   "execution_count": null,
   "metadata": {},
   "outputs": [],
   "source": []
  }
 ],
 "metadata": {
  "kernelspec": {
   "display_name": "Python 3",
   "language": "python",
   "name": "python3"
  },
  "language_info": {
   "codemirror_mode": {
    "name": "ipython",
    "version": 3
   },
   "file_extension": ".py",
   "mimetype": "text/x-python",
   "name": "python",
   "nbconvert_exporter": "python",
   "pygments_lexer": "ipython3",
   "version": "3.7.1"
  }
 },
 "nbformat": 4,
 "nbformat_minor": 2
}
