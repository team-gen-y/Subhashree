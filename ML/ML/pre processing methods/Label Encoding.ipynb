{
 "cells": [
  {
   "cell_type": "code",
   "execution_count": 2,
   "metadata": {},
   "outputs": [
    {
     "name": "stdout",
     "output_type": "stream",
     "text": [
      "     ID  Age    Workclass\n",
      "0  1001   25      Private\n",
      "1  1002   38      Private\n",
      "2  1003   28    State-gov\n",
      "3  1004   36  Central-gov\n",
      "4  1005   20       Others\n",
      "   Workclass\n",
      "0          1\n",
      "1          1\n",
      "2          2\n",
      "3          3\n",
      "4          4\n"
     ]
    }
   ],
   "source": [
    "# using pandas\n",
    "import pandas as pd\n",
    "\n",
    "e=pd.read_csv('C:/Users/ganapathi raju/Desktop/pre processing methods/scaling test1.csv')\n",
    "\n",
    "print(e)\n",
    "\n",
    "e1 = e.select_dtypes(include=['object']).copy()\n",
    "\n",
    "cleanup_wc = {\"Workclass\": {\"Private\": 1, \"State-gov\": 2,'Central-gov':3,'Others':4}}\n",
    "\n",
    "e1.replace(cleanup_wc, inplace=True)\n",
    "\n",
    "print(e1)"
   ]
  },
  {
   "cell_type": "code",
   "execution_count": 3,
   "metadata": {},
   "outputs": [
    {
     "name": "stdout",
     "output_type": "stream",
     "text": [
      "     ID  Age    Workclass\n",
      "0  1001   25      Private\n",
      "1  1002   38      Private\n",
      "2  1003   28    State-gov\n",
      "3  1004   36  Central-gov\n",
      "4  1005   20       Others\n",
      "     Workclass  Wc\n",
      "0      Private   2\n",
      "1      Private   2\n",
      "2    State-gov   3\n",
      "3  Central-gov   0\n",
      "4       Others   1\n"
     ]
    }
   ],
   "source": [
    "# using SK learn \n",
    "\n",
    "from sklearn.preprocessing import LabelEncoder\n",
    "\n",
    "le = LabelEncoder()\n",
    "\n",
    "e=pd.read_csv('scaling test1.csv')\n",
    "\n",
    "print(e)\n",
    "\n",
    "e1 = e.select_dtypes(include=['object']).copy()\n",
    "\n",
    "\n",
    "e1[\"Wc\"] = le.fit_transform(e[\"Workclass\"])\n",
    "\n",
    "print(e1[[\"Workclass\", \"Wc\"]].head())\n"
   ]
  }
 ],
 "metadata": {
  "kernelspec": {
   "display_name": "Python 3",
   "language": "python",
   "name": "python3"
  },
  "language_info": {
   "codemirror_mode": {
    "name": "ipython",
    "version": 3
   },
   "file_extension": ".py",
   "mimetype": "text/x-python",
   "name": "python",
   "nbconvert_exporter": "python",
   "pygments_lexer": "ipython3",
   "version": "3.6.8"
  }
 },
 "nbformat": 4,
 "nbformat_minor": 2
}
