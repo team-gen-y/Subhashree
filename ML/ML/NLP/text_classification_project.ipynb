{
 "cells": [
  {
   "cell_type": "markdown",
   "metadata": {},
   "source": [
    "<img src=\"https://www.analyticsvidhya.com/wp-content/themes/Curated/custom-design/images/logo.png\" width=240 height= 240 align=\"right\"/>\n",
    "\n",
    "# Text Classification using nltk, spaCy, and Scikit-learn\n",
    "\n",
    "“Text Classification” is one of the most important NLP tasks. It is the process of classifying text strings or documents into different categories, based upon the contents of the strings. Some examples of text classification are:\n",
    "\n",
    "* Understanding audience sentiment from social media,\n",
    "* Detection of spam and non-spam emails,\n",
    "* Auto tagging of customer queries, and\n",
    "* Classifying blog posts into different categories.\n",
    "\n",
    "In this notebook, we will work on a text classification problem, end-to-end. For this analysis, we’ll be using the __IMDb movie reviews dataset__ compiled by [Andrew Maas](http://ai.stanford.edu/~amaas/)  and can be found [here](http://ai.stanford.edu/~amaas/data/sentiment/). However, we will be using a smaller version of the dataset which comes bundled with this Jupyter notebook.\n",
    "\n",
    "*Note: Python version = 3.6*\n",
    "\n",
    "### Table of Contents\n",
    "\n",
    "1. Understand the Problem Statement\n",
    "2. Read Dataset\n",
    "3. Clean and Pre-Process Text\n",
    "4. Split Data\n",
    "4. Extracting Features from Cleaned Text\n",
    "5. Model Building\n",
    "\n",
    "<br>"
   ]
  },
  {
   "cell_type": "markdown",
   "metadata": {},
   "source": [
    "### Understand the Problem Statement\n",
    "\n",
    "A movie review is a widely used means for movie critics to assess a film’s overall quality and determine\n",
    "whether or not they think the film is worth watching. In this project, our task is to classify these IMDb movie reviews into 'positive' and 'negative' reviews. "
   ]
  },
  {
   "cell_type": "markdown",
   "metadata": {},
   "source": [
    "### Read Dataset\n",
    "\n",
    "Let's import the necessary libraries."
   ]
  },
  {
   "cell_type": "code",
   "execution_count": 2,
   "metadata": {},
   "outputs": [],
   "source": [
    "import numpy as np\n",
    "import pandas as pd\n",
    "import nltk\n",
    "import spacy\n",
    "from tqdm import tqdm\n",
    "import os\n",
    "import re\n",
    "import seaborn as sns\n",
    "import matplotlib.pyplot as plt\n",
    "\n",
    "%matplotlib inline"
   ]
  },
  {
   "cell_type": "markdown",
   "metadata": {},
   "source": [
    "There are two folders named \"positive\" and \"negative\" containing text files of positive and negative movie reviews, respectively. We will have to first read and load the contents of these text files (reviews) to move ahead with our analysis."
   ]
  },
  {
   "cell_type": "code",
   "execution_count": 114,
   "metadata": {},
   "outputs": [],
   "source": [
    "# load file names\n",
    "pos_files = os.listdir(\"positve/\")\n",
    "neg_files = os.listdir(\"negative/\")"
   ]
  },
  {
   "cell_type": "code",
   "execution_count": 3,
   "metadata": {},
   "outputs": [
    {
     "name": "stdout",
     "output_type": "stream",
     "text": [
      "['9490_10.txt', '5367_9.txt', '7558_8.txt', '5068_9.txt', '3462_7.txt', '11859_10.txt', '8553_7.txt', '10022_7.txt', '4030_9.txt', '374_10.txt']\n"
     ]
    }
   ],
   "source": [
    "print(pos_files[:10])"
   ]
  },
  {
   "cell_type": "code",
   "execution_count": 4,
   "metadata": {},
   "outputs": [
    {
     "name": "stdout",
     "output_type": "stream",
     "text": [
      "['2620_3.txt', '11631_1.txt', '9636_1.txt', '1928_1.txt', '11279_1.txt', '8994_2.txt', '2528_2.txt', '8002_1.txt', '6515_1.txt', '6474_3.txt']\n"
     ]
    }
   ],
   "source": [
    "print(neg_files[:10])"
   ]
  },
  {
   "cell_type": "markdown",
   "metadata": {},
   "source": [
    "...................................................................................................................\n",
    "\n",
    "Let's see how many negative and postive reviews are there."
   ]
  },
  {
   "cell_type": "code",
   "execution_count": 5,
   "metadata": {},
   "outputs": [
    {
     "data": {
      "text/plain": [
       "(10000, 8000)"
      ]
     },
     "execution_count": 5,
     "metadata": {},
     "output_type": "execute_result"
    }
   ],
   "source": [
    "len(pos_files), len(neg_files)"
   ]
  },
  {
   "cell_type": "markdown",
   "metadata": {},
   "source": [
    "So, there are 10,000 positive reviews and 8,000 negative reviews. Till now we have just gathered the names of files that we have to read. To read them, let's define a function."
   ]
  },
  {
   "cell_type": "code",
   "execution_count": 6,
   "metadata": {},
   "outputs": [],
   "source": [
    "# function to read text files\n",
    "def read_review(filename):\n",
    "    # open the file as read only\n",
    "    file = open(filename, mode='rt', encoding='utf-8')\n",
    "    # read all text\n",
    "    text = file.read()\n",
    "    # close the file\n",
    "    file.close()\n",
    "    return text"
   ]
  },
  {
   "cell_type": "code",
   "execution_count": 7,
   "metadata": {},
   "outputs": [],
   "source": [
    "# read and store positive reviews in a list\n",
    "pos = []\n",
    "\n",
    "for i in pos_files:\n",
    "    pos.append(read_review(\"positve/\"+i))\n",
    "    \n",
    "# read and store negative reviews in a list\n",
    "neg = []\n",
    "\n",
    "for i in neg_files:\n",
    "    neg.append(read_review(\"negative/\"+i))"
   ]
  },
  {
   "cell_type": "markdown",
   "metadata": {},
   "source": [
    "We will now put both positive and negative reviews in a dataframe. We will also assign 1 to the positive reviews and 0 to the negative reviews."
   ]
  },
  {
   "cell_type": "code",
   "execution_count": null,
   "metadata": {},
   "outputs": [],
   "source": [
    "df = pd.DataFrame({'review':(pos+neg)})\n",
    "\n",
    "# '1' for positive reviews and '0' for negative reviews\n",
    "df['class'] = 0\n",
    "df['class'][:10000] = 1"
   ]
  },
  {
   "cell_type": "code",
   "execution_count": 9,
   "metadata": {},
   "outputs": [
    {
     "data": {
      "text/plain": [
       "1    10000\n",
       "0     8000\n",
       "Name: class, dtype: int64"
      ]
     },
     "execution_count": 9,
     "metadata": {},
     "output_type": "execute_result"
    }
   ],
   "source": [
    "# check class distribution\n",
    "df['class'].value_counts()"
   ]
  },
  {
   "cell_type": "markdown",
   "metadata": {},
   "source": [
    "<br>\n",
    "\n",
    "### Clean and Pre-Process Text"
   ]
  },
  {
   "cell_type": "markdown",
   "metadata": {},
   "source": [
    "Cleaning and pre-processing of raw text data is an important step in an NLP task. We try to remove as much noise as possible from the data. Punctuation marks, special characters(#@&<!), and words like 'the', 'a', 'of', 'oh' are of not much use in tasks like text classification, and that is why they are considered as noise. So, before getting started, let's print out a random review.  "
   ]
  },
  {
   "cell_type": "code",
   "execution_count": 10,
   "metadata": {},
   "outputs": [
    {
     "data": {
      "text/plain": [
       "'This was the first televised episode of the Columbo series (although it was filmed after \"Death Lends a Hand\")and it heralded one of the most successful TV series in history.<br /><br />Jack Cassidy (who played the murderer in the series three times) enthuses smugness, arrogance and self-assuredness in equal measure here, as Ken Franklin, one half of a mystery writing team who hatches an elaborate plot to kill off his partner, Jim Ferris (played by Martin Milner) who decides to terminate their professional relationship, leaving Franklin exposed as merely a good publicist rather than a prolific writer.<br /><br />The initial murder set-up is fantastic and Cassidy\\'s performance facilitates an arguable accolade that he was the best Columbo murderer in the series.<br /><br />Peter Falk is wonderfully understated in his role as Columbo and the character\\'s inherent traits and oddities, which are underlined by a seeming slowness and absent-mindedness, contrast particularly well with Cassidy\\'s character\\'s extreme smugness: one of their early scenes together where Ken Franklin fabricates a motive for the killing through Jim Ferris\\'s non-existent expo-see of identifying hit-men operating in the underworld exemplifies this very well. Franklin hints to Columbo this potential motive and Columbo (purposely or ignorantly) fails to latch on, forcing Franklin to express his disappointment in a markedly patronising manner and compare him unfavourably with the detective in the books, Mrs. Melville.<br /><br />Also, noteworthy is the early directorial contribution of 24 year old Steven Spielberg. Notwithstanding, some elementary inclusions of cameras shadowing the actors and actresses, he adds some stylish and elaborate touches to uphold the general professionalism of the episode. One particularly stark image is of Jim Feriss\\'s dead body lying on the settee, almost dark in the foreground, as Ken Franklin raises a glass to him in the background after he finishes answering a phone call to Ferris\\'s distraught wife. I have no doubt that working to a restrictive 10-14 day schedule, Spieberg\\'s efforts should not be underestimated.<br /><br />Unfortunately, the event of the second murder, necessitated by a blackmailing scheme which is plotted by a female friend of Franklin\\'s (and ironically referred to as \"sloppy\" by Columbo in his climatic summing up) takes the steam out of the whole thing. The cutting edge of the plot is compromised and the screen-time between Falk and Cassidy inexcusably lessens at this point to perhaps help the script-writer (Stephen Bocho) out of a tight corner, since he cannot singularly develop the story without another murder.<br /><br />The climax is the most disappointing aspect of this episode. The initial banter and exchange of words between Falk and Cassidy is strongly and effectively executed, but it merely advertises the fact that it should have happened more in the episode. The main aggravation lies with the sealing clue (if it can be called a clue): Cassidy\\'s character\\'s hitherto smugness and arrogance is amazingly expelled by a clue that really does little to imply his guilt; and once this is mentioned, he capitulates in a rather unspectacular and uncharacteristic fashion.<br /><br />All in all, a bold opening to the series, which inevitably advertises and foretells all that is good about Columbo, and, conversely, the problems associated with such ingenuity, i.e maintaining the high standards and particularly, creating a credible and suitably intelligent ending.'"
      ]
     },
     "execution_count": 10,
     "metadata": {},
     "output_type": "execute_result"
    }
   ],
   "source": [
    "df['review'][4]"
   ]
  },
  {
   "cell_type": "markdown",
   "metadata": {},
   "source": [
    "...................................................................................................................\n",
    "\n",
    "As you can see, we have lots of punctuation marks and html tags. To get rid of them from the text we will take help of regular expressions. "
   ]
  },
  {
   "cell_type": "code",
   "execution_count": 11,
   "metadata": {},
   "outputs": [],
   "source": [
    "replace_1 = re.compile(\"(\\.)|(\\;)|(\\:)|(\\!)|(\\')|(\\?)|(\\,)|(\\\")|(\\()|(\\))|(\\[)|(\\])\")\n",
    "replace_2 = re.compile(\"(<br\\s*/><br\\s*/>)|(\\-)|(\\/)\")\n",
    "\n",
    "# function to clean text data\n",
    "def clean_reviews(reviews):\n",
    "    reviews = [replace_1.sub(\"\", line.lower()) for line in reviews]\n",
    "    reviews = [replace_2.sub(\" \", line) for line in reviews]\n",
    "    return reviews"
   ]
  },
  {
   "cell_type": "code",
   "execution_count": 12,
   "metadata": {},
   "outputs": [],
   "source": [
    "df['review'] = clean_reviews(df['review'])"
   ]
  },
  {
   "cell_type": "markdown",
   "metadata": {},
   "source": [
    "Let's pull out the same review after the cleaning operation."
   ]
  },
  {
   "cell_type": "code",
   "execution_count": 13,
   "metadata": {},
   "outputs": [
    {
     "data": {
      "text/plain": [
       "'this was the first televised episode of the columbo series although it was filmed after death lends a handand it heralded one of the most successful tv series in history jack cassidy who played the murderer in the series three times enthuses smugness arrogance and self assuredness in equal measure here as ken franklin one half of a mystery writing team who hatches an elaborate plot to kill off his partner jim ferris played by martin milner who decides to terminate their professional relationship leaving franklin exposed as merely a good publicist rather than a prolific writer the initial murder set up is fantastic and cassidys performance facilitates an arguable accolade that he was the best columbo murderer in the series peter falk is wonderfully understated in his role as columbo and the characters inherent traits and oddities which are underlined by a seeming slowness and absent mindedness contrast particularly well with cassidys characters extreme smugness one of their early scenes together where ken franklin fabricates a motive for the killing through jim ferriss non existent expo see of identifying hit men operating in the underworld exemplifies this very well franklin hints to columbo this potential motive and columbo purposely or ignorantly fails to latch on forcing franklin to express his disappointment in a markedly patronising manner and compare him unfavourably with the detective in the books mrs melville also noteworthy is the early directorial contribution of 24 year old steven spielberg notwithstanding some elementary inclusions of cameras shadowing the actors and actresses he adds some stylish and elaborate touches to uphold the general professionalism of the episode one particularly stark image is of jim ferisss dead body lying on the settee almost dark in the foreground as ken franklin raises a glass to him in the background after he finishes answering a phone call to ferriss distraught wife i have no doubt that working to a restrictive 10 14 day schedule spiebergs efforts should not be underestimated unfortunately the event of the second murder necessitated by a blackmailing scheme which is plotted by a female friend of franklins and ironically referred to as sloppy by columbo in his climatic summing up takes the steam out of the whole thing the cutting edge of the plot is compromised and the screen time between falk and cassidy inexcusably lessens at this point to perhaps help the script writer stephen bocho out of a tight corner since he cannot singularly develop the story without another murder the climax is the most disappointing aspect of this episode the initial banter and exchange of words between falk and cassidy is strongly and effectively executed but it merely advertises the fact that it should have happened more in the episode the main aggravation lies with the sealing clue if it can be called a clue cassidys characters hitherto smugness and arrogance is amazingly expelled by a clue that really does little to imply his guilt and once this is mentioned he capitulates in a rather unspectacular and uncharacteristic fashion all in all a bold opening to the series which inevitably advertises and foretells all that is good about columbo and conversely the problems associated with such ingenuity ie maintaining the high standards and particularly creating a credible and suitably intelligent ending'"
      ]
     },
     "execution_count": 13,
     "metadata": {},
     "output_type": "execute_result"
    }
   ],
   "source": [
    "df['review'][4]"
   ]
  },
  {
   "cell_type": "markdown",
   "metadata": {},
   "source": [
    "...................................................................................................................\n",
    "\n",
    "It seems pretty neat and free from unwanted elements. Now let's see which are the top most frequent words in the data."
   ]
  },
  {
   "cell_type": "code",
   "execution_count": 14,
   "metadata": {},
   "outputs": [],
   "source": [
    "from nltk import FreqDist"
   ]
  },
  {
   "cell_type": "code",
   "execution_count": 15,
   "metadata": {},
   "outputs": [],
   "source": [
    "# function to plot top n most frequent words\n",
    "def freq_words(x, terms = 30):\n",
    "  all_words = ' '.join([text for text in x])\n",
    "  all_words = all_words.split()\n",
    "  \n",
    "  fdist = FreqDist(all_words)\n",
    "  words_df = pd.DataFrame({'word':list(fdist.keys()), 'count':list(fdist.values())})\n",
    "  \n",
    "  # selecting top n most frequent words\n",
    "  d = words_df.nlargest(columns=\"count\", n = terms) \n",
    "  plt.figure(figsize=(20,5))\n",
    "  ax = sns.barplot(data=d, x= \"word\", y = \"count\")\n",
    "  ax.set(ylabel = 'Count')\n",
    "  plt.show()"
   ]
  },
  {
   "cell_type": "code",
   "execution_count": 16,
   "metadata": {},
   "outputs": [
    {
     "data": {
      "image/png": "[encoded data removed]",
      "text/plain": [
       "<Figure size 1440x360 with 1 Axes>"
      ]
     },
     "metadata": {
      "needs_background": "light"
     },
     "output_type": "display_data"
    }
   ],
   "source": [
    "freq_words(df['review'])"
   ]
  },
  {
   "cell_type": "markdown",
   "metadata": {},
   "source": [
    "As it turns out, terms like 'and', 'a', 'is', that' etc. are the most common terms in our data. Most of them are also known as stopwords in the NLP community, and they would be of little help in identifying a review as positive or negative. Hence, we will get rid of them as well. \n",
    "\n",
    "We will use __spaCy library__ here to remove the stopwords. But first you have to download spaCy's language model 'en_core_web_sm'. Use the comman below in your terminal to download and install the language model.\n",
    "\n",
    "```python -m spacy download en_core_web_sm```\n",
    "\n",
    "More info on spaCy's language models can be found here https://spacy.io/usage/models"
   ]
  },
  {
   "cell_type": "code",
   "execution_count": 3,
   "metadata": {},
   "outputs": [],
   "source": [
    "nlp = spacy.load('en_core_web_sm')"
   ]
  },
  {
   "cell_type": "markdown",
   "metadata": {},
   "source": [
    "However, there are a few stopwords which should not be removed as their absence might change the meaning of an entire sentence. So, we won't remove the words 'however', 'no', 'not', and 'but'. We will take them off from spaCy's stopwords vocabulary in the following code block."
   ]
  },
  {
   "cell_type": "code",
   "execution_count": 19,
   "metadata": {},
   "outputs": [],
   "source": [
    "nlp.vocab['however'].is_stop = False\n",
    "nlp.vocab['no'].is_stop = False\n",
    "nlp.vocab['not'].is_stop = False\n",
    "nlp.vocab['but'].is_stop = False"
   ]
  },
  {
   "cell_type": "markdown",
   "metadata": {},
   "source": [
    "__Tokenization__\n",
    "\n",
    "To remove the stopwords, we will have to first tokenize our reviews. Tokenization means splitting a piece of text into its constituent words. For example, the sentence below will be split into a list of tokens/words after tokenization.\n",
    "\n",
    "__\"The cutting edge of the plot is compromised\" --> ['The', 'cutting', 'edge', 'of', 'the', 'plot', 'is', 'compromised']__\n",
    "\n",
    "We will again use spaCy for tokenizaion. First, the raw text is split on whitespace characters, similar to text.split(' '). Then, the tokenizer processes the text from left to right. On each substring, it performs two checks:\n",
    "\n",
    "* Does the substring match a tokenizer exception rule? For example, \"don't\" does not contain whitespace, but should be split into two tokens, \"do\" and \"n't\", while \"U.K.\" should always remain one token.\n",
    " \n",
    "* Can a prefix, suffix or infix be split off? For example punctuation like commas, periods, hyphens or quotes.\n",
    "\n",
    "If there's a match, the rule is applied and the tokenizer continues its loop, starting with the newly split substrings. This way, spaCy can split complex, nested tokens like combinations of abbreviations and multiple punctuation marks.\n",
    "\n",
    "<img src=\"https://spacy.io/assets/img/tokenization.svg\" align=\"center\"/>\n"
   ]
  },
  {
   "cell_type": "code",
   "execution_count": 20,
   "metadata": {},
   "outputs": [],
   "source": [
    "# tokenization using spaCy\n",
    "def tokenization(x):\n",
    "    reviews_tokens = []\n",
    "    for i in tqdm(x):\n",
    "        i = nlp(i)\n",
    "        temp = []\n",
    "        for j in i:\n",
    "            temp.append(j.text)\n",
    "        reviews_tokens.append(temp)\n",
    "    \n",
    "    return reviews_tokens"
   ]
  },
  {
   "cell_type": "code",
   "execution_count": 29,
   "metadata": {},
   "outputs": [
    {
     "name": "stderr",
     "output_type": "stream",
     "text": [
      "100%|██████████| 18000/18000 [17:19<00:00, 12.82it/s]\n"
     ]
    }
   ],
   "source": [
    "df['tokenized_review'] = tokenization(df['review'])"
   ]
  },
  {
   "cell_type": "code",
   "execution_count": 62,
   "metadata": {},
   "outputs": [],
   "source": [
    "# function to remove stopwords\n",
    "def strip_stopwords(reviews):\n",
    "    s = []\n",
    "    for r in tqdm(reviews):\n",
    "        s_2 = []\n",
    "        for token in r:\n",
    "            if nlp.vocab[token].is_stop == True:\n",
    "                continue\n",
    "            else:\n",
    "                s_2.append(token)\n",
    "        s.append(\" \".join(s_2))    \n",
    "        \n",
    "    return s"
   ]
  },
  {
   "cell_type": "markdown",
   "metadata": {},
   "source": [
    "Let's remove the stopwords."
   ]
  },
  {
   "cell_type": "code",
   "execution_count": 80,
   "metadata": {},
   "outputs": [
    {
     "name": "stderr",
     "output_type": "stream",
     "text": [
      "100%|██████████| 18000/18000 [00:04<00:00, 4337.67it/s]\n"
     ]
    }
   ],
   "source": [
    "df['review_cleaned'] = strip_stopwords(df['tokenized_review'])"
   ]
  },
  {
   "cell_type": "markdown",
   "metadata": {},
   "source": [
    "We will again check the most common terms in the cleaned review text after eliminating the stopwords."
   ]
  },
  {
   "cell_type": "code",
   "execution_count": 81,
   "metadata": {},
   "outputs": [
    {
     "data": {
      "image/png": "[encoded data removed]",
      "text/plain": [
       "<Figure size 1440x360 with 1 Axes>"
      ]
     },
     "metadata": {
      "needs_background": "light"
     },
     "output_type": "display_data"
    }
   ],
   "source": [
    "freq_words(df['review_cleaned'])"
   ]
  },
  {
   "cell_type": "markdown",
   "metadata": {},
   "source": [
    "Now we can see more relevant terms have come up. Words such as 'movie', 'film', 'story', 'character' as most frequently appearing words make sense. However, we can further clean up the data. Let's get rid of single character terms. "
   ]
  },
  {
   "cell_type": "code",
   "execution_count": 82,
   "metadata": {},
   "outputs": [],
   "source": [
    "# remove 1 character terms (length == 1)\n",
    "df['review_cleaned'] = df['review_cleaned'].apply(lambda x: ' '.join([w for w in x.split() if len(w)>1]))"
   ]
  },
  {
   "cell_type": "markdown",
   "metadata": {},
   "source": [
    "One more glance at the top 30 most common words."
   ]
  },
  {
   "cell_type": "code",
   "execution_count": 83,
   "metadata": {},
   "outputs": [
    {
     "data": {
      "image/png": "[encoded data removed]",
      "text/plain": [
       "<Figure size 1440x360 with 1 Axes>"
      ]
     },
     "metadata": {
      "needs_background": "light"
     },
     "output_type": "display_data"
    }
   ],
   "source": [
    "freq_words(df['review_cleaned'])"
   ]
  },
  {
   "cell_type": "markdown",
   "metadata": {},
   "source": [
    "<br>\n",
    "\n",
    "### Split Data\n",
    "\n",
    "After cleaning and pre-processing of the reviews, we can now split our data into 3 sets — train, validation, and test — in the ratio of 70%, 15% and 15%, respectively. We will use the train set for traing our model, and validation and test sets to make predictions and evaluate our model."
   ]
  },
  {
   "cell_type": "code",
   "execution_count": 88,
   "metadata": {},
   "outputs": [],
   "source": [
    "from sklearn.model_selection import train_test_split"
   ]
  },
  {
   "cell_type": "code",
   "execution_count": 89,
   "metadata": {},
   "outputs": [],
   "source": [
    "# splitting data into train, test, and validation set\n",
    "train, temp = train_test_split(df, stratify = df['class'], test_size=0.3, random_state=42)\n",
    "\n",
    "test, val = train_test_split(temp, stratify = temp['class'], test_size=0.5, random_state=42)"
   ]
  },
  {
   "cell_type": "code",
   "execution_count": 90,
   "metadata": {},
   "outputs": [
    {
     "data": {
      "text/plain": [
       "((12600, 4), (2700, 4), (2700, 4))"
      ]
     },
     "execution_count": 90,
     "metadata": {},
     "output_type": "execute_result"
    }
   ],
   "source": [
    "train.shape, val.shape, test.shape"
   ]
  },
  {
   "cell_type": "markdown",
   "metadata": {},
   "source": [
    "<br>\n",
    "\n",
    "### Extracting Features from Cleaned Text\n",
    "\n",
    "Now comes the interesting part. Since we will building a classification model, we can't directly feed text data to our model. We will have to extract numerical features from the cleaned text to build our model. We will create two sets of features — \n",
    "1. Bag-of-Words features\n",
    "2. TF-IDF features\n",
    "\n",
    "To learn more about feature extraction from text refer this [article](https://www.analyticsvidhya.com/blog/2017/06/word-embeddings-count-word2veec/)."
   ]
  },
  {
   "cell_type": "code",
   "execution_count": 91,
   "metadata": {},
   "outputs": [],
   "source": [
    "from sklearn.feature_extraction.text import CountVectorizer, TfidfVectorizer"
   ]
  },
  {
   "cell_type": "code",
   "execution_count": 93,
   "metadata": {},
   "outputs": [],
   "source": [
    "# build bag-of-words features for train data\n",
    "bow = CountVectorizer(binary=False, min_df=5, max_df=1.0, ngram_range=(1,2))\n",
    "bow_train = bow.fit_transform(train['review_cleaned'])\n",
    "\n",
    "# build TF-IDF features for train data\n",
    "tfidf = TfidfVectorizer(use_idf=True, min_df=5, max_df=1.0, ngram_range=(1,2),\n",
    "                        sublinear_tf=True)\n",
    "tfidf_train = tfidf.fit_transform(train['review_cleaned'])"
   ]
  },
  {
   "cell_type": "code",
   "execution_count": 94,
   "metadata": {},
   "outputs": [],
   "source": [
    "# create features for validation and test set\n",
    "bow_val = bow.transform(val['review_cleaned'])\n",
    "tfidf_val = tfidf.transform(val['review_cleaned'])\n",
    "\n",
    "bow_test = bow.transform(test['review_cleaned'])\n",
    "tfidf_test = tfidf.transform(test['review_cleaned'])"
   ]
  },
  {
   "cell_type": "code",
   "execution_count": 95,
   "metadata": {},
   "outputs": [
    {
     "name": "stdout",
     "output_type": "stream",
     "text": [
      "BOW model:> Train features shape: (12600, 42282)  Validation features shape: (2700, 42282)  Test features shape: (2700, 42282)\n",
      "TFIDF model:> Train features shape: (12600, 42282)  Validation features shape: (2700, 42282)  Test features shape: (2700, 42282)\n"
     ]
    }
   ],
   "source": [
    "print('BOW model:> Train features shape:', bow_train.shape, ' Validation features shape:', bow_val.shape, \n",
    "      ' Test features shape:', bow_test.shape)\n",
    "\n",
    "print('TFIDF model:> Train features shape:', tfidf_train.shape, ' Validation features shape:', tfidf_val.shape,\n",
    "      ' Test features shape:', tfidf_test.shape)"
   ]
  },
  {
   "cell_type": "markdown",
   "metadata": {},
   "source": [
    "<br>\n",
    "\n",
    "### Model Building\n",
    "\n",
    "1) __Logistic Regression__ Model using bag-of-words features"
   ]
  },
  {
   "cell_type": "code",
   "execution_count": 96,
   "metadata": {},
   "outputs": [],
   "source": [
    "# Logistic Regression model\n",
    "from sklearn.linear_model import LogisticRegression"
   ]
  },
  {
   "cell_type": "code",
   "execution_count": null,
   "metadata": {},
   "outputs": [],
   "source": [
    "lr = LogisticRegression()\n",
    "\n",
    "# train model on bag-of-words features\n",
    "lr.fit(bow_train, train['class'])"
   ]
  },
  {
   "cell_type": "code",
   "execution_count": 98,
   "metadata": {},
   "outputs": [],
   "source": [
    "#make predictions on validation set\n",
    "bow_val_preds = lr.predict(bow_val)\n",
    "\n",
    "#make predictions on test set\n",
    "bow_test_preds = lr.predict(bow_test)"
   ]
  },
  {
   "cell_type": "code",
   "execution_count": 100,
   "metadata": {},
   "outputs": [],
   "source": [
    "from sklearn.metrics import accuracy_score"
   ]
  },
  {
   "cell_type": "code",
   "execution_count": 103,
   "metadata": {},
   "outputs": [
    {
     "name": "stdout",
     "output_type": "stream",
     "text": [
      "Validation accuracy score:  0.8766666666666667\n",
      "Test accuracy score:  0.882962962962963\n"
     ]
    }
   ],
   "source": [
    "# model evaluaton\n",
    "print(\"Validation accuracy score: \", accuracy_score(val['class'], bow_val_preds))\n",
    "print(\"Test accuracy score: \", accuracy_score(test['class'], bow_test_preds))"
   ]
  },
  {
   "cell_type": "markdown",
   "metadata": {},
   "source": [
    "2) __Logistic Regression__ Model using TF-IDF features"
   ]
  },
  {
   "cell_type": "code",
   "execution_count": null,
   "metadata": {},
   "outputs": [],
   "source": [
    "# train model on bag-of-words features\n",
    "lr.fit(tfidf_train, train['class'])"
   ]
  },
  {
   "cell_type": "code",
   "execution_count": 105,
   "metadata": {},
   "outputs": [],
   "source": [
    "#make predictions on validation set\n",
    "tfidf_val_preds = lr.predict(tfidf_val)\n",
    "\n",
    "#make predictions on test set\n",
    "tfidf_test_preds = lr.predict(tfidf_test)"
   ]
  },
  {
   "cell_type": "code",
   "execution_count": 106,
   "metadata": {},
   "outputs": [
    {
     "name": "stdout",
     "output_type": "stream",
     "text": [
      "Validation accuracy score:  0.8825925925925926\n",
      "Test accuracy score:  0.8825925925925926\n"
     ]
    }
   ],
   "source": [
    "# model evaluaton\n",
    "print(\"Validation accuracy score: \", accuracy_score(val['class'], tfidf_val_preds))\n",
    "print(\"Test accuracy score: \", accuracy_score(test['class'], tfidf_test_preds))"
   ]
  },
  {
   "cell_type": "markdown",
   "metadata": {},
   "source": [
    "<br>\n",
    "\n",
    "### What's Next?\n",
    "\n",
    "So, this was our attempt to get you started with text classification. There are still a lot many things that you can try to improve your model performance and make it more robust. Some of them are listed below:\n",
    "\n",
    "1. Use the entire IMDb movie dataset.\n",
    "2. Use text normalization (stemming or lemmatization) to convert different forms of each word into one.\n",
    "3. Use word embeddings such as word2vec, GLoVe, fasttext to create features.\n",
    "4. Try different machine learning algorithms like SVM, random forest, XGBoost, LightGBM.\n",
    "5. Apply deep learning models. \n",
    "\n",
    "Thanks for completing this project. Feel free to reach out to us. Happy Learning!\n",
    "\n",
    "#### [Blog](https://www.analyticsvidhya.com/)\n",
    "#### [Courses](https://trainings.analyticsvidhya.com/courses)\n",
    "#### [Hackathons](https://datahack.analyticsvidhya.com/contest/all/)\n",
    "#### [Disscussion Forums](https://discuss.analyticsvidhya.com)"
   ]
  }
 ],
 "metadata": {
  "kernelspec": {
   "display_name": "Python 3",
   "language": "python",
   "name": "python3"
  },
  "language_info": {
   "codemirror_mode": {
    "name": "ipython",
    "version": 3
   },
   "file_extension": ".py",
   "mimetype": "text/x-python",
   "name": "python",
   "nbconvert_exporter": "python",
   "pygments_lexer": "ipython3",
   "version": "3.6.7"
  }
 },
 "nbformat": 4,
 "nbformat_minor": 2
}
