{
 "cells": [
  {
   "cell_type": "markdown",
   "metadata": {
    "_cell_guid": "8b2c5f1e-5387-57bb-6451-05dde5af32df"
   },
   "source": [
    "\n",
    "\n"
   ]
  },
  {
   "cell_type": "code",
   "execution_count": 1,
   "metadata": {
    "_cell_guid": "8ed4cdd2-afc8-9ec1-3bb6-f27aa0b61daa"
   },
   "outputs": [],
   "source": [
    "import pandas as pd\n",
    "import sklearn\n",
    "from sklearn.feature_extraction.text import CountVectorizer\n",
    "from sklearn.linear_model import LogisticRegression"
   ]
  },
  {
   "cell_type": "code",
   "execution_count": 2,
   "metadata": {
    "_cell_guid": "502d0837-5a6c-fff2-06ea-16e4628a3457"
   },
   "outputs": [],
   "source": [
    "data = pd.read_csv(\"Combined_News_DJIA.csv\")"
   ]
  },
  {
   "cell_type": "code",
   "execution_count": 3,
   "metadata": {
    "_cell_guid": "7b1c912a-3a8d-aa33-f69d-63cceb808396"
   },
   "outputs": [],
   "source": [
    "train = data[data['Date'] < '2015-01-01']\n",
    "test = data[data['Date'] > '2014-12-31']"
   ]
  },
  {
   "cell_type": "code",
   "execution_count": 4,
   "metadata": {
    "_cell_guid": "bf96b397-840d-d181-6967-2f8359caedc2"
   },
   "outputs": [
    {
     "data": {
      "text/plain": [
       "378"
      ]
     },
     "execution_count": 4,
     "metadata": {},
     "output_type": "execute_result"
    }
   ],
   "source": [
    "len(test)"
   ]
  },
  {
   "cell_type": "code",
   "execution_count": 7,
   "metadata": {
    "_cell_guid": "040eca34-6430-9b64-5e9b-5ed28cede202"
   },
   "outputs": [
    {
     "data": {
      "text/plain": [
       "1611"
      ]
     },
     "execution_count": 7,
     "metadata": {},
     "output_type": "execute_result"
    }
   ],
   "source": [
    "len(train)"
   ]
  },
  {
   "cell_type": "code",
   "execution_count": 8,
   "metadata": {
    "_cell_guid": "fb590409-7d25-b96a-ea3d-fa65a8969fec"
   },
   "outputs": [],
   "source": [
    "trainheadlines = []\n",
    "for row in range(0,len(train.index)):\n",
    "    trainheadlines.append(' '.join(str(x) for x in train.iloc[row,2:27]))"
   ]
  },
  {
   "cell_type": "code",
   "execution_count": 9,
   "metadata": {
    "_cell_guid": "11ec9ff1-3fd6-0bd0-5fb5-d0457ce3f9e8"
   },
   "outputs": [],
   "source": [
    "trainvect = CountVectorizer()"
   ]
  },
  {
   "cell_type": "code",
   "execution_count": 10,
   "metadata": {
    "_cell_guid": "71cb6892-cdad-a4ff-1e73-d6f45c3b5edb"
   },
   "outputs": [],
   "source": [
    "Trainfeature = trainvect.fit_transform(trainheadlines)"
   ]
  },
  {
   "cell_type": "code",
   "execution_count": 9,
   "metadata": {
    "_cell_guid": "d96a45c3-bf72-374a-13cc-5177e4a4c484"
   },
   "outputs": [],
   "source": [
    "####Detailed view of Document Count Matrix\n",
    "DTM_With_Colm = pd.DataFrame(Trainfeature.toarray(),columns= trainvect.get_feature_names())"
   ]
  },
  {
   "cell_type": "code",
   "execution_count": 11,
   "metadata": {
    "_cell_guid": "e3e206c2-a51e-fb5e-c249-35c909dd8582"
   },
   "outputs": [
    {
     "data": {
      "text/plain": [
       "(1611, 31675)"
      ]
     },
     "execution_count": 11,
     "metadata": {},
     "output_type": "execute_result"
    }
   ],
   "source": [
    "Trainfeature.shape"
   ]
  },
  {
   "cell_type": "markdown",
   "metadata": {
    "_cell_guid": "fab3134b-2f5d-92af-47ee-61593cd14bcb"
   },
   "source": [
    "Model Logistic Regression"
   ]
  },
  {
   "cell_type": "code",
   "execution_count": 12,
   "metadata": {
    "_cell_guid": "40d487a6-8508-c82f-89a9-e721a6b2f826"
   },
   "outputs": [],
   "source": [
    "Logis = LogisticRegression()"
   ]
  },
  {
   "cell_type": "code",
   "execution_count": 13,
   "metadata": {
    "_cell_guid": "fad8a44c-bea4-f616-aa69-731db35b2498"
   },
   "outputs": [
    {
     "name": "stderr",
     "output_type": "stream",
     "text": [
      "C:\\Users\\subhashree hazra\\Anaconda3\\lib\\site-packages\\sklearn\\linear_model\\logistic.py:433: FutureWarning: Default solver will be changed to 'lbfgs' in 0.22. Specify a solver to silence this warning.\n",
      "  FutureWarning)\n"
     ]
    }
   ],
   "source": [
    "Model1 = Logis.fit(Trainfeature,train['Label'])"
   ]
  },
  {
   "cell_type": "code",
   "execution_count": 14,
   "metadata": {
    "_cell_guid": "eeaedf7b-7c15-002f-67fb-214da1b045b7"
   },
   "outputs": [
    {
     "data": {
      "text/plain": [
       "LogisticRegression(C=1.0, class_weight=None, dual=False, fit_intercept=True,\n",
       "          intercept_scaling=1, max_iter=100, multi_class='warn',\n",
       "          n_jobs=None, penalty='l2', random_state=None, solver='warn',\n",
       "          tol=0.0001, verbose=0, warm_start=False)"
      ]
     },
     "execution_count": 14,
     "metadata": {},
     "output_type": "execute_result"
    }
   ],
   "source": [
    "Model1"
   ]
  },
  {
   "cell_type": "code",
   "execution_count": 15,
   "metadata": {
    "_cell_guid": "c7323d3a-7e62-a78b-4846-ca1b7ac79ce2"
   },
   "outputs": [],
   "source": [
    "testheadlines =[]\n",
    "for row in range(0,len(test.index)):\n",
    "    testheadlines.append(' '.join(str(x) for x in test.iloc[row,2:27]))"
   ]
  },
  {
   "cell_type": "code",
   "execution_count": 16,
   "metadata": {
    "_cell_guid": "73913e28-bbea-6370-d6a4-747ffcbfaa7c"
   },
   "outputs": [
    {
     "data": {
      "text/plain": [
       "378"
      ]
     },
     "execution_count": 16,
     "metadata": {},
     "output_type": "execute_result"
    }
   ],
   "source": [
    "len(testheadlines)"
   ]
  },
  {
   "cell_type": "code",
   "execution_count": 17,
   "metadata": {
    "_cell_guid": "38845945-c0d9-cf7d-f097-a74dd02f8ce5"
   },
   "outputs": [],
   "source": [
    "Testfeature = trainvect.transform(testheadlines)"
   ]
  },
  {
   "cell_type": "code",
   "execution_count": 18,
   "metadata": {
    "_cell_guid": "6283f3cc-4493-a1df-3231-303b36ec56d6"
   },
   "outputs": [
    {
     "data": {
      "text/plain": [
       "(378, 31675)"
      ]
     },
     "execution_count": 18,
     "metadata": {},
     "output_type": "execute_result"
    }
   ],
   "source": [
    "Testfeature.shape"
   ]
  },
  {
   "cell_type": "code",
   "execution_count": 19,
   "metadata": {
    "_cell_guid": "34a686d2-e992-f055-49c8-2529ff0fdee0"
   },
   "outputs": [],
   "source": [
    "Predicted = Model1.predict(Testfeature)"
   ]
  },
  {
   "cell_type": "code",
   "execution_count": 20,
   "metadata": {
    "_cell_guid": "364584cb-33a2-565b-d43b-000d6f38a709"
   },
   "outputs": [
    {
     "data": {
      "text/plain": [
       "(378,)"
      ]
     },
     "execution_count": 20,
     "metadata": {},
     "output_type": "execute_result"
    }
   ],
   "source": [
    "Predicted.shape"
   ]
  },
  {
   "cell_type": "code",
   "execution_count": 21,
   "metadata": {
    "_cell_guid": "494d1221-5fd3-0404-d0ad-d0b8a3ca0cb8"
   },
   "outputs": [
    {
     "data": {
      "text/html": [
       "<div>\n",
       "<style scoped>\n",
       "    .dataframe tbody tr th:only-of-type {\n",
       "        vertical-align: middle;\n",
       "    }\n",
       "\n",
       "    .dataframe tbody tr th {\n",
       "        vertical-align: top;\n",
       "    }\n",
       "\n",
       "    .dataframe thead th {\n",
       "        text-align: right;\n",
       "    }\n",
       "</style>\n",
       "<table border=\"1\" class=\"dataframe\">\n",
       "  <thead>\n",
       "    <tr style=\"text-align: right;\">\n",
       "      <th>Predict</th>\n",
       "      <th>0</th>\n",
       "      <th>1</th>\n",
       "    </tr>\n",
       "    <tr>\n",
       "      <th>Actual</th>\n",
       "      <th></th>\n",
       "      <th></th>\n",
       "    </tr>\n",
       "  </thead>\n",
       "  <tbody>\n",
       "    <tr>\n",
       "      <th>0</th>\n",
       "      <td>61</td>\n",
       "      <td>125</td>\n",
       "    </tr>\n",
       "    <tr>\n",
       "      <th>1</th>\n",
       "      <td>92</td>\n",
       "      <td>100</td>\n",
       "    </tr>\n",
       "  </tbody>\n",
       "</table>\n",
       "</div>"
      ],
      "text/plain": [
       "Predict   0    1\n",
       "Actual          \n",
       "0        61  125\n",
       "1        92  100"
      ]
     },
     "execution_count": 21,
     "metadata": {},
     "output_type": "execute_result"
    }
   ],
   "source": [
    "pd.crosstab(test[\"Label\"], Predicted , rownames=[\"Actual\"] , colnames= [\"Predict\"])"
   ]
  },
  {
   "cell_type": "markdown",
   "metadata": {
    "_cell_guid": "15cbde32-53c6-670a-9312-34549374ec15"
   },
   "source": [
    "Model Naive Bayes"
   ]
  },
  {
   "cell_type": "code",
   "execution_count": 22,
   "metadata": {
    "_cell_guid": "d0891311-bcb5-ea49-f1ff-ec9937cd551e"
   },
   "outputs": [],
   "source": [
    "from sklearn.naive_bayes import MultinomialNB\n",
    "\n",
    "Nb = MultinomialNB()"
   ]
  },
  {
   "cell_type": "code",
   "execution_count": 23,
   "metadata": {
    "_cell_guid": "2a3a70c9-1a31-1818-7600-f7cc2b0eee08"
   },
   "outputs": [],
   "source": [
    "Model2 = Nb.fit(Trainfeature,train['Label'])"
   ]
  },
  {
   "cell_type": "code",
   "execution_count": 24,
   "metadata": {
    "_cell_guid": "89561b55-0ed2-2fc4-5525-cfa814bb13a2"
   },
   "outputs": [],
   "source": [
    "Nbpredicted = Model2.predict(Testfeature)"
   ]
  },
  {
   "cell_type": "code",
   "execution_count": 25,
   "metadata": {
    "_cell_guid": "55120242-4bd0-6eab-6427-96e14547b63c"
   },
   "outputs": [
    {
     "data": {
      "text/plain": [
       "(378,)"
      ]
     },
     "execution_count": 25,
     "metadata": {},
     "output_type": "execute_result"
    }
   ],
   "source": [
    "Nbpredicted.shape"
   ]
  },
  {
   "cell_type": "code",
   "execution_count": 26,
   "metadata": {
    "_cell_guid": "33053684-3d48-d00a-af52-de8d535153dd"
   },
   "outputs": [
    {
     "data": {
      "text/html": [
       "<div>\n",
       "<style scoped>\n",
       "    .dataframe tbody tr th:only-of-type {\n",
       "        vertical-align: middle;\n",
       "    }\n",
       "\n",
       "    .dataframe tbody tr th {\n",
       "        vertical-align: top;\n",
       "    }\n",
       "\n",
       "    .dataframe thead th {\n",
       "        text-align: right;\n",
       "    }\n",
       "</style>\n",
       "<table border=\"1\" class=\"dataframe\">\n",
       "  <thead>\n",
       "    <tr style=\"text-align: right;\">\n",
       "      <th>Predict</th>\n",
       "      <th>0</th>\n",
       "      <th>1</th>\n",
       "    </tr>\n",
       "    <tr>\n",
       "      <th>Acutal</th>\n",
       "      <th></th>\n",
       "      <th></th>\n",
       "    </tr>\n",
       "  </thead>\n",
       "  <tbody>\n",
       "    <tr>\n",
       "      <th>0</th>\n",
       "      <td>46</td>\n",
       "      <td>140</td>\n",
       "    </tr>\n",
       "    <tr>\n",
       "      <th>1</th>\n",
       "      <td>51</td>\n",
       "      <td>141</td>\n",
       "    </tr>\n",
       "  </tbody>\n",
       "</table>\n",
       "</div>"
      ],
      "text/plain": [
       "Predict   0    1\n",
       "Acutal          \n",
       "0        46  140\n",
       "1        51  141"
      ]
     },
     "execution_count": 26,
     "metadata": {},
     "output_type": "execute_result"
    }
   ],
   "source": [
    "pd.crosstab(test[\"Label\"], Nbpredicted, rownames= [\"Acutal\"],colnames=[\"Predict\"])"
   ]
  },
  {
   "cell_type": "code",
   "execution_count": 27,
   "metadata": {
    "_cell_guid": "597d6f6a-856f-d4d6-b8a8-a7c3750014ec"
   },
   "outputs": [
    {
     "data": {
      "text/plain": [
       "0.42592592592592593"
      ]
     },
     "execution_count": 27,
     "metadata": {},
     "output_type": "execute_result"
    }
   ],
   "source": [
    "\n",
    "import numpy as np\n",
    "from sklearn.metrics import accuracy_score\n",
    "y_NaviBayes = Nbpredicted\n",
    "y_true = test[\"Label\"]\n",
    "accuracy_score(y_NaviBayes,y_true)\n",
    "x_Logist = Predicted\n",
    "x_true = test[\"Label\"]\n",
    "accuracy_score(x_Logist,x_true)\n"
   ]
  },
  {
   "cell_type": "markdown",
   "metadata": {
    "_cell_guid": "b0abad32-64ce-97d9-cc2a-4321c012e445"
   },
   "source": [
    "**Ngram Model**"
   ]
  },
  {
   "cell_type": "code",
   "execution_count": 28,
   "metadata": {
    "_cell_guid": "d7a7121e-b4ba-19aa-d572-342bda6af74c"
   },
   "outputs": [
    {
     "name": "stdout",
     "output_type": "stream",
     "text": [
      "Wall time: 0 ns\n"
     ]
    },
    {
     "data": {
      "text/plain": [
       "(1611, 398396)"
      ]
     },
     "execution_count": 28,
     "metadata": {},
     "output_type": "execute_result"
    }
   ],
   "source": [
    "advvect = CountVectorizer(ngram_range=(1,2))\n",
    "%time\n",
    "advancedtrain = advvect.fit_transform(trainheadlines)\n",
    "advancedtrain.shape\n"
   ]
  },
  {
   "cell_type": "markdown",
   "metadata": {
    "_cell_guid": "81c51abc-07c4-4b9d-38d5-9e2967f0640f"
   },
   "source": [
    "Model Naive Bayes - Ngram"
   ]
  },
  {
   "cell_type": "code",
   "execution_count": 29,
   "metadata": {
    "_cell_guid": "4ac0df15-e189-eb54-432a-b5712bde7104"
   },
   "outputs": [
    {
     "data": {
      "text/plain": [
       "(378,)"
      ]
     },
     "execution_count": 29,
     "metadata": {},
     "output_type": "execute_result"
    }
   ],
   "source": [
    "advmodel = MultinomialNB()\n",
    "advancemodel = advmodel.fit(advancedtrain,train[\"Label\"])\n",
    "advancetest = advvect.transform(testheadlines)\n",
    "advNBprediction = advmodel.predict(advancetest) \n",
    "advNBprediction.shape\n",
    "\n",
    "\n"
   ]
  },
  {
   "cell_type": "code",
   "execution_count": 30,
   "metadata": {
    "_cell_guid": "b45f440e-a047-c94a-5ff1-4b4210b174a3"
   },
   "outputs": [
    {
     "data": {
      "text/html": [
       "<div>\n",
       "<style scoped>\n",
       "    .dataframe tbody tr th:only-of-type {\n",
       "        vertical-align: middle;\n",
       "    }\n",
       "\n",
       "    .dataframe tbody tr th {\n",
       "        vertical-align: top;\n",
       "    }\n",
       "\n",
       "    .dataframe thead th {\n",
       "        text-align: right;\n",
       "    }\n",
       "</style>\n",
       "<table border=\"1\" class=\"dataframe\">\n",
       "  <thead>\n",
       "    <tr style=\"text-align: right;\">\n",
       "      <th>Predicted</th>\n",
       "      <th>0</th>\n",
       "      <th>1</th>\n",
       "    </tr>\n",
       "    <tr>\n",
       "      <th>Acutal</th>\n",
       "      <th></th>\n",
       "      <th></th>\n",
       "    </tr>\n",
       "  </thead>\n",
       "  <tbody>\n",
       "    <tr>\n",
       "      <th>0</th>\n",
       "      <td>3</td>\n",
       "      <td>183</td>\n",
       "    </tr>\n",
       "    <tr>\n",
       "      <th>1</th>\n",
       "      <td>0</td>\n",
       "      <td>192</td>\n",
       "    </tr>\n",
       "  </tbody>\n",
       "</table>\n",
       "</div>"
      ],
      "text/plain": [
       "Predicted  0    1\n",
       "Acutal           \n",
       "0          3  183\n",
       "1          0  192"
      ]
     },
     "execution_count": 30,
     "metadata": {},
     "output_type": "execute_result"
    }
   ],
   "source": [
    "pd.crosstab(test[\"Label\"],advNBprediction, rownames=[\"Acutal\"],colnames=[\"Predicted\"])"
   ]
  },
  {
   "cell_type": "code",
   "execution_count": 31,
   "metadata": {
    "_cell_guid": "f38849ff-d984-aec2-56ae-c4649321444e"
   },
   "outputs": [],
   "source": [
    "x_adNB = advNBprediction\n",
    "x_test = test[\"Label\"]"
   ]
  },
  {
   "cell_type": "code",
   "execution_count": 32,
   "metadata": {
    "_cell_guid": "8090e55a-824c-1463-8642-57dbdfa2b0ad"
   },
   "outputs": [
    {
     "data": {
      "text/plain": [
       "0.5158730158730159"
      ]
     },
     "execution_count": 32,
     "metadata": {},
     "output_type": "execute_result"
    }
   ],
   "source": [
    "accuracy_score(x_test,x_adNB)"
   ]
  },
  {
   "cell_type": "code",
   "execution_count": 33,
   "metadata": {
    "_cell_guid": "e40a85d3-f457-0ba1-bb40-8272b8548842"
   },
   "outputs": [
    {
     "data": {
      "text/plain": [
       "0.5158730158730159"
      ]
     },
     "execution_count": 33,
     "metadata": {},
     "output_type": "execute_result"
    }
   ],
   "source": [
    "from sklearn import metrics\n",
    "metrics.accuracy_score(x_test,x_adNB)"
   ]
  },
  {
   "cell_type": "markdown",
   "metadata": {
    "_cell_guid": "46723e99-981e-00c8-fc5c-34f98f7e8d6c"
   },
   "source": [
    "**Latent Dirichlet Allocation**\n",
    "Topic Modeling \n"
   ]
  },
  {
   "cell_type": "code",
   "execution_count": 52,
   "metadata": {
    "_cell_guid": "0532ba01-1012-996b-d5fe-1bad423f77e2"
   },
   "outputs": [],
   "source": [
    "from nltk.tokenize import RegexpTokenizer\n",
    "from stop_words import get_stop_words\n",
    "from nltk.stem.porter import PorterStemmer\n",
    "from gensim import corpora, models\n",
    "import gensim"
   ]
  },
  {
   "cell_type": "code",
   "execution_count": null,
   "metadata": {},
   "outputs": [],
   "source": []
  },
  {
   "cell_type": "code",
   "execution_count": 53,
   "metadata": {
    "_cell_guid": "311a5ca6-c40f-f929-be17-6fdab7193b22"
   },
   "outputs": [
    {
     "name": "stdout",
     "output_type": "stream",
     "text": [
      "Wall time: 101 ms\n"
     ]
    }
   ],
   "source": [
    "%time\n",
    "tokenizer = RegexpTokenizer(r'\\w+')\n",
    "\n",
    "# create English stop words list\n",
    "en_stop = get_stop_words('en')\n",
    "\n",
    "# Create p_stemmer of class PorterStemmer\n",
    "p_stemmer = PorterStemmer()\n",
    "    \n",
    "#Our Document\n",
    "trainheadlines\n",
    "\n",
    "# list for tokenized documents in loop\n",
    "texts = []\n",
    "\n",
    "# loop through document list\n",
    "for i in trainheadlines:\n",
    "    \n",
    "    # clean and tokenize document string\n",
    "    raw = i.lower()\n",
    "    tokens = tokenizer.tokenize(raw)\n",
    "\n",
    "    # remove stop words from tokens\n",
    "    stopped_tokens = [i for i in tokens if not i in en_stop]\n",
    "    \n",
    "    # stem tokens\n",
    "    stemmed_tokens = [p_stemmer.stem(i) for i in stopped_tokens]\n",
    "    \n",
    "    # add tokens to list\n",
    "    texts.append(stemmed_tokens)\n",
    "\n",
    "# turn our tokenized documents into a id <-> term dictionary\n",
    "dictionary = corpora.Dictionary(texts)\n",
    "    \n",
    "# convert tokenized documents into a document-term matrix\n",
    "corpus = [dictionary.doc2bow(text) for text in texts]"
   ]
  },
  {
   "cell_type": "code",
   "execution_count": 54,
   "metadata": {
    "_cell_guid": "3826eeee-9622-4b03-41a2-bd7c952da359"
   },
   "outputs": [
    {
     "name": "stdout",
     "output_type": "stream",
     "text": [
      "Wall time: 0 ns\n"
     ]
    }
   ],
   "source": [
    "%time\n",
    "#generate LDA\n",
    "ldamodel = gensim.models.ldamodel.LdaModel(corpus, num_topics=10, id2word = dictionary, passes=1,chunksize=10000,update_every=1)"
   ]
  },
  {
   "cell_type": "code",
   "execution_count": 55,
   "metadata": {
    "_cell_guid": "7841b8f8-1d5f-2e03-ae11-bc73ebfa92b6"
   },
   "outputs": [
    {
     "name": "stdout",
     "output_type": "stream",
     "text": [
      "Wall time: 0 ns\n",
      "[(0, '0.017*\"s\" + 0.007*\"b\" + 0.007*\"say\"'), (1, '0.035*\"b\" + 0.016*\"s\" + 0.005*\"say\"'), (2, '0.021*\"b\" + 0.017*\"s\" + 0.006*\"us\"'), (3, '0.014*\"s\" + 0.011*\"b\" + 0.005*\"us\"'), (4, '0.019*\"s\" + 0.007*\"b\" + 0.006*\"year\"'), (5, '0.033*\"b\" + 0.012*\"s\" + 0.005*\"us\"'), (6, '0.017*\"s\" + 0.005*\"b\" + 0.005*\"say\"'), (7, '0.033*\"b\" + 0.014*\"s\" + 0.006*\"us\"'), (8, '0.033*\"b\" + 0.015*\"s\" + 0.006*\"say\"'), (9, '0.021*\"s\" + 0.018*\"b\" + 0.005*\"us\"')]\n"
     ]
    }
   ],
   "source": [
    "import pyLDAvis.gensim\n",
    "%time\n",
    "print(ldamodel.print_topics(num_topics=10, num_words=3))"
   ]
  },
  {
   "cell_type": "code",
   "execution_count": 56,
   "metadata": {
    "_cell_guid": "e6623989-30f4-9198-0468-a6411eb52b5b"
   },
   "outputs": [
    {
     "data": {
      "text/plain": [
       "[(9,\n",
       "  '0.021*\"s\" + 0.018*\"b\" + 0.005*\"us\" + 0.005*\"say\" + 0.005*\"year\" + 0.004*\"kill\" + 0.004*\"israel\" + 0.004*\"govern\" + 0.004*\"new\" + 0.004*\"u\"'),\n",
       " (1,\n",
       "  '0.035*\"b\" + 0.016*\"s\" + 0.005*\"say\" + 0.005*\"govern\" + 0.005*\"will\" + 0.004*\"us\" + 0.004*\"year\" + 0.004*\"new\" + 0.004*\"world\" + 0.004*\"isra\"'),\n",
       " (3,\n",
       "  '0.014*\"s\" + 0.011*\"b\" + 0.005*\"us\" + 0.005*\"say\" + 0.005*\"year\" + 0.005*\"kill\" + 0.004*\"china\" + 0.004*\"world\" + 0.004*\"new\" + 0.004*\"protest\"'),\n",
       " (8,\n",
       "  '0.033*\"b\" + 0.015*\"s\" + 0.006*\"say\" + 0.005*\"kill\" + 0.005*\"israel\" + 0.005*\"year\" + 0.004*\"protest\" + 0.004*\"countri\" + 0.004*\"us\" + 0.004*\"new\"'),\n",
       " (4,\n",
       "  '0.019*\"s\" + 0.007*\"b\" + 0.006*\"year\" + 0.005*\"say\" + 0.004*\"polic\" + 0.004*\"us\" + 0.004*\"will\" + 0.004*\"russia\" + 0.003*\"china\" + 0.003*\"protest\"')]"
      ]
     },
     "execution_count": 56,
     "metadata": {},
     "output_type": "execute_result"
    }
   ],
   "source": [
    "ldamodel.print_topics(5)"
   ]
  },
  {
   "cell_type": "code",
   "execution_count": 58,
   "metadata": {
    "_cell_guid": "d622d569-ba41-7316-9925-b36c28bf6962"
   },
   "outputs": [
    {
     "name": "stderr",
     "output_type": "stream",
     "text": [
      "C:\\Users\\subhashree hazra\\Anaconda3\\lib\\site-packages\\pyLDAvis\\_prepare.py:257: FutureWarning: Sorting because non-concatenation axis is not aligned. A future version\n",
      "of pandas will change to not sort by default.\n",
      "\n",
      "To accept the future behavior, pass 'sort=False'.\n",
      "\n",
      "To retain the current behavior and silence the warning, pass 'sort=True'.\n",
      "\n",
      "  return pd.concat([default_term_info] + list(topic_dfs))\n"
     ]
    }
   ],
   "source": [
    "\n",
    "import pyLDAvis.gensim\n",
    "pyLDAvis.enable_notebook()\n",
    "news = pyLDAvis.gensim.prepare(ldamodel,corpus, dictionary)\n",
    "\n"
   ]
  },
  {
   "cell_type": "code",
   "execution_count": 59,
   "metadata": {
    "_cell_guid": "049caef5-b570-301c-f844-07d7eb516ed0"
   },
   "outputs": [
    {
     "data": {
      "text/html": [
       "\n",
       "<link rel=\"stylesheet\" type=\"text/css\" href=\"https://cdn.rawgit.com/bmabey/pyLDAvis/files/ldavis.v1.0.0.css\">\n",
       "\n",
       "\n",
       "<div id=\"ldavis_el865629183269758486995204091\"></div>\n",
       "<script type=\"text/javascript\">\n",
       "\n",
       "var ldavis_el865629183269758486995204091_data = {\"mdsDat\": {\"x\": [-0.00033854622813852, -0.008660470904491515, 0.004842889554198059, -0.00815064329245288, -0.008356083105571722, 0.008439107723814529, -0.007440523154410704, -0.0014541013762047355, 0.008740153618072895, 0.012378217165184564], \"y\": [-0.002626897236535504, -0.0007880033557669808, 0.0012388824203203445, -0.0012003799485352685, -0.0007230227009733616, -0.006214377227546579, 0.0034218263222900755, 0.002737181478959999, -0.00025181986258614734, 0.0044066101103734144], \"topics\": [1, 2, 3, 4, 5, 6, 7, 8, 9, 10], \"cluster\": [1, 1, 1, 1, 1, 1, 1, 1, 1, 1], \"Freq\": [25.266338348388672, 21.628955841064453, 9.769871711730957, 9.01928424835205, 8.862261772155762, 7.922798156738281, 6.849904537200928, 5.270893096923828, 3.8225631713867188, 1.5871297121047974]}, \"tinfo\": {\"Category\": [\"Default\", \"Default\", \"Default\", \"Default\", \"Default\", \"Default\", \"Default\", \"Default\", \"Default\", \"Default\", \"Default\", \"Default\", \"Default\", \"Default\", \"Default\", \"Default\", \"Default\", \"Default\", \"Default\", \"Default\", \"Default\", \"Default\", \"Default\", \"Default\", \"Default\", \"Default\", \"Default\", \"Default\", \"Default\", \"Default\", \"Topic1\", \"Topic1\", \"Topic1\", \"Topic1\", \"Topic1\", \"Topic1\", \"Topic1\", \"Topic1\", \"Topic1\", \"Topic1\", \"Topic1\", \"Topic1\", \"Topic1\", \"Topic1\", \"Topic1\", \"Topic1\", \"Topic1\", \"Topic1\", \"Topic1\", \"Topic1\", \"Topic1\", \"Topic1\", \"Topic1\", \"Topic1\", \"Topic1\", \"Topic1\", \"Topic1\", \"Topic1\", \"Topic1\", \"Topic1\", \"Topic1\", \"Topic1\", \"Topic1\", \"Topic1\", \"Topic1\", \"Topic1\", \"Topic1\", \"Topic1\", \"Topic1\", \"Topic1\", \"Topic1\", \"Topic1\", \"Topic1\", \"Topic1\", \"Topic1\", \"Topic1\", \"Topic1\", \"Topic1\", \"Topic1\", \"Topic1\", \"Topic1\", \"Topic1\", \"Topic1\", \"Topic1\", \"Topic1\", \"Topic1\", \"Topic1\", \"Topic1\", \"Topic1\", \"Topic1\", \"Topic1\", \"Topic1\", \"Topic1\", \"Topic1\", \"Topic1\", \"Topic1\", \"Topic1\", \"Topic1\", \"Topic1\", \"Topic1\", \"Topic1\", \"Topic1\", \"Topic1\", \"Topic1\", \"Topic1\", \"Topic1\", \"Topic1\", \"Topic1\", \"Topic1\", \"Topic1\", \"Topic1\", \"Topic1\", \"Topic1\", \"Topic1\", \"Topic1\", \"Topic2\", \"Topic2\", \"Topic2\", \"Topic2\", \"Topic2\", \"Topic2\", \"Topic2\", \"Topic2\", \"Topic2\", \"Topic2\", \"Topic2\", \"Topic2\", \"Topic2\", \"Topic2\", \"Topic2\", \"Topic2\", \"Topic2\", \"Topic2\", \"Topic2\", \"Topic2\", \"Topic2\", \"Topic2\", \"Topic2\", \"Topic2\", \"Topic2\", \"Topic2\", \"Topic2\", \"Topic2\", \"Topic2\", \"Topic2\", \"Topic2\", \"Topic2\", \"Topic2\", \"Topic2\", \"Topic2\", \"Topic2\", \"Topic2\", \"Topic2\", \"Topic2\", \"Topic2\", \"Topic2\", \"Topic2\", \"Topic2\", \"Topic2\", \"Topic2\", \"Topic2\", \"Topic2\", \"Topic2\", \"Topic2\", \"Topic2\", \"Topic2\", \"Topic2\", \"Topic2\", \"Topic2\", \"Topic2\", \"Topic2\", \"Topic2\", \"Topic2\", \"Topic2\", \"Topic2\", \"Topic2\", \"Topic2\", \"Topic2\", \"Topic2\", \"Topic2\", \"Topic2\", \"Topic2\", \"Topic2\", \"Topic2\", \"Topic2\", \"Topic2\", \"Topic2\", \"Topic2\", \"Topic2\", \"Topic2\", \"Topic2\", \"Topic2\", \"Topic2\", \"Topic2\", \"Topic2\", \"Topic2\", \"Topic2\", \"Topic2\", \"Topic2\", \"Topic2\", \"Topic2\", \"Topic2\", \"Topic2\", \"Topic2\", \"Topic2\", \"Topic2\", \"Topic3\", \"Topic3\", \"Topic3\", \"Topic3\", \"Topic3\", \"Topic3\", \"Topic3\", \"Topic3\", \"Topic3\", \"Topic3\", \"Topic3\", \"Topic3\", \"Topic3\", \"Topic3\", \"Topic3\", \"Topic3\", \"Topic3\", \"Topic3\", \"Topic3\", \"Topic3\", \"Topic3\", \"Topic3\", \"Topic3\", \"Topic3\", \"Topic3\", \"Topic3\", \"Topic3\", \"Topic3\", \"Topic3\", \"Topic3\", \"Topic3\", \"Topic3\", \"Topic3\", \"Topic3\", \"Topic3\", \"Topic3\", \"Topic3\", \"Topic3\", \"Topic3\", \"Topic3\", \"Topic3\", \"Topic3\", \"Topic3\", \"Topic3\", \"Topic3\", \"Topic3\", \"Topic3\", \"Topic3\", \"Topic3\", \"Topic3\", \"Topic3\", \"Topic3\", \"Topic3\", \"Topic3\", \"Topic3\", \"Topic3\", \"Topic3\", \"Topic3\", \"Topic3\", \"Topic3\", \"Topic3\", \"Topic3\", \"Topic3\", \"Topic3\", \"Topic3\", \"Topic3\", \"Topic3\", \"Topic3\", \"Topic3\", \"Topic3\", \"Topic3\", \"Topic3\", \"Topic3\", \"Topic3\", \"Topic3\", \"Topic3\", \"Topic3\", \"Topic3\", \"Topic3\", \"Topic3\", \"Topic4\", \"Topic4\", \"Topic4\", \"Topic4\", \"Topic4\", \"Topic4\", \"Topic4\", \"Topic4\", \"Topic4\", \"Topic4\", \"Topic4\", \"Topic4\", \"Topic4\", \"Topic4\", \"Topic4\", \"Topic4\", \"Topic4\", \"Topic4\", \"Topic4\", \"Topic4\", \"Topic4\", \"Topic4\", \"Topic4\", \"Topic4\", \"Topic4\", \"Topic4\", \"Topic4\", \"Topic4\", \"Topic4\", \"Topic4\", \"Topic4\", \"Topic4\", \"Topic4\", \"Topic4\", \"Topic4\", \"Topic4\", \"Topic4\", \"Topic4\", \"Topic4\", \"Topic4\", \"Topic4\", \"Topic4\", \"Topic4\", \"Topic4\", \"Topic4\", \"Topic4\", \"Topic4\", \"Topic4\", \"Topic4\", \"Topic4\", \"Topic4\", \"Topic4\", \"Topic4\", \"Topic4\", \"Topic4\", \"Topic4\", \"Topic4\", \"Topic4\", \"Topic4\", \"Topic4\", \"Topic4\", \"Topic4\", \"Topic4\", \"Topic4\", \"Topic4\", \"Topic4\", \"Topic4\", \"Topic4\", \"Topic4\", \"Topic4\", \"Topic4\", \"Topic4\", \"Topic4\", \"Topic4\", \"Topic4\", \"Topic4\", \"Topic4\", \"Topic4\", \"Topic4\", \"Topic4\", \"Topic4\", \"Topic4\", \"Topic4\", \"Topic4\", \"Topic4\", \"Topic4\", \"Topic4\", \"Topic5\", \"Topic5\", \"Topic5\", \"Topic5\", \"Topic5\", \"Topic5\", \"Topic5\", \"Topic5\", \"Topic5\", \"Topic5\", \"Topic5\", \"Topic5\", \"Topic5\", \"Topic5\", \"Topic5\", \"Topic5\", \"Topic5\", \"Topic5\", \"Topic5\", \"Topic5\", \"Topic5\", \"Topic5\", \"Topic5\", \"Topic5\", \"Topic5\", \"Topic5\", \"Topic5\", \"Topic5\", \"Topic5\", \"Topic5\", \"Topic5\", \"Topic5\", \"Topic5\", \"Topic5\", \"Topic5\", \"Topic5\", \"Topic5\", \"Topic5\", \"Topic5\", \"Topic5\", \"Topic5\", \"Topic5\", \"Topic5\", \"Topic5\", \"Topic5\", \"Topic5\", \"Topic5\", \"Topic5\", \"Topic5\", \"Topic5\", \"Topic5\", \"Topic5\", \"Topic5\", \"Topic5\", \"Topic5\", \"Topic5\", \"Topic5\", \"Topic5\", \"Topic5\", \"Topic5\", \"Topic5\", \"Topic5\", \"Topic5\", \"Topic5\", \"Topic5\", \"Topic5\", \"Topic5\", \"Topic5\", \"Topic5\", \"Topic5\", \"Topic5\", \"Topic5\", \"Topic5\", \"Topic5\", \"Topic5\", \"Topic5\", \"Topic5\", \"Topic5\", \"Topic5\", \"Topic5\", \"Topic5\", \"Topic5\", \"Topic6\", \"Topic6\", \"Topic6\", \"Topic6\", \"Topic6\", \"Topic6\", \"Topic6\", \"Topic6\", \"Topic6\", \"Topic6\", \"Topic6\", \"Topic6\", \"Topic6\", \"Topic6\", \"Topic6\", \"Topic6\", \"Topic6\", \"Topic6\", \"Topic6\", \"Topic6\", \"Topic6\", \"Topic6\", \"Topic6\", \"Topic6\", \"Topic6\", \"Topic6\", \"Topic6\", \"Topic6\", \"Topic6\", \"Topic6\", \"Topic6\", \"Topic6\", \"Topic6\", \"Topic6\", \"Topic6\", \"Topic6\", \"Topic6\", \"Topic6\", \"Topic6\", \"Topic6\", \"Topic6\", \"Topic6\", \"Topic6\", \"Topic6\", \"Topic6\", \"Topic6\", \"Topic6\", \"Topic6\", \"Topic6\", \"Topic6\", \"Topic6\", \"Topic6\", \"Topic6\", \"Topic6\", \"Topic6\", \"Topic6\", \"Topic6\", \"Topic6\", \"Topic6\", \"Topic6\", \"Topic6\", \"Topic6\", \"Topic6\", \"Topic6\", \"Topic6\", \"Topic6\", \"Topic6\", \"Topic6\", \"Topic6\", \"Topic6\", \"Topic6\", \"Topic6\", \"Topic6\", \"Topic6\", \"Topic6\", \"Topic6\", \"Topic6\", \"Topic6\", \"Topic6\", \"Topic6\", \"Topic6\", \"Topic6\", \"Topic6\", \"Topic6\", \"Topic6\", \"Topic6\", \"Topic6\", \"Topic7\", \"Topic7\", \"Topic7\", \"Topic7\", \"Topic7\", \"Topic7\", \"Topic7\", \"Topic7\", \"Topic7\", \"Topic7\", \"Topic7\", \"Topic7\", \"Topic7\", \"Topic7\", \"Topic7\", \"Topic7\", \"Topic7\", \"Topic7\", \"Topic7\", \"Topic7\", \"Topic7\", \"Topic7\", \"Topic7\", \"Topic7\", \"Topic7\", \"Topic7\", \"Topic7\", \"Topic7\", \"Topic7\", \"Topic7\", \"Topic7\", \"Topic7\", \"Topic7\", \"Topic7\", \"Topic7\", \"Topic7\", \"Topic7\", \"Topic7\", \"Topic7\", \"Topic7\", \"Topic7\", \"Topic7\", \"Topic7\", \"Topic7\", \"Topic7\", \"Topic7\", \"Topic7\", \"Topic7\", \"Topic7\", \"Topic7\", \"Topic7\", \"Topic7\", \"Topic7\", \"Topic7\", \"Topic7\", \"Topic7\", \"Topic7\", \"Topic7\", \"Topic7\", \"Topic7\", \"Topic7\", \"Topic7\", \"Topic7\", \"Topic7\", \"Topic7\", \"Topic7\", \"Topic7\", \"Topic7\", \"Topic7\", \"Topic7\", \"Topic7\", \"Topic7\", \"Topic7\", \"Topic7\", \"Topic7\", \"Topic7\", \"Topic7\", \"Topic7\", \"Topic7\", \"Topic7\", \"Topic7\", \"Topic7\", \"Topic7\", \"Topic7\", \"Topic7\", \"Topic8\", \"Topic8\", \"Topic8\", \"Topic8\", \"Topic8\", \"Topic8\", \"Topic8\", \"Topic8\", \"Topic8\", \"Topic8\", \"Topic8\", \"Topic8\", \"Topic8\", \"Topic8\", \"Topic8\", \"Topic8\", \"Topic8\", \"Topic8\", \"Topic8\", \"Topic8\", \"Topic8\", \"Topic8\", \"Topic8\", \"Topic8\", \"Topic8\", \"Topic8\", \"Topic8\", \"Topic8\", \"Topic8\", \"Topic8\", \"Topic8\", \"Topic8\", \"Topic8\", \"Topic8\", \"Topic8\", \"Topic8\", \"Topic8\", \"Topic8\", \"Topic8\", \"Topic8\", \"Topic8\", \"Topic8\", \"Topic8\", \"Topic8\", \"Topic8\", \"Topic8\", \"Topic8\", \"Topic8\", \"Topic8\", \"Topic8\", \"Topic8\", \"Topic8\", \"Topic8\", \"Topic8\", \"Topic8\", \"Topic8\", \"Topic8\", \"Topic8\", \"Topic8\", \"Topic8\", \"Topic8\", \"Topic8\", \"Topic8\", \"Topic8\", \"Topic8\", \"Topic8\", \"Topic8\", \"Topic8\", \"Topic8\", \"Topic8\", \"Topic8\", \"Topic8\", \"Topic8\", \"Topic8\", \"Topic8\", \"Topic8\", \"Topic8\", \"Topic8\", \"Topic8\", \"Topic8\", \"Topic9\", \"Topic9\", \"Topic9\", \"Topic9\", \"Topic9\", \"Topic9\", \"Topic9\", \"Topic9\", \"Topic9\", \"Topic9\", \"Topic9\", \"Topic9\", \"Topic9\", \"Topic9\", \"Topic9\", \"Topic9\", \"Topic9\", \"Topic9\", \"Topic9\", \"Topic9\", \"Topic9\", \"Topic9\", \"Topic9\", \"Topic9\", \"Topic9\", \"Topic9\", \"Topic9\", \"Topic9\", \"Topic9\", \"Topic9\", \"Topic9\", \"Topic9\", \"Topic9\", \"Topic9\", \"Topic9\", \"Topic9\", \"Topic9\", \"Topic9\", \"Topic9\", \"Topic9\", \"Topic9\", \"Topic9\", \"Topic9\", \"Topic9\", \"Topic9\", \"Topic9\", \"Topic9\", \"Topic9\", \"Topic9\", \"Topic9\", \"Topic9\", \"Topic9\", \"Topic9\", \"Topic9\", \"Topic9\", \"Topic9\", \"Topic9\", \"Topic9\", \"Topic9\", \"Topic9\", \"Topic9\", \"Topic9\", \"Topic9\", \"Topic9\", \"Topic9\", \"Topic9\", \"Topic9\", \"Topic9\", \"Topic9\", \"Topic9\", \"Topic9\", \"Topic9\", \"Topic9\", \"Topic9\", \"Topic9\", \"Topic9\", \"Topic9\", \"Topic9\", \"Topic9\", \"Topic9\", \"Topic9\", \"Topic9\", \"Topic9\", \"Topic10\", \"Topic10\", \"Topic10\", \"Topic10\", \"Topic10\", \"Topic10\", \"Topic10\", \"Topic10\", \"Topic10\", \"Topic10\", \"Topic10\", \"Topic10\", \"Topic10\", \"Topic10\", \"Topic10\", \"Topic10\", \"Topic10\", \"Topic10\", \"Topic10\", \"Topic10\", \"Topic10\", \"Topic10\", \"Topic10\", \"Topic10\", \"Topic10\", \"Topic10\", \"Topic10\", \"Topic10\", \"Topic10\", \"Topic10\", \"Topic10\", \"Topic10\", \"Topic10\", \"Topic10\", \"Topic10\", \"Topic10\", \"Topic10\", \"Topic10\", \"Topic10\", \"Topic10\", \"Topic10\", \"Topic10\", \"Topic10\", \"Topic10\", \"Topic10\", \"Topic10\", \"Topic10\", \"Topic10\", \"Topic10\", \"Topic10\", \"Topic10\", \"Topic10\", \"Topic10\", \"Topic10\", \"Topic10\", \"Topic10\", \"Topic10\", \"Topic10\", \"Topic10\", \"Topic10\", \"Topic10\", \"Topic10\", \"Topic10\", \"Topic10\", \"Topic10\", \"Topic10\", \"Topic10\", \"Topic10\", \"Topic10\", \"Topic10\", \"Topic10\", \"Topic10\", \"Topic10\", \"Topic10\", \"Topic10\", \"Topic10\", \"Topic10\", \"Topic10\", \"Topic10\", \"Topic10\", \"Topic10\", \"Topic10\", \"Topic10\", \"Topic10\"], \"Freq\": [11792.0, 8564.0, 2654.0, 1747.0, 2374.0, 1823.0, 2421.0, 1822.0, 1732.0, 1569.0, 2150.0, 1840.0, 1251.0, 1079.0, 1557.0, 1293.0, 1692.0, 1136.0, 773.0, 1253.0, 2020.0, 1369.0, 811.0, 1417.0, 974.0, 1091.0, 1505.0, 1076.0, 1056.0, 1182.0, 2.319469928741455, 1.2699611186981201, 1.2542253732681274, 1.93311607837677, 1.8907307386398315, 1.1873228549957275, 1.1897966861724854, 1.1873047351837158, 1.1700119972229004, 1.16819429397583, 1.181031584739685, 1.128475546836853, 1.125096321105957, 2.6883726119995117, 1.6434475183486938, 1.0619275569915771, 1.1181674003601074, 1.6307491064071655, 1.9476393461227417, 1.6033998727798462, 1.0451116561889648, 2.194143056869507, 1.0523667335510254, 1.0197845697402954, 1.0209823846817017, 0.9866672158241272, 1.0120973587036133, 1.5607869625091553, 1.525619626045227, 1.0208855867385864, 16.21647071838379, 5.575645446777344, 2.950718879699707, 332.5852966308594, 3.472665309906006, 2681.893798828125, 101.27352142333984, 124.0013656616211, 436.0147399902344, 59.161720275878906, 84.15280151367188, 431.10992431640625, 123.48928833007812, 55.7274169921875, 51.22889709472656, 200.12173461914062, 295.003173828125, 91.55706787109375, 50.05728530883789, 324.28619384765625, 481.672607421875, 255.5726776123047, 313.87384033203125, 225.00669860839844, 165.32716369628906, 400.55718994140625, 703.8878784179688, 88.60723876953125, 52.804500579833984, 191.76385498046875, 459.1043701171875, 313.0355224609375, 215.33767700195312, 294.5928039550781, 509.9213562011719, 295.96832275390625, 266.1402282714844, 541.9886474609375, 679.7155151367188, 615.9603271484375, 2347.613037109375, 331.31787109375, 485.8309020996094, 550.8793334960938, 421.716064453125, 373.0959777832031, 446.59124755859375, 318.84283447265625, 342.9347229003906, 414.9170837402344, 424.9624938964844, 361.4684753417969, 382.34527587890625, 330.8633728027344, 303.1169128417969, 1.0241934061050415, 1.5066965818405151, 3.4982571601867676, 2.0037992000579834, 0.9900223016738892, 1.4773921966552734, 0.9812284708023071, 0.9627730846405029, 0.9473031163215637, 2.9050824642181396, 2.6638476848602295, 1.4112120866775513, 1.408449649810791, 0.9561020731925964, 0.9816110730171204, 2.3729448318481445, 0.940092146396637, 1.9014315605163574, 0.9597323536872864, 1.3368263244628906, 0.9086931943893433, 0.9013510942459106, 2.280484437942505, 0.9149453639984131, 0.8809489011764526, 0.900326132774353, 0.8919652104377747, 0.8843902349472046, 2.7301552295684814, 2.275575876235962, 1.4109245538711548, 1.8376359939575195, 2.165780782699585, 3676.412353515625, 123.08889770507812, 19.305593490600586, 68.47230529785156, 9.89692497253418, 237.2441864013672, 425.62835693359375, 86.89701843261719, 224.34620666503906, 105.38894653320312, 251.8255157470703, 194.98770141601562, 545.0694580078125, 93.56196594238281, 453.75506591796875, 128.25975036621094, 12.962911605834961, 550.3466796875, 187.83470153808594, 659.2471313476562, 59.66521453857422, 72.31221771240234, 82.71632385253906, 117.24542236328125, 99.88831329345703, 149.74359130859375, 119.14231872558594, 105.63435363769531, 79.91600799560547, 115.52291107177734, 1648.858154296875, 98.70806121826172, 133.58287048339844, 177.12901306152344, 360.441650390625, 331.3093566894531, 142.7086944580078, 408.9017333984375, 502.0484924316406, 239.54501342773438, 201.12803649902344, 341.6910705566406, 373.221923828125, 381.064208984375, 303.8514404296875, 271.0233459472656, 261.6119079589844, 277.0198059082031, 215.77096557617188, 223.70298767089844, 350.2149353027344, 412.9873962402344, 271.7599792480469, 326.2466125488281, 239.94989013671875, 228.93084716796875, 229.52047729492188, 226.85989379882812, 0.6581840515136719, 0.6568222045898438, 0.6435074210166931, 0.6175626516342163, 0.6170138120651245, 0.6076350212097168, 0.5662795305252075, 0.581512987613678, 0.5904432535171509, 0.5865763425827026, 0.5895258188247681, 0.9172625541687012, 0.5326166152954102, 0.5309946537017822, 0.5390827655792236, 0.5691817998886108, 0.5107311606407166, 0.8894374370574951, 0.514344334602356, 0.5152613520622253, 0.5386806726455688, 0.5517891049385071, 0.49080607295036316, 0.490103155374527, 0.5521483421325684, 0.9862234592437744, 0.5365268588066101, 1.2707968950271606, 0.5221636891365051, 0.4776923358440399, 0.8235636949539185, 1.797757863998413, 3.6081881523132324, 116.76103973388672, 81.80982971191406, 65.39815521240234, 39.795166015625, 52.33131408691406, 83.69921112060547, 74.32139587402344, 218.57594299316406, 79.57164001464844, 112.55349731445312, 88.87657928466797, 32.45231246948242, 116.98486328125, 199.6446990966797, 117.1113052368164, 135.6215362548828, 47.54833221435547, 46.89531707763672, 207.12615966796875, 107.66181182861328, 100.02131652832031, 256.9474792480469, 105.9309310913086, 192.55755615234375, 200.79591369628906, 224.91883850097656, 36.7152099609375, 693.7335815429688, 145.4306640625, 113.70738220214844, 104.3630599975586, 187.4292449951172, 114.65937042236328, 227.88299560546875, 151.5878448486328, 234.96630859375, 124.17042541503906, 154.44384765625, 524.9774169921875, 145.28445434570312, 117.5066146850586, 117.07672882080078, 139.01437377929688, 116.1898422241211, 143.46302795410156, 121.46944427490234, 127.12216186523438, 0.5038125514984131, 0.5367628931999207, 0.49386709928512573, 0.4812042713165283, 0.48603761196136475, 0.5108373165130615, 0.46720707416534424, 0.700221061706543, 0.47404733300209045, 0.48081740736961365, 0.4594440162181854, 0.687420666217804, 0.7504054307937622, 0.46021321415901184, 0.468294233083725, 0.4633488953113556, 0.4537988603115082, 0.6913515329360962, 0.4560695290565491, 0.7414348125457764, 0.45879027247428894, 0.44715842604637146, 0.9255845546722412, 0.44748514890670776, 0.43248483538627625, 0.4337429106235504, 0.667923092842102, 0.4268500506877899, 0.4294252097606659, 0.4620487093925476, 0.64621502161026, 7.548252582550049, 1497.1070556640625, 73.78775024414062, 116.7229232788086, 250.7886962890625, 57.59123229980469, 55.33753967285156, 132.15753173828125, 65.52379608154297, 28.066614151000977, 108.42833709716797, 149.18931579589844, 75.53485870361328, 149.21678161621094, 256.2164306640625, 14.08691692352295, 66.4495620727539, 15.079779624938965, 38.050071716308594, 52.643524169921875, 57.2691764831543, 232.11624145507812, 55.48918914794922, 23.163450241088867, 32.603824615478516, 210.57275390625, 656.5216064453125, 33.989479064941406, 64.29927062988281, 33.3476676940918, 241.89822387695312, 104.90143585205078, 89.32553100585938, 66.0427474975586, 92.17707824707031, 110.13179779052734, 106.95462036132812, 89.7652816772461, 100.73932647705078, 99.23916625976562, 129.75457763671875, 89.58173370361328, 92.5028076171875, 149.48098754882812, 131.24766540527344, 113.8193130493164, 128.92645263671875, 108.79337310791016, 138.310791015625, 114.83251190185547, 122.77061462402344, 131.40438842773438, 110.32432556152344, 120.367431640625, 121.46979522705078, 109.36993408203125, 0.9170237183570862, 0.586693525314331, 0.560973048210144, 0.5564942955970764, 0.5545859932899475, 0.5521559715270996, 0.5412932634353638, 0.5384316444396973, 0.554246723651886, 0.5344087481498718, 0.5389576554298401, 0.5334581136703491, 0.5187278985977173, 0.5158554911613464, 0.5292322039604187, 0.4975839853286743, 0.5231533646583557, 0.49935585260391235, 0.5227397680282593, 0.6946887373924255, 0.4891638457775116, 0.6938109397888184, 0.4897153973579407, 0.45338940620422363, 0.7028694152832031, 0.7250241637229919, 0.47464409470558167, 0.6619319915771484, 0.47402817010879517, 0.45703646540641785, 0.8978565335273743, 1577.175048828125, 43.20439147949219, 171.100341796875, 21.175872802734375, 60.71665573120117, 204.63673400878906, 86.53791046142578, 211.02627563476562, 43.620277404785156, 68.9235610961914, 739.997802734375, 52.8880615234375, 41.91270065307617, 63.42961120605469, 25.371618270874023, 83.09675598144531, 186.38040161132812, 121.98717498779297, 38.08271789550781, 115.0058822631836, 155.77090454101562, 49.53840637207031, 128.11985778808594, 173.76194763183594, 28.13387680053711, 88.72408294677734, 65.262939453125, 51.82308578491211, 35.51512908935547, 223.66404724121094, 90.2373046875, 123.11434936523438, 107.63116455078125, 200.33047485351562, 193.34837341308594, 83.09552764892578, 125.90538787841797, 129.02992248535156, 114.28927612304688, 125.42860412597656, 147.63525390625, 123.51652526855469, 97.98902130126953, 89.46735382080078, 116.9756088256836, 100.93363952636719, 107.46463012695312, 120.2936019897461, 95.6043472290039, 100.05026245117188, 92.8389663696289, 0.6422228813171387, 0.6198192238807678, 0.6152151226997375, 0.6080925464630127, 0.5995405912399292, 0.8589555621147156, 0.5623321533203125, 0.8693325519561768, 0.5827613472938538, 0.7983934879302979, 0.5706919431686401, 0.4980841279029846, 0.5601921081542969, 0.4906775653362274, 0.7534661889076233, 0.5098756551742554, 0.5044559836387634, 0.520063042640686, 0.49188393354415894, 0.48177629709243774, 0.47753849625587463, 0.530731737613678, 0.49433213472366333, 0.503003716468811, 0.4849642813205719, 0.48348742723464966, 0.7345331907272339, 0.46446022391319275, 0.7595734000205994, 0.48036882281303406, 1.2622188329696655, 0.6966132521629333, 1.674508810043335, 1.367171049118042, 18.68425178527832, 106.08181762695312, 779.043701171875, 174.42059326171875, 64.42208862304688, 34.41189956665039, 80.75096893310547, 68.14181518554688, 83.84783172607422, 143.28065490722656, 225.14312744140625, 66.46997833251953, 16.30471420288086, 83.88047790527344, 78.3989486694336, 36.27838134765625, 61.01844787597656, 65.830810546875, 60.948150634765625, 104.27019500732422, 40.95148468017578, 37.076499938964844, 40.750362396240234, 110.392578125, 63.901123046875, 60.02834701538086, 113.06322479248047, 205.92030334472656, 146.53822326660156, 78.85391235351562, 79.7708511352539, 140.3089141845703, 88.24625396728516, 99.4779281616211, 81.57276153564453, 132.42724609375, 85.92267608642578, 120.44691467285156, 130.2026824951172, 154.5939483642578, 127.23705291748047, 87.44340515136719, 90.71489715576172, 283.78753662109375, 120.89221954345703, 123.09576416015625, 106.8159408569336, 102.58148956298828, 107.93917846679688, 95.15644836425781, 89.94103240966797, 96.2612533569336, 90.7154312133789, 0.5915493369102478, 0.3716461956501007, 0.3630877137184143, 0.3625040352344513, 0.36608245968818665, 0.36997923254966736, 0.36292150616645813, 0.5323715806007385, 0.34974437952041626, 0.5386114716529846, 0.35868480801582336, 0.5208668112754822, 0.35189998149871826, 0.5394771099090576, 0.3485203981399536, 0.3280213475227356, 0.339794397354126, 0.3222978413105011, 0.3468370735645294, 0.3239104151725769, 0.5239164233207703, 0.3224983811378479, 0.4845449924468994, 0.3345244228839874, 0.3369767367839813, 0.6751975417137146, 0.31319448351860046, 0.34397387504577637, 0.32523587346076965, 0.31483906507492065, 0.46535736322402954, 1135.984375, 125.27022552490234, 120.16232299804688, 173.49948120117188, 74.67474365234375, 136.3861083984375, 114.20460510253906, 46.19145584106445, 68.11949920654297, 164.49893188476562, 25.298524856567383, 32.32262420654297, 49.6352653503418, 6.172882556915283, 27.787097930908203, 127.47218322753906, 35.95310592651367, 42.259090423583984, 39.182586669921875, 181.38722229003906, 83.3381118774414, 46.179378509521484, 40.79322052001953, 34.328086853027344, 17.428319931030273, 89.2529296875, 19.275821685791016, 44.498191833496094, 66.8658447265625, 52.2688102722168, 51.319522857666016, 70.64553833007812, 126.33795166015625, 145.27975463867188, 432.44384765625, 96.32317352294922, 93.57705688476562, 65.77117919921875, 122.2823257446289, 120.59303283691406, 107.07999420166016, 104.34088897705078, 139.7229461669922, 54.489501953125, 89.28873443603516, 58.17751693725586, 103.50092315673828, 95.65788269042969, 131.49266052246094, 106.05783081054688, 76.0963363647461, 77.40665435791016, 72.07674407958984, 73.7949447631836, 0.3581448197364807, 0.703001081943512, 0.33091863989830017, 0.6795389652252197, 0.4515515863895416, 0.30751848220825195, 0.6520897150039673, 0.2997613549232483, 0.30882811546325684, 0.2910023331642151, 0.26362696290016174, 0.2897489666938782, 0.4423525631427765, 0.2895359992980957, 0.2639940083026886, 0.2918504774570465, 0.2782031297683716, 0.2609771192073822, 0.28042152523994446, 0.5888924598693848, 0.3769986033439636, 0.393013596534729, 0.25850364565849304, 0.2823232114315033, 0.2749432921409607, 0.2575569748878479, 0.42375218868255615, 0.2682960331439972, 0.38932082056999207, 0.2635594606399536, 0.5308266282081604, 9.397374153137207, 80.22006225585938, 21.455821990966797, 9.849440574645996, 34.19394302368164, 77.21810150146484, 59.933380126953125, 457.31689453125, 154.2722625732422, 60.23112487792969, 114.7587890625, 58.57296371459961, 17.74001693725586, 135.9658966064453, 52.154998779296875, 569.0404052734375, 102.012939453125, 50.27074432373047, 50.650333404541016, 24.51996421813965, 71.73748779296875, 27.33666229248047, 53.55430221557617, 23.660959243774414, 63.87086868286133, 68.28206634521484, 45.092811584472656, 53.30751037597656, 101.42914581298828, 64.8289566040039, 67.02118682861328, 116.6124038696289, 45.584556579589844, 71.51798248291016, 73.08723449707031, 57.771636962890625, 66.25761413574219, 79.35284423828125, 77.31460571289062, 107.91346740722656, 85.3367919921875, 81.29043579101562, 66.74141693115234, 79.53218841552734, 82.64225006103516, 70.27926635742188, 67.43199920654297, 62.21981430053711, 60.24858856201172, 0.33452898263931274, 0.3075799345970154, 0.2883138656616211, 0.2908059060573578, 0.27031266689300537, 0.289568692445755, 0.42609676718711853, 0.27982592582702637, 0.2535562813282013, 0.24914930760860443, 0.4004233181476593, 0.2540808618068695, 1.1727648973464966, 0.25366637110710144, 0.26738134026527405, 0.26813873648643494, 0.24505968391895294, 0.24381038546562195, 0.2550601661205292, 0.5024939179420471, 0.23432251811027527, 0.22813959419727325, 0.22614102065563202, 0.23920001089572906, 0.23158027231693268, 0.2288786917924881, 0.3661437928676605, 0.22387337684631348, 0.35515525937080383, 0.48687508702278137, 1.2200303077697754, 0.857062578201294, 12.970733642578125, 20.877315521240234, 8.303165435791016, 50.366703033447266, 36.63818359375, 131.86587524414062, 89.73507690429688, 340.03729248046875, 15.796781539916992, 38.57505416870117, 3.197864294052124, 3.813361644744873, 85.93767547607422, 12.491278648376465, 12.128057479858398, 21.125059127807617, 77.67726135253906, 51.281917572021484, 29.17455291748047, 11.489673614501953, 23.743377685546875, 90.9072265625, 28.811338424682617, 29.863407135009766, 50.274349212646484, 20.23088836669922, 71.77182006835938, 62.67628860473633, 38.68619155883789, 19.5592041015625, 37.503013610839844, 63.78181838989258, 54.27452087402344, 38.174659729003906, 41.1513786315918, 49.946800231933594, 48.69198226928711, 76.13814544677734, 64.96592712402344, 39.179683685302734, 37.325374603271484, 57.37914276123047, 51.66019058227539, 61.58950424194336, 138.51309204101562, 44.68486785888672, 45.829193115234375, 41.346744537353516, 38.972442626953125, 40.06899642944336, 40.63443374633789, 0.1635858714580536, 0.21658609807491302, 0.1349106729030609, 0.13356873393058777, 0.12387824058532715, 0.12320489436388016, 0.11958077549934387, 0.11701300740242004, 0.10902414470911026, 0.11098306626081467, 0.11050740629434586, 0.17102113366127014, 0.1072932779788971, 0.16406255960464478, 0.221127450466156, 0.10824675112962723, 0.10956229269504547, 0.10188554227352142, 0.11202798038721085, 0.10750970989465714, 0.10723278671503067, 0.10384491831064224, 0.10773390531539917, 0.1037723571062088, 0.10577566921710968, 0.10868066549301147, 0.10756327211856842, 0.1095803827047348, 0.21690033376216888, 0.10429012775421143, 0.26162439584732056, 0.516215443611145, 0.20611834526062012, 18.034589767456055, 0.7063419818878174, 7.51726770401001, 134.69305419921875, 17.547758102416992, 19.269939422607422, 34.76029968261719, 15.193671226501465, 17.741910934448242, 25.01995086669922, 12.63461685180664, 10.167328834533691, 12.746397972106934, 16.15497589111328, 4.624380111694336, 11.240784645080566, 4.896855354309082, 20.204017639160156, 12.80250358581543, 10.878652572631836, 4.648315906524658, 28.91883659362793, 15.872806549072266, 14.0105562210083, 12.741786003112793, 26.123043060302734, 11.995550155639648, 21.90372085571289, 17.343467712402344, 38.14640426635742, 13.457378387451172, 15.037406921386719, 27.71103858947754, 18.99141502380371, 25.999446868896484, 15.757508277893066, 23.89503288269043, 31.10956382751465, 16.109329223632812, 20.23195457458496, 17.030014038085938, 27.19917106628418, 23.71283721923828, 16.5948543548584, 25.00541877746582, 41.98386001586914, 20.123706817626953, 17.97820281982422, 18.14601707458496, 17.842288970947266, 17.162797927856445], \"Term\": [\"b\", \"s\", \"say\", \"will\", \"year\", \"world\", \"us\", \"govern\", \"china\", \"polic\", \"kill\", \"new\", \"state\", \"right\", \"peopl\", \"attack\", \"protest\", \"iran\", \"amp\", \"000\", \"israel\", \"russia\", \"court\", \"war\", \"korea\", \"forc\", \"countri\", \"uk\", \"call\", \"one\", \"shaw\", \"currant\", \"bilal\", \"deceas\", \"methadon\", \"schoolbook\", \"investigatori\", \"newsasia\", \"mesut\", \"genr\", \"shakeup\", \"ozil\", \"bladerunn\", \"phila\", \"gellman\", \"numpti\", \"fadelalah\", \"aftershock\", \"nastas\", \"unionist\", \"malt\", \"griev\", \"enceladu\", \"mahmood\", \"iquiqu\", \"incomplet\", \"351m\", \"sudetenland\", \"villa\", \"chaebol\", \"unesco\", \"wolf\", \"sour\", \"nation\", \"foment\", \"s\", \"hack\", \"made\", \"000\", \"ahead\", \"reject\", \"report\", \"rise\", \"bid\", \"traffick\", \"end\", \"minist\", \"turkish\", \"probe\", \"russian\", \"u\", \"amp\", \"ban\", \"oil\", \"eu\", \"attack\", \"us\", \"drone\", \"suspend\", \"canada\", \"polic\", \"north\", \"children\", \"korea\", \"govern\", \"law\", \"offici\", \"israel\", \"say\", \"year\", \"b\", \"presid\", \"new\", \"kill\", \"peopl\", \"russia\", \"china\", \"iran\", \"state\", \"protest\", \"world\", \"countri\", \"will\", \"war\", \"isra\", \"farmvil\", \"dwarv\", \"stamped\", \"alabama\", \"ware\", \"2b\", \"flander\", \"aint\", \"hyperventil\", \"firewood\", \"gilbert\", \"u212\", \"redress\", \"564\", \"544\", \"caster\", \"albani\", \"menez\", \"pibor\", \"pukkelpop\", \"henin\", \"neoconserv\", \"fijian\", \"damian\", \"reinvest\", \"ladin\", \"jericho\", \"vatileak\", \"na\", \"scammer\", \"mare\", \"hersh\", \"semenya\", \"b\", \"ship\", \"scheme\", \"watch\", \"bnp\", \"human\", \"countri\", \"look\", \"get\", \"fail\", \"gaza\", \"can\", \"israel\", \"see\", \"protest\", \"r\", \"vid\", \"kill\", \"japan\", \"say\", \"iraqi\", \"climat\", \"much\", \"school\", \"today\", \"go\", \"sex\", \"pirat\", \"don\", \"famili\", \"s\", \"land\", \"3\", \"face\", \"peopl\", \"war\", \"accus\", \"new\", \"year\", \"t\", \"arrest\", \"u\", \"china\", \"world\", \"russia\", \"one\", \"presid\", \"000\", \"palestinian\", \"death\", \"govern\", \"us\", \"isra\", \"will\", \"forc\", \"uk\", \"iran\", \"use\", \"2112\", \"illinoi\", \"57m\", \"tantal\", \"qusra\", \"naked\", \"kibosh\", \"splendid\", \"89m\", \"misunderstand\", \"2c\", \"dial\", \"zapatista\", \"arbit\", \"touchscreen\", \"idd\", \"billionth\", \"hopi\", \"khadafi\", \"homocid\", \"giblet\", \"irrit\", \"500bn\", \"lughnasadh\", \"pershmaga\", \"appelbaum\", \"gnocidair\", \"jade\", \"nereu\", \"nse\", \"coupon\", \"aziz\", \"oath\", \"british\", \"spi\", \"snowden\", \"9\", \"nsa\", \"germani\", \"work\", \"china\", \"ukrain\", \"man\", \"show\", \"pro\", \"militari\", \"protest\", \"bank\", \"right\", \"egyptian\", \"system\", \"world\", \"said\", \"human\", \"us\", \"time\", \"will\", \"new\", \"kill\", \"western\", \"s\", \"report\", \"death\", \"two\", \"govern\", \"t\", \"year\", \"war\", \"say\", \"use\", \"peopl\", \"b\", \"countri\", \"call\", \"uk\", \"u\", \"forc\", \"israel\", \"isra\", \"polic\", \"85th\", \"abhinav\", \"149\", \"tourett\", \"lynndi\", \"gori\", \"victimhood\", \"precept\", \"nsgt\", \"bentley\", \"yatsenyuk\", \"anjem\", \"ravi\", \"nfour\", \"abosolv\", \"vanc\", \"quaker\", \"10million\", \"algeri\", \"phelp\", \"geysina\", \"557\", \"relay\", \"coldest\", \"mosab\", \"goudreault\", \"ynet\", \"succinct\", \"arseniy\", \"4x100m\", \"nsoldier\", \"georgian\", \"b\", \"charg\", \"gaza\", \"israel\", \"prime\", \"run\", \"uk\", \"soldier\", \"iraqi\", \"militari\", \"isra\", \"muslim\", \"attack\", \"us\", \"flu\", \"video\", \"idf\", \"riot\", \"britain\", \"stop\", \"year\", \"global\", \"david\", \"cia\", \"kill\", \"s\", \"action\", \"bomb\", \"next\", \"say\", \"korea\", \"court\", \"dead\", \"news\", \"forc\", \"call\", \"time\", \"law\", \"ban\", \"war\", \"two\", \"bank\", \"world\", \"u\", \"state\", \"peopl\", \"one\", \"govern\", \"russia\", \"polic\", \"new\", \"report\", \"protest\", \"will\", \"china\", \"merri\", \"shipbreak\", \"douchebag\", \"dung\", \"supper\", \"kke\", \"lulz\", \"gigolo\", \"ijf\", \"billlionair\", \"adl\", \"ansar\", \"undigest\", \"timezon\", \"rollin\", \"debka\", \"fissur\", \"suigl\", \"chossudovski\", \"haditha\", \"utah\", \"kernel\", \"madeira\", \"oberammergau\", \"paliament\", \"beje\", \"pastel\", \"whine\", \"saar\", \"ezekiel\", \"walter\", \"b\", \"googl\", \"isra\", \"ahmadinejad\", \"public\", \"will\", \"pakistan\", \"govern\", \"street\", \"video\", \"s\", \"iranian\", \"ask\", \"charg\", \"bring\", \"women\", \"new\", \"use\", \"taliban\", \"uk\", \"polic\", \"polit\", \"000\", \"world\", \"commun\", \"man\", \"dead\", \"r\", \"suicid\", \"say\", \"gaza\", \"report\", \"right\", \"us\", \"year\", \"chines\", \"russia\", \"war\", \"state\", \"countri\", \"israel\", \"peopl\", \"call\", \"bank\", \"protest\", \"attack\", \"u\", \"kill\", \"iran\", \"china\", \"forc\", \"doggedli\", \"inver\", \"163m\", \"trickster\", \"hygein\", \"fisherfolk\", \"cromarti\", \"scarewar\", \"kodama\", \"gordo\", \"zuckberg\", \"prude\", \"radioisotop\", \"newsblog\", \"woodi\", \"earnestli\", \"manifold\", \"insignific\", \"dominatrix\", \"ahrc\", \"methink\", \"jiangmen\", \"bordello\", \"lethbridg\", \"guillen\", \"99x\", \"tatarstan\", \"overcentr\", \"improb\", \"roxon\", \"allen\", \"favela\", \"dialect\", \"unicorn\", \"whale\", \"drug\", \"s\", \"polic\", \"month\", \"fukushima\", \"syria\", \"egypt\", \"found\", \"russia\", \"year\", \"internet\", \"indonesia\", \"amp\", \"leader\", \"site\", \"go\", \"muslim\", \"ukrain\", \"call\", \"turkey\", \"caus\", \"demand\", \"one\", \"back\", \"american\", \"state\", \"say\", \"will\", \"arrest\", \"man\", \"china\", \"death\", \"use\", \"two\", \"protest\", \"now\", \"u\", \"new\", \"us\", \"govern\", \"russian\", \"uk\", \"b\", \"israel\", \"kill\", \"peopl\", \"countri\", \"world\", \"attack\", \"forc\", \"war\", \"report\", \"woof\", \"nnew\", \"bruniar\", \"omv\", \"9yo\", \"nonboard\", \"apprent\", \"ratzing\", \"ck\", \"purloin\", \"intruduc\", \"figg\", \"dapper\", \"nynorsk\", \"nayo\", \"437k\", \"marjah\", \"afact\", \"slideshar\", \"primit\", \"hummer\", \"bhl\", \"pine\", \"timores\", \"hubbi\", \"hardship\", \"persianpet\", \"amburn\", \"doomsay\", \"ibiza\", \"ambigu\", \"b\", \"presid\", \"iran\", \"will\", \"day\", \"war\", \"one\", \"top\", \"1\", \"world\", \"respons\", \"suspect\", \"n\", \"swine\", \"pope\", \"polic\", \"terror\", \"compani\", \"border\", \"us\", \"t\", \"work\", \"r\", \"journalist\", \"nazi\", \"right\", \"embassi\", \"parti\", \"nuclear\", \"die\", \"2\", \"time\", \"china\", \"kill\", \"s\", \"attack\", \"state\", \"arrest\", \"new\", \"govern\", \"peopl\", \"countri\", \"year\", \"show\", \"isra\", \"warn\", \"protest\", \"u\", \"say\", \"israel\", \"uk\", \"russia\", \"korea\", \"report\", \"firc\", \"taj\", \"eerili\", \"jelli\", \"sandra\", \"phaedra\", \"a320\", \"franzen\", \"disrepair\", \"exorbit\", \"airtel\", \"abdulateef\", \"sharper\", \"diwali\", \"2g\", \"jubile\", \"hiyam\", \"naegleria\", \"255th\", \"200m\", \"lazcano\", \"depreci\", \"macabr\", \"steward\", \"commodor\", \"plywood\", \"vicin\", \"dishonesti\", \"megan\", \"retd\", \"1954\", \"mumbai\", \"korea\", \"9\", \"hard\", \"famili\", \"north\", \"nuclear\", \"s\", \"us\", \"court\", \"china\", \"un\", \"away\", \"kill\", \"fire\", \"b\", \"polic\", \"women\", \"old\", \"control\", \"uk\", \"demand\", \"south\", \"20\", \"ban\", \"right\", \"make\", \"man\", \"world\", \"call\", \"use\", \"year\", \"may\", \"state\", \"attack\", \"death\", \"one\", \"peopl\", \"countri\", \"say\", \"govern\", \"will\", \"000\", \"new\", \"israel\", \"u\", \"protest\", \"war\", \"iran\", \"haftanin\", \"harem\", \"nigh\", \"ennahda\", \"eng\", \"ramess\", \"parentag\", \"pentawer\", \"alken\", \"m15\", \"nakoula\", \"stoic\", \"mapl\", \"counterargu\", \"heath\", \"staffordshir\", \"telethon\", \"angrier\", \"ceti\", \"plural\", \"15mar2011\", \"defiantli\", \"stainless\", \"tepid\", \"3000th\", \"bachelorhood\", \"muse\", \"12k\", \"teheran\", \"rhinocero\", \"jeddah\", \"syrup\", \"julian\", \"assang\", \"crimea\", \"amp\", \"wikileak\", \"say\", \"will\", \"s\", \"confirm\", \"japan\", \"salari\", \"poach\", \"world\", \"embassi\", \"islamist\", \"least\", \"china\", \"right\", \"egypt\", \"seen\", \"men\", \"year\", \"live\", \"die\", \"iran\", \"tax\", \"new\", \"polic\", \"said\", \"student\", \"court\", \"protest\", \"russia\", \"offici\", \"ban\", \"attack\", \"state\", \"us\", \"israel\", \"first\", \"minist\", \"govern\", \"peopl\", \"kill\", \"b\", \"report\", \"countri\", \"presid\", \"law\", \"000\", \"u\", \"lotto\", \"auf\", \"clapper\", \"keylog\", \"khalfi\", \"semet\", \"affiair\", \"nevil\", \"ohar\", \"codornu\", \"thabo\", \"workday\", \"236\", \"prum\", \"csec\", \"wilshaw\", \"idealist\", \"withstood\", \"hinton\", \"verbal\", \"mathia\", \"afterthought\", \"qalamoun\", \"sunris\", \"novack\", \"redtub\", \"rapidshar\", \"2d\", \"hadopi\", \"disinfect\", \"mont\", \"microphon\", \"populac\", \"syria\", \"bug\", \"turkish\", \"s\", \"amp\", \"minist\", \"govern\", \"1\", \"court\", \"state\", \"egypt\", \"worker\", \"dead\", \"plan\", \"fine\", \"mexico\", \"ebola\", \"right\", \"strike\", \"european\", \"bring\", \"will\", \"man\", \"old\", \"anti\", \"polic\", \"2\", \"000\", \"first\", \"say\", \"power\", \"nuclear\", \"world\", \"forc\", \"china\", \"time\", \"peopl\", \"year\", \"offici\", \"attack\", \"korea\", \"kill\", \"new\", \"russian\", \"us\", \"b\", \"protest\", \"russia\", \"countri\", \"war\", \"israel\"], \"Total\": [11792.0, 8564.0, 2654.0, 1747.0, 2374.0, 1823.0, 2421.0, 1822.0, 1732.0, 1569.0, 2150.0, 1840.0, 1251.0, 1079.0, 1557.0, 1293.0, 1692.0, 1136.0, 773.0, 1253.0, 2020.0, 1369.0, 811.0, 1417.0, 974.0, 1091.0, 1505.0, 1076.0, 1056.0, 1182.0, 3.593367338180542, 2.25136661529541, 2.242218017578125, 3.4636144638061523, 3.3985257148742676, 2.159226179122925, 2.1906075477600098, 2.1885721683502197, 2.186596393585205, 2.1850080490112305, 2.209383010864258, 2.157165765762329, 2.166447639465332, 5.218791484832764, 3.1973917484283447, 2.077608823776245, 2.19073224067688, 3.2365188598632812, 3.932628870010376, 3.2385783195495605, 2.1139512062072754, 4.455966472625732, 2.1461613178253174, 2.0910329818725586, 2.0966367721557617, 2.027223587036133, 2.0878100395202637, 3.2333028316497803, 3.1637332439422607, 2.130052328109741, 35.224082946777344, 11.870649337768555, 6.2885847091674805, 912.5921630859375, 7.537757873535156, 8564.5400390625, 263.9798278808594, 328.8349914550781, 1253.88720703125, 151.13662719726562, 220.2181396484375, 1280.609130859375, 334.6385803222656, 143.26516723632812, 132.116943359375, 576.5446166992188, 880.4501953125, 247.47303771972656, 129.42356872558594, 992.9113159179688, 1542.5174560546875, 773.0636596679688, 979.1538696289062, 684.2569580078125, 488.8604736328125, 1293.460693359375, 2421.7666015625, 249.7522735595703, 140.68020629882812, 591.078125, 1569.208251953125, 1031.36279296875, 680.7697143554688, 974.9512329101562, 1822.2088623046875, 990.2073364257812, 878.90283203125, 2020.6661376953125, 2654.830322265625, 2374.8515625, 11792.5927734375, 1150.497314453125, 1840.8153076171875, 2150.141357421875, 1557.848388671875, 1369.215087890625, 1732.8917236328125, 1136.4803466796875, 1251.173583984375, 1692.925537109375, 1823.911865234375, 1505.7314453125, 1747.238037109375, 1417.033203125, 1287.5833740234375, 2.0300819873809814, 3.04289174079895, 7.081015586853027, 4.134322643280029, 2.04341459274292, 3.0568900108337402, 2.03633189201355, 1.9984519481658936, 1.9891036748886108, 6.106304168701172, 5.635460376739502, 2.9870104789733887, 2.985189199447632, 2.03800368309021, 2.105978488922119, 5.108684539794922, 2.025111198425293, 4.11910343170166, 2.089003086090088, 2.9136691093444824, 1.9853770732879639, 1.9798541069030762, 5.038998126983643, 2.029188632965088, 1.9642322063446045, 2.008948564529419, 2.000776529312134, 1.9856071472167969, 6.134395122528076, 5.114760875701904, 3.188560724258423, 4.204731464385986, 5.001572608947754, 11792.5927734375, 364.78948974609375, 50.920082092285156, 202.12850952148438, 25.436927795410156, 779.9502563476562, 1505.7314453125, 268.83709716796875, 755.3657836914062, 332.95703125, 860.4631958007812, 653.4654541015625, 2020.6661376953125, 297.575927734375, 1692.925537109375, 425.890625, 34.43015670776367, 2150.141357421875, 651.8156127929688, 2654.830322265625, 185.26126098632812, 229.79681396484375, 272.6140441894531, 404.1949462890625, 337.64556884765625, 534.607666015625, 413.8492736816406, 362.6146545410156, 264.57293701171875, 403.19378662109375, 8564.5400390625, 338.1268005371094, 481.23663330078125, 670.2584228515625, 1557.848388671875, 1417.033203125, 521.7286987304688, 1840.8153076171875, 2374.8515625, 981.8802490234375, 798.5533447265625, 1542.5174560546875, 1732.8917236328125, 1823.911865234375, 1369.215087890625, 1182.66455078125, 1150.497314453125, 1253.88720703125, 900.1264038085938, 951.2742309570312, 1822.2088623046875, 2421.7666015625, 1287.5833740234375, 1747.238037109375, 1091.254150390625, 1076.5277099609375, 1136.4803466796875, 1117.7646484375, 1.8029459714889526, 1.8243862390518188, 1.8125592470169067, 1.811298131942749, 1.8329132795333862, 1.8277908563613892, 1.7058403491973877, 1.7797414064407349, 1.811305046081543, 1.8364437818527222, 1.8465523719787598, 2.905172109603882, 1.6912187337875366, 1.6936269998550415, 1.7216556072235107, 1.8429690599441528, 1.6929848194122314, 2.959197759628296, 1.7158119678497314, 1.7243529558181763, 1.8190577030181885, 1.8791403770446777, 1.680872917175293, 1.6807403564453125, 1.9150763750076294, 3.471855401992798, 1.9023869037628174, 4.522383213043213, 1.862147331237793, 1.7106562852859497, 2.951286792755127, 6.6708197593688965, 14.94362735748291, 696.5994873046875, 485.0108337402344, 384.6299133300781, 226.43186950683594, 310.1649169921875, 553.40380859375, 491.18145751953125, 1732.8917236328125, 546.3008422851562, 813.97314453125, 623.4713134765625, 198.66290283203125, 883.8954467773438, 1692.925537109375, 908.2108154296875, 1079.7509765625, 316.9439697265625, 312.4812316894531, 1823.911865234375, 839.4766235351562, 779.9502563476562, 2421.7666015625, 847.6708984375, 1747.238037109375, 1840.8153076171875, 2150.141357421875, 242.53305053710938, 8564.5400390625, 1280.609130859375, 951.2742309570312, 864.1091918945312, 1822.2088623046875, 981.8802490234375, 2374.8515625, 1417.033203125, 2654.830322265625, 1117.7646484375, 1557.848388671875, 11792.5927734375, 1505.7314453125, 1056.5352783203125, 1076.5277099609375, 1542.5174560546875, 1091.254150390625, 2020.6661376953125, 1287.5833740234375, 1569.208251953125, 1.7235970497131348, 1.8459796905517578, 1.7455803155899048, 1.7112582921981812, 1.7539440393447876, 1.8488457202911377, 1.7070295810699463, 2.5585508346557617, 1.7475357055664062, 1.7865984439849854, 1.7311453819274902, 2.590754747390747, 2.8336427211761475, 1.7429057359695435, 1.779089093208313, 1.768424391746521, 1.7326968908309937, 2.64294695854187, 1.7472119331359863, 2.850318193435669, 1.7851871252059937, 1.7467089891433716, 3.6517796516418457, 1.7725180387496948, 1.7266899347305298, 1.7334487438201904, 2.680100202560425, 1.7228566408157349, 1.7335631847381592, 1.8656450510025024, 2.6697583198547363, 37.76952362060547, 11792.5927734375, 489.107177734375, 860.4631958007812, 2020.6661376953125, 405.6058349609375, 395.56915283203125, 1076.5277099609375, 485.0813903808594, 185.26126098632812, 883.8954467773438, 1287.5833740234375, 589.4703369140625, 1293.460693359375, 2421.7666015625, 86.48416137695312, 516.4556884765625, 95.0811538696289, 280.17608642578125, 412.8507995605469, 457.332763671875, 2374.8515625, 441.839599609375, 158.3954620361328, 238.0011749267578, 2150.141357421875, 8564.5400390625, 252.47311401367188, 542.18505859375, 248.66903686523438, 2654.830322265625, 974.9512329101562, 811.40576171875, 562.3526611328125, 873.2491455078125, 1091.254150390625, 1056.5352783203125, 847.6708984375, 990.2073364257812, 979.1538696289062, 1417.033203125, 864.1091918945312, 908.2108154296875, 1823.911865234375, 1542.5174560546875, 1251.173583984375, 1557.848388671875, 1182.66455078125, 1822.2088623046875, 1369.215087890625, 1569.208251953125, 1840.8153076171875, 1280.609130859375, 1692.925537109375, 1747.238037109375, 1732.8917236328125, 2.5171539783477783, 1.7143217325210571, 1.660007119178772, 1.6504584550857544, 1.656734585762024, 1.6879749298095703, 1.6555240154266357, 1.658225178718567, 1.712293028831482, 1.6511534452438354, 1.696651577949524, 1.7008671760559082, 1.6651551723480225, 1.6933451890945435, 1.739282250404358, 1.64444899559021, 1.771480679512024, 1.7070354223251343, 1.806902527809143, 2.4068126678466797, 1.7076090574264526, 2.5302979946136475, 1.7919546365737915, 1.6944621801376343, 2.6285336017608643, 2.71624755859375, 1.7975738048553467, 2.508161783218384, 1.7975494861602783, 1.7413828372955322, 3.5840976238250732, 11792.5927734375, 258.9954528808594, 1287.5833740234375, 128.80580139160156, 431.8826599121094, 1747.238037109375, 653.3965454101562, 1822.2088623046875, 302.67816162109375, 516.4556884765625, 8564.5400390625, 390.08660888671875, 297.59136962890625, 489.107177734375, 167.15550231933594, 686.2852783203125, 1840.8153076171875, 1117.7646484375, 279.6490478515625, 1076.5277099609375, 1569.208251953125, 390.42657470703125, 1253.88720703125, 1823.911865234375, 198.34915161132812, 813.97314453125, 562.3526611328125, 425.890625, 267.53045654296875, 2654.830322265625, 860.4631958007812, 1280.609130859375, 1079.7509765625, 2421.7666015625, 2374.8515625, 783.4981079101562, 1369.215087890625, 1417.033203125, 1251.173583984375, 1505.7314453125, 2020.6661376953125, 1557.848388671875, 1056.5352783203125, 908.2108154296875, 1692.925537109375, 1293.460693359375, 1542.5174560546875, 2150.141357421875, 1136.4803466796875, 1732.8917236328125, 1091.254150390625, 1.8996906280517578, 1.835270881652832, 1.8713068962097168, 1.854225754737854, 1.8416105508804321, 2.701732873916626, 1.824310302734375, 2.8890254497528076, 1.9457664489746094, 2.701273202896118, 1.9360588788986206, 1.7103010416030884, 1.9298105239868164, 1.703895926475525, 2.617093801498413, 1.7872421741485596, 1.7784241437911987, 1.8399477005004883, 1.7518911361694336, 1.7295246124267578, 1.7189500331878662, 1.922305703163147, 1.7925671339035034, 1.8339054584503174, 1.7759305238723755, 1.7871991395950317, 2.7193708419799805, 1.7401785850524902, 2.8465754985809326, 1.8035187721252441, 4.752594470977783, 2.6186723709106445, 6.921590805053711, 5.659402370452881, 109.28794860839844, 817.2109375, 8564.5400390625, 1569.208251953125, 492.9400329589844, 242.2017822265625, 657.92919921875, 540.2451171875, 726.822509765625, 1369.215087890625, 2374.8515625, 563.2369995117188, 106.81462860107422, 773.0636596679688, 719.4721069335938, 285.2452087402344, 534.607666015625, 589.4703369140625, 546.3008422851562, 1056.5352783203125, 341.9617614746094, 304.80865478515625, 343.13427734375, 1182.66455078125, 598.4515380859375, 565.791259765625, 1251.173583984375, 2654.830322265625, 1747.238037109375, 798.5533447265625, 813.97314453125, 1732.8917236328125, 951.2742309570312, 1117.7646484375, 864.1091918945312, 1692.925537109375, 933.3693237304688, 1542.5174560546875, 1840.8153076171875, 2421.7666015625, 1822.2088623046875, 992.9113159179688, 1076.5277099609375, 11792.5927734375, 2020.6661376953125, 2150.141357421875, 1557.848388671875, 1505.7314453125, 1823.911865234375, 1293.460693359375, 1091.254150390625, 1417.033203125, 1280.609130859375, 2.4597344398498535, 1.7146987915039062, 1.6972147226333618, 1.706386685371399, 1.7266192436218262, 1.7803560495376587, 1.756306767463684, 2.5991737842559814, 1.7141354084014893, 2.668586492538452, 1.7816461324691772, 2.5890138149261475, 1.751858115196228, 2.692995309829712, 1.7420059442520142, 1.6483840942382812, 1.7192069292068481, 1.6340999603271484, 1.7627066373825073, 1.6636228561401367, 2.695218324661255, 1.668448805809021, 2.507901906967163, 1.736154317855835, 1.752889633178711, 3.5247013568878174, 1.6442257165908813, 1.8118795156478882, 1.7217826843261719, 1.6773948669433594, 2.5192606449127197, 11792.5927734375, 1150.497314453125, 1136.4803466796875, 1747.238037109375, 717.1429443359375, 1417.033203125, 1182.66455078125, 428.73382568359375, 665.67822265625, 1823.911865234375, 219.84194946289062, 297.7341003417969, 510.2217712402344, 46.952598571777344, 266.07452392578125, 1569.208251953125, 362.37896728515625, 438.2984313964844, 401.4240417480469, 2421.7666015625, 981.8802490234375, 491.18145751953125, 425.890625, 348.9007873535156, 157.75213623046875, 1079.7509765625, 178.0049591064453, 480.7701721191406, 783.4277954101562, 585.1343994140625, 572.5321655273438, 847.6708984375, 1732.8917236328125, 2150.141357421875, 8564.5400390625, 1293.460693359375, 1251.173583984375, 798.5533447265625, 1840.8153076171875, 1822.2088623046875, 1557.848388671875, 1505.7314453125, 2374.8515625, 623.4713134765625, 1287.5833740234375, 687.6781005859375, 1692.925537109375, 1542.5174560546875, 2654.830322265625, 2020.6661376953125, 1076.5277099609375, 1369.215087890625, 974.9512329101562, 1280.609130859375, 1.5873123407363892, 3.3625893592834473, 1.5972247123718262, 3.3602044582366943, 2.347538948059082, 1.6300593614578247, 3.4679417610168457, 1.619367003440857, 1.7062631845474243, 1.6684693098068237, 1.5184226036071777, 1.6702920198440552, 2.551344394683838, 1.690694808959961, 1.5584120750427246, 1.7237062454223633, 1.6432971954345703, 1.5608969926834106, 1.6800804138183594, 3.5336315631866455, 2.2658205032348633, 2.3710741996765137, 1.568854570388794, 1.7209126949310303, 1.6808466911315918, 1.584437370300293, 2.622009754180908, 1.6775683164596558, 2.4593279361724854, 1.6661123037338257, 3.429105043411255, 80.85916900634766, 974.9512329101562, 226.43186950683594, 95.19148254394531, 403.19378662109375, 1031.36279296875, 783.4277954101562, 8564.5400390625, 2421.7666015625, 811.40576171875, 1732.8917236328125, 805.509765625, 201.10919189453125, 2150.141357421875, 707.5562133789062, 11792.5927734375, 1569.208251953125, 686.2852783203125, 695.9729614257812, 298.8951721191406, 1076.5277099609375, 343.13427734375, 766.2294921875, 294.29608154296875, 979.1538696289062, 1079.7509765625, 650.9617309570312, 813.97314453125, 1823.911865234375, 1056.5352783203125, 1117.7646484375, 2374.8515625, 690.5809326171875, 1251.173583984375, 1293.460693359375, 951.2742309570312, 1182.66455078125, 1557.848388671875, 1505.7314453125, 2654.830322265625, 1822.2088623046875, 1747.238037109375, 1253.88720703125, 1840.8153076171875, 2020.6661376953125, 1542.5174560546875, 1692.925537109375, 1417.033203125, 1136.4803466796875, 1.6128919124603271, 1.6752876043319702, 1.603538990020752, 1.6668365001678467, 1.5713222026824951, 1.714843988418579, 2.5582571029663086, 1.7100003957748413, 1.559242844581604, 1.5649601221084595, 2.5164923667907715, 1.6029620170593262, 7.465303897857666, 1.617954969406128, 1.7183451652526855, 1.7237881422042847, 1.6166191101074219, 1.613947868347168, 1.7224150896072388, 3.453937530517578, 1.61741304397583, 1.577256202697754, 1.5793346166610718, 1.679504632949829, 1.661729097366333, 1.6423979997634888, 2.6309053897857666, 1.6146345138549805, 2.5685973167419434, 3.5286548137664795, 9.913339614868164, 6.921053409576416, 146.204345703125, 257.16131591796875, 93.34619903564453, 773.0636596679688, 545.92919921875, 2654.830322265625, 1747.238037109375, 8564.5400390625, 221.909912109375, 651.8156127929688, 33.746925354003906, 41.91084671020508, 1823.911865234375, 178.0049591064453, 174.2769012451172, 348.72821044921875, 1732.8917236328125, 1079.7509765625, 540.2451171875, 172.56239318847656, 427.7213439941406, 2374.8515625, 558.3245849609375, 585.1343994140625, 1136.4803466796875, 359.2359619140625, 1840.8153076171875, 1569.208251953125, 839.4766235351562, 348.29638671875, 811.40576171875, 1692.925537109375, 1369.215087890625, 878.90283203125, 979.1538696289062, 1293.460693359375, 1251.173583984375, 2421.7666015625, 2020.6661376953125, 924.4425048828125, 880.4501953125, 1822.2088623046875, 1557.848388671875, 2150.141357421875, 11792.5927734375, 1280.609130859375, 1505.7314453125, 1150.497314453125, 990.2073364257812, 1253.88720703125, 1542.5174560546875, 1.4489864110946655, 2.3454062938690186, 1.5157650709152222, 1.5821987390518188, 1.5851762294769287, 1.644916296005249, 1.6134895086288452, 1.6245969533920288, 1.5450255870819092, 1.5861570835113525, 1.6066304445266724, 2.49421763420105, 1.5800247192382812, 2.4175069332122803, 3.263099193572998, 1.6054637432098389, 1.6307237148284912, 1.5230748653411865, 1.6747820377349854, 1.620334267616272, 1.6220858097076416, 1.575537085533142, 1.6373257637023926, 1.5880367755889893, 1.6214345693588257, 1.669283390045166, 1.653588891029358, 1.6881844997406006, 3.3567066192626953, 1.6160396337509155, 4.142493724822998, 8.451093673706055, 3.3955233097076416, 657.92919921875, 14.941404342651367, 247.47303771972656, 8564.5400390625, 773.0636596679688, 880.4501953125, 1822.2088623046875, 665.67822265625, 811.40576171875, 1251.173583984375, 540.2451171875, 418.4617614746094, 562.3526611328125, 766.3489379882812, 162.97598266601562, 497.9615173339844, 177.7323455810547, 1079.7509765625, 606.8310546875, 496.2275695800781, 167.15550231933594, 1747.238037109375, 813.97314453125, 695.9729614257812, 615.50390625, 1569.208251953125, 572.5321655273438, 1253.88720703125, 924.4425048828125, 2654.830322265625, 671.7769775390625, 783.4277954101562, 1823.911865234375, 1091.254150390625, 1732.8917236328125, 847.6708984375, 1557.848388671875, 2374.8515625, 878.90283203125, 1293.460693359375, 974.9512329101562, 2150.141357421875, 1840.8153076171875, 992.9113159179688, 2421.7666015625, 11792.5927734375, 1692.925537109375, 1369.215087890625, 1505.7314453125, 1417.033203125, 2020.6661376953125], \"loglift\": [30.0, 29.0, 28.0, 27.0, 26.0, 25.0, 24.0, 23.0, 22.0, 21.0, 20.0, 19.0, 18.0, 17.0, 16.0, 15.0, 14.0, 13.0, 12.0, 11.0, 10.0, 9.0, 8.0, 7.0, 6.0, 5.0, 4.0, 3.0, 2.0, 1.0, 0.9379000067710876, 0.8030999898910522, 0.794700026512146, 0.7925000190734863, 0.7893000245094299, 0.7775999903678894, 0.7652999758720398, 0.7641000151634216, 0.7504000067710876, 0.7494999766349792, 0.7494000196456909, 0.7278000116348267, 0.7204999923706055, 0.7124000191688538, 0.7102000117301941, 0.7045999765396118, 0.7031999826431274, 0.6901999711990356, 0.6729999780654907, 0.6726999878883362, 0.6712999939918518, 0.6672000288963318, 0.663100004196167, 0.6575999855995178, 0.6560999751091003, 0.6556000113487244, 0.6516000032424927, 0.6474000215530396, 0.6463000178337097, 0.6402000188827515, 0.6000000238418579, 0.6200000047683716, 0.6190000176429749, 0.36629998683929443, 0.6007000207901001, 0.21459999680519104, 0.41760000586509705, 0.4004000127315521, 0.31940001249313354, 0.43779999017715454, 0.41370001435279846, 0.28700000047683716, 0.37880000472068787, 0.43149998784065247, 0.42829999327659607, 0.3176000118255615, 0.28220000863075256, 0.3813999891281128, 0.42579999566078186, 0.2567000091075897, 0.2117999941110611, 0.2687999904155731, 0.23800000548362732, 0.26350000500679016, 0.2915000021457672, 0.20350000262260437, 0.14010000228881836, 0.3393999934196472, 0.39579999446868896, 0.25, 0.14659999310970306, 0.1834000051021576, 0.22470000386238098, 0.17890000343322754, 0.10209999978542328, 0.1679999977350235, 0.1809999942779541, 0.05979999899864197, 0.013199999928474426, 0.026200000196695328, -0.23839999735355377, 0.13079999387264252, 0.04360000044107437, 0.013899999670684338, 0.0689999982714653, 0.0754999965429306, 0.01979999989271164, 0.1046999990940094, 0.08139999955892563, -0.030400000512599945, -0.08100000023841858, -0.05119999870657921, -0.14380000531673431, -0.07890000194311142, -0.07069999724626541, 0.847000002861023, 0.8281999826431274, 0.8259999752044678, 0.8069000244140625, 0.8065000176429749, 0.8040000200271606, 0.8009999990463257, 0.8008000254631042, 0.7893000245094299, 0.7882999777793884, 0.7817999720573425, 0.7813000082969666, 0.7799999713897705, 0.7742999792098999, 0.767799973487854, 0.7642999887466431, 0.763700008392334, 0.7580999732017517, 0.7533000111579895, 0.7519999742507935, 0.7495999932289124, 0.7443000078201294, 0.7383000254631042, 0.7346000075340271, 0.7293000221252441, 0.7285000085830688, 0.7232999801635742, 0.7224000096321106, 0.7215999960899353, 0.7211999893188477, 0.7157999873161316, 0.7034000158309937, 0.6941999793052673, 0.36559998989105225, 0.4447000026702881, 0.5612999796867371, 0.4487000107765198, 0.5871999859809875, 0.3409999907016754, 0.2676999866962433, 0.4018000066280365, 0.31709998846054077, 0.3808000087738037, 0.30239999294281006, 0.32179999351501465, 0.22089999914169312, 0.374099999666214, 0.21449999511241913, 0.3310000002384186, 0.5543000102043152, 0.16840000450611115, 0.28690001368522644, 0.13809999823570251, 0.39809998869895935, 0.3749000132083893, 0.3384999930858612, 0.29350000619888306, 0.3131999969482422, 0.25850000977516174, 0.28600001335144043, 0.2978000044822693, 0.33399999141693115, 0.28119999170303345, -0.11640000343322754, 0.29989999532699585, 0.24950000643730164, 0.2003999948501587, 0.0674000009894371, 0.0778999999165535, 0.23479999601840973, 0.026599999517202377, -0.02290000021457672, 0.12039999663829803, 0.15230000019073486, 0.023900000378489494, -0.00419999985024333, -0.03460000082850456, 0.025699999183416367, 0.05779999867081642, 0.05000000074505806, 0.021199999377131462, 0.10279999673366547, 0.08370000123977661, -0.11810000240802765, -0.23770000040531158, -0.02449999935925007, -0.1469999998807907, 0.016499999910593033, -0.016899999231100082, -0.06859999895095825, -0.06360000371932983, 1.3181999921798706, 1.3042999505996704, 1.2903000116348267, 1.2497999668121338, 1.2371000051498413, 1.2245999574661255, 1.223099946975708, 1.2072999477386475, 1.2049000263214111, 1.1845999956130981, 1.1841000318527222, 1.1729999780654907, 1.1705000400543213, 1.1660000085830688, 1.1647000312805176, 1.1509000062942505, 1.127500057220459, 1.1238000392913818, 1.1210999488830566, 1.117900013923645, 1.1088999509811401, 1.1004999876022339, 1.0947999954223633, 1.093500018119812, 1.082200050354004, 1.0672999620437622, 1.0600999593734741, 1.05649995803833, 1.0543999671936035, 1.0501999855041504, 1.0494999885559082, 1.0147000551223755, 0.9047999978065491, 0.5397999882698059, 0.5461000204086304, 0.554099977016449, 0.5871999859809875, 0.5464000105857849, 0.43700000643730164, 0.4375, 0.2554999887943268, 0.399399995803833, 0.3474000096321106, 0.37779998779296875, 0.5139999985694885, 0.303600013256073, 0.1881999969482422, 0.2775000035762787, 0.25119999051094055, 0.42890000343322754, 0.4291999936103821, 0.15049999952316284, 0.2721000015735626, 0.2720000147819519, 0.08250000327825546, 0.24619999527931213, 0.12049999833106995, 0.11020000278949738, 0.06830000132322311, 0.43790000677108765, -0.1873999983072281, 0.15049999952316284, 0.20170000195503235, 0.21199999749660492, 0.051500000059604645, 0.17839999496936798, -0.017999999225139618, 0.09070000052452087, -0.09880000352859497, 0.12839999794960022, 0.014600000344216824, -0.7860000133514404, -0.012500000186264515, 0.12960000336170197, 0.10719999670982361, -0.08070000261068344, 0.0860000029206276, -0.3192000091075897, -0.03500000014901161, -0.18729999661445618, 1.1757999658584595, 1.1706000566482544, 1.1432000398635864, 1.1370999813079834, 1.122499942779541, 1.1195000410079956, 1.1101000308990479, 1.1100000143051147, 1.101199984550476, 1.0931999683380127, 1.079300045967102, 1.0789999961853027, 1.0771000385284424, 1.0742000341415405, 1.0709999799728394, 1.0664000511169434, 1.065999984741211, 1.0648000240325928, 1.0627000331878662, 1.0592000484466553, 1.0470999479293823, 1.0432000160217285, 1.0333000421524048, 1.0292999744415283, 1.021399974822998, 1.020400047302246, 1.0163999795913696, 1.0104999542236328, 1.0103000402450562, 1.01010000705719, 0.9872000217437744, 0.7955999970436096, 0.3418999910354614, 0.5144000053405762, 0.4081000089645386, 0.3192000091075897, 0.4537999927997589, 0.4388999938964844, 0.3082999885082245, 0.40389999747276306, 0.5185999870300293, 0.3075999915599823, 0.25049999356269836, 0.35120001435279846, 0.24609999358654022, 0.15960000455379486, 0.5910999774932861, 0.35530000925064087, 0.5644000172615051, 0.4092999994754791, 0.34630000591278076, 0.32820001244544983, 0.0803999975323677, 0.3310000002384186, 0.48330000042915344, 0.4180000126361847, 0.08229999989271164, -0.16259999573230743, 0.40059998631477356, 0.2736999988555908, 0.396699994802475, 0.010200000368058681, 0.17640000581741333, 0.19930000603199005, 0.2639999985694885, 0.15729999542236328, 0.11240000277757645, 0.11550000309944153, 0.16050000488758087, 0.12039999663829803, 0.11659999936819077, 0.01510000042617321, 0.13930000364780426, 0.12160000205039978, -0.0957999974489212, -0.05829999968409538, 0.00860000029206276, -0.0860000029206276, 0.019700000062584877, -0.17249999940395355, -0.07270000129938126, -0.14219999313354492, -0.23389999568462372, -0.045899998396635056, -0.2379000037908554, -0.26030001044273376, -0.3569999933242798, 1.413599967956543, 1.351099967956543, 1.3385000228881836, 1.3361999988555908, 1.3289999961853027, 1.305899977684021, 1.3055000305175781, 1.2984999418258667, 1.2954000234603882, 1.295300006866455, 1.2766000032424927, 1.2639000415802002, 1.257099986076355, 1.2346999645233154, 1.2336000204086304, 1.2280000448226929, 1.2036999464035034, 1.194200038909912, 1.1830999851226807, 1.180799961090088, 1.173200011253357, 1.1295000314712524, 1.126099944114685, 1.1050000190734863, 1.1044000387191772, 1.1025999784469604, 1.0916999578475952, 1.0911999940872192, 1.090499997138977, 1.0857000350952148, 1.0391000509262085, 0.4115000069141388, 0.6324999928474426, 0.4050999879837036, 0.617900013923645, 0.46140000224113464, 0.27880001068115234, 0.4018000066280365, 0.26750001311302185, 0.4862000048160553, 0.40939998626708984, -0.02539999969303608, 0.4251999855041504, 0.46320000290870667, 0.3806999921798706, 0.538100004196167, 0.31209999322891235, 0.133200004696846, 0.20819999277591705, 0.4296000003814697, 0.18690000474452972, 0.11339999735355377, 0.3589000105857849, 0.14229999482631683, 0.0723000019788742, 0.47029998898506165, 0.2070000022649765, 0.26969999074935913, 0.31700000166893005, 0.4041000008583069, -0.050599999725818634, 0.16830000281333923, 0.08139999955892563, 0.11760000139474869, -0.06889999657869339, -0.08479999750852585, 0.17960000038146973, 0.03689999878406525, 0.02710000053048134, 0.030300000682473183, -0.061900001019239426, -0.1931000053882599, -0.11129999905824661, 0.045499999076128006, 0.10580000281333923, -0.24889999628067017, -0.12720000743865967, -0.24060000479221344, -0.46000000834465027, -0.05209999904036522, -0.4284999966621399, -0.040800001472234726, 1.4508999586105347, 1.4499000310897827, 1.4229999780654907, 1.4205000400543213, 1.4132000207901, 1.3895000219345093, 1.3586000204086304, 1.3344999551773071, 1.329800009727478, 1.316499948501587, 1.3138999938964844, 1.301800012588501, 1.2984999418258667, 1.2905000448226929, 1.2903000116348267, 1.2812000513076782, 1.2754000425338745, 1.2719000577926636, 1.2652000188827515, 1.2573000192642212, 1.2546000480651855, 1.2483999729156494, 1.2472000122070312, 1.2417999505996704, 1.2374000549316406, 1.2280000448226929, 1.2265000343322754, 1.2145999670028687, 1.2143000364303589, 1.212499976158142, 1.2095999717712402, 1.2111999988555908, 1.1162999868392944, 1.11489999294281, 0.76910001039505, 0.4936999976634979, 0.13809999823570251, 0.3386000096797943, 0.5005000233650208, 0.5841000080108643, 0.4377000033855438, 0.4650000035762787, 0.3756999969482422, 0.2782000005245209, 0.17949999868869781, 0.398499995470047, 0.6557999849319458, 0.31450000405311584, 0.31869998574256897, 0.4733000099658966, 0.3650999963283539, 0.3433000147342682, 0.3422999978065491, 0.21969999372959137, 0.413100004196167, 0.4287000000476837, 0.4047999978065491, 0.1639000028371811, 0.29840001463890076, 0.2919999957084656, 0.1315000057220459, -0.021199999377131462, 0.05689999833703041, 0.22020000219345093, 0.2126999944448471, 0.021700000390410423, 0.15780000388622284, 0.11630000174045563, 0.17520000040531158, -0.012799999676644802, 0.1500999927520752, -0.014499999582767487, -0.11339999735355377, -0.2160000056028366, -0.12630000710487366, 0.10580000281333923, 0.0617000013589859, -1.19159996509552, -0.2809000015258789, -0.3249000012874603, -0.1445000022649765, -0.1509999930858612, -0.29170000553131104, -0.07410000264644623, 0.039500001817941666, -0.15379999577999115, -0.11190000176429749, 1.2559000253677368, 1.151900053024292, 1.138800024986267, 1.1318000555038452, 1.1298999786376953, 1.1097999811172485, 1.104200005531311, 1.0952999591827393, 1.0915000438690186, 1.0806000232696533, 1.0780999660491943, 1.0773999691009521, 1.0758999586105347, 1.073099970817566, 1.0717999935150146, 1.066499948501587, 1.0597000122070312, 1.0576000213623047, 1.0551999807357788, 1.044600009918213, 1.0429999828338623, 1.0374000072479248, 1.0369000434875488, 1.0341999530792236, 1.0319000482559204, 1.02839994430542, 1.0226999521255493, 1.0194000005722046, 1.0144000053405762, 1.0080000162124634, 0.9919999837875366, 0.3409999907016754, 0.4634999930858612, 0.4341000020503998, 0.37130001187324524, 0.4187999963760376, 0.3400999903678894, 0.3434000015258789, 0.4528999924659729, 0.40139999985694885, 0.2750999927520752, 0.5188000202178955, 0.46050000190734863, 0.3508000075817108, 0.6520000100135803, 0.42170000076293945, 0.1704999953508377, 0.37049999833106995, 0.3418999910354614, 0.35409998893737793, 0.0892999991774559, 0.21439999341964722, 0.3167000114917755, 0.3352999985218048, 0.3621000051498413, 0.4779999852180481, 0.18790000677108765, 0.4580000042915344, 0.3009999990463257, 0.2198999971151352, 0.265500009059906, 0.2689000070095062, 0.19609999656677246, 0.062300000339746475, -0.013700000010430813, -0.3050000071525574, 0.0835999995470047, 0.08789999783039093, 0.1843000054359436, -0.030700000002980232, -0.03440000116825104, 0.0035000001080334187, 0.011599999852478504, -0.15209999680519104, 0.243599995970726, 0.012299999594688416, 0.2110999971628189, -0.1137000024318695, -0.09950000047683716, -0.32420000433921814, -0.2662999927997589, 0.03139999881386757, -0.19200000166893005, 0.0763000026345253, -0.1729000061750412, 1.4541000127792358, 1.3779000043869019, 1.3688000440597534, 1.344599962234497, 1.2944999933242798, 1.2750999927520752, 1.2718000411987305, 1.2561999559402466, 1.2337000370025635, 1.1965999603271484, 1.1921000480651855, 1.1912000179290771, 1.1907000541687012, 1.1784000396728516, 1.1675000190734863, 1.1670000553131104, 1.1669000387191772, 1.1543999910354614, 1.1526999473571777, 1.1511000394821167, 1.1495000123977661, 1.1456999778747559, 1.139799952507019, 1.1354000568389893, 1.1325000524520874, 1.1261999607086182, 1.1203999519348145, 1.1100000143051147, 1.0996999740600586, 1.0989999771118164, 1.0773999691009521, 0.7907000184059143, 0.4453999996185303, 0.5864999890327454, 0.6744999885559082, 0.475600004196167, 0.35100001096725464, 0.3725000023841858, 0.013000000268220901, 0.18940000236034393, 0.3424000144004822, 0.22830000519752502, 0.32179999351501465, 0.5149000287055969, 0.18209999799728394, 0.3353999853134155, -0.08829999715089798, 0.20970000326633453, 0.32910001277923584, 0.32260000705718994, 0.4424000084400177, 0.2345000058412552, 0.413100004196167, 0.28220000863075256, 0.4221999943256378, 0.21310000121593475, 0.18209999799728394, 0.27320000529289246, 0.21709999442100525, 0.053599998354911804, 0.15199999511241913, 0.12890000641345978, -0.07090000063180923, 0.22499999403953552, 0.08110000193119049, 0.06949999928474426, 0.14169999957084656, 0.061000000685453415, -0.03420000150799751, -0.026200000196695328, -0.259799987077713, -0.11819999665021896, -0.12479999661445618, 0.009800000116229057, -0.1987999975681305, -0.25369998812675476, -0.14569999277591705, -0.2800999879837036, -0.1826999932527542, 0.005799999926239252, 1.6912000179290771, 1.569200038909912, 1.54830002784729, 1.5182000398635864, 1.5041999816894531, 1.4855999946594238, 1.4717999696731567, 1.454200029373169, 1.4479000568389893, 1.4266999959945679, 1.4261000156402588, 1.4222999811172485, 1.4133000373840332, 1.4113999605178833, 1.4038000106811523, 1.403499960899353, 1.3776999711990356, 1.3741999864578247, 1.3543000221252441, 1.3365999460220337, 1.3323999643325806, 1.3308000564575195, 1.3206000328063965, 1.3152999877929688, 1.2935999631881714, 1.2934999465942383, 1.292199969291687, 1.2884999513626099, 1.2856999635696411, 1.2835999727249146, 1.1691999435424805, 1.1754000186920166, 0.8418999910354614, 0.7531999945640564, 0.8446000218391418, 0.5332000255584717, 0.5629000067710876, 0.26190000772476196, 0.2953000068664551, 0.03790000081062317, 0.6218000054359436, 0.43709999322891235, 0.907800018787384, 0.8672000169754028, 0.20909999310970306, 0.6075000166893005, 0.5990999937057495, 0.4603999853134155, 0.15929999947547913, 0.21709999442100525, 0.34549999237060547, 0.5548999905586243, 0.37310001254081726, 0.00139999995008111, 0.3000999987125397, 0.289000004529953, 0.1460999995470047, 0.38749998807907104, 0.01979999989271164, 0.04390000179409981, 0.18700000643730164, 0.3846000134944916, 0.1898999959230423, -0.014499999582767487, 0.03629999980330467, 0.12770000100135803, 0.09480000287294388, 0.010099999606609344, 0.017899999395012856, -0.19550000131130219, -0.17309999465942383, 0.10320000350475311, 0.10350000113248825, -0.193900004029274, -0.1421000063419342, -0.28850001096725464, -1.1799999475479126, -0.09120000153779984, -0.22789999842643738, -0.0617000013589859, 0.029200000688433647, -0.17919999361038208, -0.37229999899864197, 1.9620000123977661, 1.7610000371932983, 1.7242000102996826, 1.6713000535964966, 1.594099998474121, 1.5515999794006348, 1.541100025177002, 1.5125000476837158, 1.4919999837875366, 1.4836000204086304, 1.4664000272750854, 1.4632999897003174, 1.4536000490188599, 1.4529999494552612, 1.4515000581741333, 1.4464999437332153, 1.4429999589920044, 1.438599944114685, 1.438599944114685, 1.430400013923645, 1.426800012588501, 1.423799991607666, 1.4220999479293823, 1.4151999950408936, 1.4134999513626099, 1.4114999771118164, 1.410599946975708, 1.4084999561309814, 1.4040000438690186, 1.4026999473571777, 1.381100058555603, 1.3476999998092651, 1.3415000438690186, 0.5464000105857849, 1.0915000438690186, 0.6491000056266785, -0.009100000374019146, 0.3578000068664551, 0.321399986743927, 0.18389999866485596, 0.36329999566078186, 0.3203999996185303, 0.23109999299049377, 0.38769999146461487, 0.42579999566078186, 0.3564000129699707, 0.28380000591278076, 0.5809999704360962, 0.3522999882698059, 0.5515999794006348, 0.16459999978542328, 0.28459998965263367, 0.3230000138282776, 0.5608000159263611, 0.04190000146627426, 0.20589999854564667, 0.23770000040531158, 0.26570001244544983, 0.04769999906420708, 0.2777000069618225, 0.09589999914169312, 0.1673000007867813, -0.09950000047683716, 0.23280000686645508, 0.19009999930858612, -0.043699998408555984, 0.09210000187158585, -0.05620000138878822, 0.15809999406337738, -0.0340999998152256, -0.19189999997615814, 0.14399999380111694, -0.014600000344216824, 0.0957999974489212, -0.22689999639987946, -0.2087000012397766, 0.05169999971985817, -0.42989999055862427, -1.4946999549865723, -0.2890999913215637, -0.18960000574588776, -0.275299996137619, -0.23149999976158142, -0.6251999735832214], \"logprob\": [30.0, 29.0, 28.0, 27.0, 26.0, 25.0, 24.0, 23.0, 22.0, 21.0, 20.0, 19.0, 18.0, 17.0, 16.0, 15.0, 14.0, 13.0, 12.0, 11.0, 10.0, 9.0, 8.0, 7.0, 6.0, 5.0, 4.0, 3.0, 2.0, 1.0, -10.924500465393066, -11.526900291442871, -11.539299964904785, -11.10669994354248, -11.128899574279785, -11.594200134277344, -11.592100143432617, -11.594200134277344, -11.608799934387207, -11.610400199890137, -11.599499702453613, -11.645000457763672, -11.64799976348877, -10.776900291442871, -11.269100189208984, -11.70580005645752, -11.654199600219727, -11.276800155639648, -11.099200248718262, -11.293700218200684, -11.721699714660645, -10.98009967803955, -11.714799880981445, -11.746299743652344, -11.745100021362305, -11.77929973602295, -11.753800392150879, -11.320699691772461, -11.343500137329102, -11.745200157165527, -8.9798002243042, -10.04740047454834, -10.683799743652344, -5.959000110626221, -10.520899772644043, -3.8715999126434326, -7.1479997634887695, -6.9456000328063965, -5.688199996948242, -7.6855998039245605, -7.333199977874756, -5.69950008392334, -6.949699878692627, -7.7453999519348145, -7.829500198364258, -6.466899871826172, -6.07889986038208, -7.248899936676025, -7.852700233459473, -5.9842000007629395, -5.588600158691406, -6.222300052642822, -6.016900062561035, -6.349699974060059, -6.657899856567383, -5.7729997634887695, -5.209199905395508, -7.281599998474121, -7.799300193786621, -6.5096001625061035, -5.636600017547607, -6.019499778747559, -6.393599987030029, -6.0802998542785645, -5.531599998474121, -6.0756001472473145, -6.18179988861084, -5.470600128173828, -5.244200229644775, -5.342700004577637, -4.004700183868408, -5.962800025939941, -5.579999923706055, -5.4542999267578125, -5.721499919891357, -5.843999862670898, -5.6641998291015625, -6.001200199127197, -5.928299903869629, -5.737800121307373, -5.713900089263916, -5.875699996948242, -5.819499969482422, -5.964099884033203, -6.051700115203857, -11.58650016784668, -11.200499534606934, -10.358099937438965, -10.915399551391602, -11.620400428771973, -11.220100402832031, -11.629400253295898, -11.648300170898438, -11.66450023651123, -10.543999671936035, -10.630599975585938, -11.265999794006348, -11.267900466918945, -11.65530014038086, -11.628999710083008, -10.746299743652344, -11.672200202941895, -10.96780014038086, -11.65149974822998, -11.320099830627441, -11.706199645996094, -11.714300155639648, -10.78600025177002, -11.699299812316895, -11.737199783325195, -11.715399742126465, -11.724699974060059, -11.73330020904541, -10.606100082397461, -10.788200378417969, -11.266200065612793, -11.001899719238281, -10.837599754333496, -3.400700092315674, -6.797500133514404, -8.649999618530273, -7.383999824523926, -9.31820011138916, -6.141300201416016, -5.55679988861084, -7.145699977874756, -6.197199821472168, -6.9527997970581055, -6.081699848175049, -6.337500095367432, -5.309500217437744, -7.071800231933594, -5.4928998947143555, -6.756400108337402, -9.048299789428711, -5.299900054931641, -6.374800205230713, -5.11929988861084, -7.521699905395508, -7.329400062561035, -7.195000171661377, -6.846099853515625, -7.006400108337402, -6.601500034332275, -6.830100059509277, -6.950399875640869, -7.229400157928467, -6.860899925231934, -4.202600002288818, -7.018199920654297, -6.715700149536133, -6.433499813079834, -5.723100185394287, -5.807400226593018, -6.649600028991699, -5.59689998626709, -5.39169979095459, -6.131700038909912, -6.30649995803833, -5.776500225067139, -5.688199996948242, -5.667399883270264, -5.893899917602539, -6.008200168609619, -6.043499946594238, -5.986299991607666, -6.236199855804443, -6.200099945068359, -5.7519001960754395, -5.586999893188477, -6.005499839782715, -5.822800159454346, -6.130000114440918, -6.177000045776367, -6.1743998527526855, -6.186100006103516, -11.234000205993652, -11.236000061035156, -11.256500244140625, -11.297699928283691, -11.298500061035156, -11.313899993896484, -11.384300231933594, -11.357799530029297, -11.342599868774414, -11.349100112915039, -11.344099998474121, -10.902000427246094, -11.445599555969238, -11.448699951171875, -11.433600425720215, -11.379199981689453, -11.487600326538086, -10.93280029296875, -11.480500221252441, -11.478799819946289, -11.434300422668457, -11.410300254821777, -11.527400016784668, -11.528800010681152, -11.409600257873535, -10.82960033416748, -11.438300132751465, -10.576000213623047, -11.465499877929688, -11.554499626159668, -11.00979995727539, -10.229100227355957, -9.532500267028809, -6.055600166320801, -6.411300182342529, -6.635200023651123, -7.131899833679199, -6.858099937438965, -6.388500213623047, -6.507299900054932, -5.428500175476074, -6.439000129699707, -6.092299938201904, -6.328400135040283, -7.335899829864502, -6.053599834442139, -5.519100189208984, -6.052599906921387, -5.905799865722656, -6.95389986038208, -6.967800140380859, -5.482399940490723, -6.13670015335083, -6.210299968719482, -5.2667999267578125, -6.152900218963623, -5.555300235748291, -5.513400077819824, -5.399899959564209, -7.212500095367432, -4.273600101470947, -5.835999965667725, -6.082099914550781, -6.167799949645996, -5.582300186157227, -6.073699951171875, -5.3867998123168945, -5.79449987411499, -5.356200218200684, -5.99399995803833, -5.775899887084961, -4.552299976348877, -5.836999893188477, -6.049200057983398, -6.0528998374938965, -5.881100177764893, -6.060500144958496, -5.849599838256836, -6.015999794006348, -5.9704999923706055, -11.421299934387207, -11.35789966583252, -11.441200256347656, -11.46720027923584, -11.457200050354004, -11.407400131225586, -11.496700286865234, -11.092100143432617, -11.482199668884277, -11.468000411987305, -11.513500213623047, -11.110600471496582, -11.022899627685547, -11.511799812316895, -11.494400024414062, -11.505000114440918, -11.525799751281738, -11.104900360107422, -11.520899772644043, -11.034899711608887, -11.514900207519531, -11.540599822998047, -10.81309986114502, -11.539899826049805, -11.574000358581543, -11.571000099182129, -11.139300346374512, -11.5871000289917, -11.581100463867188, -11.507800102233887, -11.17240047454834, -8.714400291442871, -3.424499988555908, -6.434599876403809, -5.975900173187256, -5.211100101470947, -6.682400226593018, -6.722300052642822, -5.8516998291015625, -6.553299903869629, -7.401199817657471, -6.049699783325195, -5.730500221252441, -6.411099910736084, -5.730299949645996, -5.189700126647949, -8.090499877929688, -6.539299964904785, -8.02239990234375, -7.096799850463867, -6.772200107574463, -6.688000202178955, -5.28849983215332, -6.719600200653076, -7.593200206756592, -7.251299858093262, -5.385900020599365, -4.248799800872803, -7.209700107574463, -6.572199821472168, -7.228799819946289, -5.247200012207031, -6.082699775695801, -6.243500232696533, -6.545400142669678, -6.211999893188477, -6.03410005569458, -6.063300132751465, -6.238500118255615, -6.123199939727783, -6.138199806213379, -5.870100021362305, -6.240600109100342, -6.208499908447266, -5.728600025177002, -5.858699798583984, -6.001100063323975, -5.876500129699707, -6.046299934387207, -5.80620002746582, -5.992300033569336, -5.9253997802734375, -5.857500076293945, -6.032299995422363, -5.945199966430664, -5.936100006103516, -6.040999889373779, -10.804800033569336, -11.251399993896484, -11.296299934387207, -11.304300308227539, -11.307700157165527, -11.312100410461426, -11.331999778747559, -11.337300300598145, -11.308300018310547, -11.344799995422363, -11.336299896240234, -11.346599578857422, -11.374600410461426, -11.38010025024414, -11.354499816894531, -11.416199684143066, -11.366100311279297, -11.412599563598633, -11.366900444030762, -11.082500457763672, -11.433199882507324, -11.083700180053711, -11.432100296020508, -11.509200096130371, -11.070799827575684, -11.03969955444336, -11.463399887084961, -11.130800247192383, -11.464699745178223, -11.501199722290039, -10.825900077819824, -3.35479998588562, -6.952199935913086, -5.575900077819824, -7.665299892425537, -6.611999988555908, -5.396900177001953, -6.257599830627441, -5.366199970245361, -6.942699909210205, -6.485199928283691, -4.111499786376953, -6.75, -6.982600212097168, -6.56820011138916, -7.484499931335449, -6.2982001304626465, -5.4903998374938965, -5.914299964904785, -7.078400135040283, -5.973199844360352, -5.6697998046875, -6.815400123596191, -5.865200042724609, -5.560500144958496, -7.381199836730957, -6.232600212097168, -6.53980016708374, -6.770299911499023, -7.148200035095215, -5.308000087738037, -6.215700149536133, -5.905099868774414, -6.0395002365112305, -5.4182000160217285, -5.453700065612793, -6.2982001304626465, -5.882599830627441, -5.858099937438965, -5.979400157928467, -5.88640022277832, -5.723400115966797, -5.901800155639648, -6.133299827575684, -6.224299907684326, -5.956200122833252, -6.103700160980225, -6.040999889373779, -5.928199768066406, -6.1579999923706055, -6.112500190734863, -6.187300205230713, -11.04889965057373, -11.084500312805176, -11.091899871826172, -11.103599548339844, -11.11769962310791, -10.758199691772461, -11.18179988861084, -10.746199607849121, -11.146100044250488, -10.831299781799316, -11.166999816894531, -11.303099632263184, -11.185600280761719, -11.318099975585938, -10.889200210571289, -11.27970027923584, -11.290399551391602, -11.259900093078613, -11.315600395202637, -11.336400032043457, -11.345199584960938, -11.23960018157959, -11.310700416564941, -11.293299674987793, -11.32979965209961, -11.332900047302246, -10.914600372314453, -11.373000144958496, -10.881099700927734, -11.339300155639648, -10.373299598693848, -10.967599868774414, -10.09060001373291, -10.293399810791016, -7.678400039672852, -5.94189977645874, -3.9481000900268555, -5.444699764251709, -6.440700054168701, -7.067699909210205, -6.214799880981445, -6.384500026702881, -6.17710018157959, -5.641300201416016, -5.1894001960754395, -6.40939998626709, -7.814700126647949, -6.176700115203857, -6.24429988861084, -7.014900207519531, -6.494900226593018, -6.419000148773193, -6.496099948883057, -5.959099769592285, -6.893700122833252, -6.993100166320801, -6.89870023727417, -5.902100086212158, -6.448800086975098, -6.511300086975098, -5.878200054168701, -5.278600215911865, -5.618800163269043, -6.238500118255615, -6.2270002365112305, -5.662300109863281, -6.125999927520752, -6.006199836730957, -6.204599857330322, -5.720099925994873, -6.152699947357178, -5.814899921417236, -5.736999988555908, -5.565299987792969, -5.7600998878479, -6.1350998878479, -6.098400115966797, -4.957900047302246, -5.811200141906738, -5.7932000160217285, -5.934999942779541, -5.975500106811523, -5.924600124359131, -6.050600051879883, -6.10699987411499, -6.039100170135498, -6.098400115966797, -10.985600471496582, -11.450400352478027, -11.473699569702148, -11.475299835205078, -11.465499877929688, -11.454899787902832, -11.474200248718262, -11.090999603271484, -11.511199951171875, -11.079400062561035, -11.485899925231934, -11.112899780273438, -11.505000114440918, -11.077799797058105, -11.514699935913086, -11.575300216674805, -11.539999961853027, -11.592900276184082, -11.519499778747559, -11.587900161743164, -11.107000350952148, -11.592300415039062, -11.185199737548828, -11.555700302124023, -11.548399925231934, -10.853400230407715, -11.621500015258789, -11.527799606323242, -11.583800315856934, -11.616299629211426, -11.225600242614746, -3.4254000186920166, -5.630099773406982, -5.671800136566162, -5.3043999671936035, -6.147500038146973, -5.545100212097168, -5.722599983215332, -6.627799987792969, -6.239299774169922, -5.357699871063232, -7.229899883270264, -6.984799861907959, -6.5559000968933105, -8.640399932861328, -7.136000156402588, -5.61269998550415, -6.878399848937988, -6.716800212860107, -6.792399883270264, -5.260000228881836, -6.037700176239014, -6.6280999183654785, -6.752099990844727, -6.924600124359131, -7.602499961853027, -5.969099998474121, -7.501800060272217, -6.665200233459473, -6.257900238037109, -6.504199981689453, -6.522500038146973, -6.202899932861328, -5.621699810028076, -5.48199987411499, -4.391200065612793, -5.892899990081787, -5.921800136566162, -6.274400234222412, -5.654300212860107, -5.6682000160217285, -5.7870001792907715, -5.812900066375732, -5.520999908447266, -6.462600231170654, -5.968699932098389, -6.39709997177124, -5.821000099182129, -5.899799823760986, -5.581699848175049, -5.796599864959717, -6.128600120544434, -6.111499786376953, -6.1828999519348145, -6.159299850463867, -11.2253999710083, -10.550999641418457, -11.304499626159668, -10.58489990234375, -10.993599891662598, -11.377799987792969, -10.626199722290039, -11.403300285339355, -11.373499870300293, -11.432999610900879, -11.531800270080566, -11.437299728393555, -11.014200210571289, -11.43809986114502, -11.530400276184082, -11.430100440979004, -11.477999687194824, -11.541899681091309, -11.470000267028809, -10.728099822998047, -11.174099922180176, -11.132499694824219, -11.551400184631348, -11.463299751281738, -11.489800453186035, -11.555100440979004, -11.05720043182373, -11.514200210571289, -11.141900062561035, -11.532099723815918, -10.831899642944336, -7.958099842071533, -5.813799858093262, -7.132599830627441, -7.911200046539307, -6.666500091552734, -5.851900100708008, -6.105299949645996, -4.073200225830078, -5.159900188446045, -6.100399971008301, -5.455699920654297, -6.128300189971924, -7.322800159454346, -5.286200046539307, -6.2444000244140625, -3.854599952697754, -5.573500156402588, -6.281199932098389, -6.273600101470947, -6.999100208282471, -5.925600051879883, -6.8902997970581055, -6.217899799346924, -7.034800052642822, -6.0416998863220215, -5.974899768829346, -6.389900207519531, -6.222499847412109, -5.57919979095459, -6.026800155639648, -5.993599891662598, -5.439700126647949, -6.379000186920166, -5.928599834442139, -5.906899929046631, -6.142099857330322, -6.005000114440918, -5.824699878692627, -5.8506999015808105, -5.517199993133545, -5.751999855041504, -5.800600051879883, -5.997799873352051, -5.822400093078613, -5.78410005569458, -5.946100234985352, -5.987500190734863, -6.06790018081665, -6.100100040435791, -10.972299575805664, -11.056300163269043, -11.121000289916992, -11.11240005493164, -11.185500144958496, -11.116700172424316, -10.730400085449219, -11.150899887084961, -11.249500274658203, -11.267000198364258, -10.792499542236328, -11.247400283813477, -9.717900276184082, -11.24899959564209, -11.196399688720703, -11.193599700927734, -11.283599853515625, -11.288700103759766, -11.243599891662598, -10.565500259399414, -11.328399658203125, -11.35509967803955, -11.363900184631348, -11.30780029296875, -11.340100288391113, -11.351900100708008, -10.881999969482422, -11.37399959564209, -10.912500381469727, -10.597000122070312, -9.678400039672852, -10.031499862670898, -7.314599990844727, -6.838600158691406, -7.760700225830078, -5.958000183105469, -6.276199817657471, -4.995500087738037, -5.38040018081665, -4.0482001304626465, -7.117499828338623, -6.224699974060059, -8.714799880981445, -8.538800239562988, -5.423699855804443, -7.35230016708374, -7.381800174713135, -6.8267998695373535, -5.524700164794922, -5.940000057220459, -6.504000186920166, -7.4359002113342285, -6.710000038146973, -5.367499828338623, -6.516499996185303, -6.4807000160217285, -5.959799766540527, -6.870100021362305, -5.603799819946289, -5.739299774169922, -6.221799850463867, -6.903900146484375, -6.252900123596191, -5.721799850463867, -5.883200168609619, -6.235099792480469, -6.159999847412109, -5.966300010681152, -5.991799831390381, -5.5447998046875, -5.703400135040283, -6.209099769592285, -6.257599830627441, -5.827600002288818, -5.932600021362305, -5.756800174713135, -4.946300029754639, -6.077700138092041, -6.0524001121521, -6.155300140380859, -6.214399814605713, -6.186699867248535, -6.172699928283691, -10.808699607849121, -10.52810001373291, -11.001399993896484, -11.01140022277832, -11.086799621582031, -11.09220027923584, -11.122099876403809, -11.143799781799316, -11.214500427246094, -11.196700096130371, -11.201000213623047, -10.764300346374512, -11.230500221252441, -10.805800437927246, -10.50730037689209, -11.221599578857422, -11.209600448608398, -11.28219985961914, -11.187299728393555, -11.228500366210938, -11.231100082397461, -11.263199806213379, -11.226400375366211, -11.263899803161621, -11.24470043182373, -11.217599868774414, -11.227999687194824, -11.209400177001953, -10.526599884033203, -11.258899688720703, -10.339200019836426, -9.659500122070312, -10.57759952545166, -6.105999946594238, -9.345999717712402, -6.981100082397461, -4.095300197601318, -6.133399963378906, -6.03980016708374, -5.44980001449585, -6.277400016784668, -6.122399806976318, -5.778600215911865, -6.461900234222412, -6.679100036621094, -6.453100204467773, -6.216100215911865, -7.4670000076293945, -6.578800201416016, -7.4096999168396, -5.992400169372559, -6.448699951171875, -6.611499786376953, -7.4618000984191895, -5.633800029754639, -6.233699798583984, -6.358500003814697, -6.453400135040283, -5.735499858856201, -6.513800144195557, -5.911600112915039, -6.145100116729736, -5.356900215148926, -6.398799896240234, -6.287799835205078, -5.676499843597412, -6.054299831390381, -5.740200042724609, -6.241000175476074, -5.8246002197265625, -5.560800075531006, -6.218900203704834, -5.991000175476074, -6.163300037384033, -5.695099830627441, -5.832300186157227, -6.189199924468994, -5.779200077056885, -5.261000156402588, -5.996399879455566, -6.109099864959717, -6.099899768829346, -6.116700172424316, -6.155600070953369]}, \"token.table\": {\"Topic\": [1, 2, 3, 4, 5, 6, 7, 8, 9, 10, 1, 2, 3, 4, 5, 6, 7, 8, 9, 10, 4, 6, 1, 2, 8, 1, 2, 3, 4, 5, 6, 7, 8, 9, 10, 1, 2, 3, 4, 5, 6, 7, 8, 9, 10, 1, 2, 8, 3, 2, 3, 1, 2, 3, 4, 5, 6, 7, 8, 9, 10, 1, 2, 2, 3, 4, 3, 1, 2, 3, 4, 5, 6, 7, 8, 9, 10, 1, 2, 8, 4, 1, 2, 3, 4, 5, 6, 7, 8, 9, 10, 1, 2, 3, 4, 5, 6, 7, 8, 9, 10, 5, 1, 1, 2, 3, 4, 5, 6, 7, 8, 9, 10, 1, 2, 3, 4, 5, 6, 7, 8, 9, 10, 2, 2, 2, 1, 2, 3, 6, 2, 2, 1, 2, 3, 4, 5, 6, 7, 8, 9, 10, 1, 2, 3, 4, 5, 6, 7, 8, 9, 10, 4, 5, 1, 2, 3, 4, 5, 6, 7, 8, 9, 10, 3, 6, 3, 1, 2, 3, 4, 5, 6, 7, 8, 9, 10, 1, 2, 3, 4, 5, 6, 7, 8, 9, 10, 1, 2, 3, 4, 5, 6, 7, 8, 9, 10, 1, 2, 3, 4, 5, 6, 7, 8, 9, 10, 1, 1, 2, 3, 4, 5, 6, 7, 8, 9, 10, 1, 2, 3, 5, 1, 2, 3, 4, 5, 6, 7, 8, 9, 10, 1, 2, 3, 4, 5, 6, 7, 8, 9, 10, 1, 2, 3, 4, 5, 6, 7, 8, 9, 10, 1, 2, 3, 4, 5, 6, 7, 8, 9, 10, 2, 5, 1, 2, 3, 4, 5, 6, 7, 8, 9, 10, 1, 3, 5, 1, 1, 2, 3, 4, 5, 6, 7, 8, 1, 2, 3, 4, 5, 6, 7, 8, 9, 10, 1, 2, 3, 4, 5, 6, 7, 8, 9, 10, 1, 2, 3, 4, 5, 6, 7, 8, 9, 10, 1, 2, 3, 4, 5, 6, 7, 8, 9, 10, 1, 2, 3, 4, 5, 6, 7, 8, 9, 10, 1, 2, 3, 4, 5, 6, 7, 8, 9, 10, 1, 2, 3, 4, 5, 6, 7, 8, 9, 10, 1, 2, 3, 4, 5, 6, 7, 8, 9, 10, 1, 2, 3, 4, 5, 6, 7, 8, 9, 10, 1, 2, 1, 2, 3, 4, 5, 6, 7, 8, 9, 10, 1, 1, 2, 3, 4, 5, 6, 7, 8, 9, 10, 1, 2, 3, 4, 5, 6, 7, 8, 9, 10, 1, 2, 3, 4, 5, 6, 7, 8, 9, 10, 1, 2, 3, 4, 5, 6, 7, 8, 9, 10, 5, 1, 2, 3, 4, 5, 6, 7, 8, 9, 10, 1, 2, 3, 4, 5, 6, 7, 8, 9, 10, 1, 2, 3, 4, 5, 6, 7, 8, 9, 10, 1, 2, 3, 4, 5, 6, 7, 8, 9, 10, 1, 2, 3, 4, 5, 6, 7, 8, 9, 10, 1, 2, 3, 4, 5, 6, 7, 8, 9, 10, 1, 2, 3, 4, 5, 6, 7, 8, 9, 10, 1, 2, 3, 1, 2, 3, 4, 5, 6, 7, 8, 9, 10, 1, 2, 3, 4, 5, 6, 7, 8, 9, 10, 6, 1, 2, 1, 2, 1, 2, 3, 4, 5, 6, 7, 8, 9, 10, 1, 2, 3, 4, 5, 6, 7, 8, 9, 10, 1, 2, 3, 4, 5, 6, 7, 8, 9, 10, 1, 2, 3, 4, 5, 6, 7, 8, 9, 10, 1, 1, 2, 3, 4, 5, 6, 7, 8, 9, 10, 1, 3, 1, 2, 4, 5, 6, 1, 2, 3, 4, 5, 6, 7, 8, 9, 10, 6, 1, 2, 3, 4, 5, 6, 7, 8, 9, 10, 5, 1, 2, 3, 4, 5, 6, 7, 8, 9, 10, 1, 2, 3, 4, 5, 6, 7, 8, 9, 10, 5, 2, 6, 1, 2, 3, 4, 5, 6, 7, 8, 9, 10, 1, 2, 3, 4, 5, 6, 7, 8, 9, 10, 1, 2, 3, 4, 5, 6, 7, 8, 9, 10, 1, 2, 3, 4, 5, 6, 7, 8, 9, 10, 1, 1, 2, 3, 4, 5, 6, 7, 8, 9, 10, 1, 2, 3, 4, 5, 6, 7, 8, 9, 10, 1, 2, 3, 4, 5, 6, 7, 8, 9, 10, 1, 2, 3, 4, 5, 6, 7, 8, 9, 10, 1, 1, 2, 3, 4, 5, 6, 7, 8, 9, 10, 1, 2, 3, 4, 5, 6, 7, 8, 9, 10, 2, 6, 1, 7, 1, 2, 1, 2, 3, 4, 5, 6, 7, 8, 9, 10, 1, 2, 3, 4, 5, 6, 7, 8, 9, 10, 1, 2, 3, 1, 2, 3, 4, 5, 6, 7, 8, 9, 10, 6, 5, 2, 1, 2, 3, 4, 5, 6, 7, 8, 9, 10, 1, 2, 3, 4, 6, 1, 2, 3, 4, 5, 6, 7, 8, 9, 10, 1, 2, 3, 4, 5, 6, 7, 8, 9, 10, 1, 2, 3, 4, 5, 6, 7, 8, 9, 10, 1, 2, 3, 4, 5, 6, 7, 8, 9, 10, 1, 1, 1, 2, 3, 4, 5, 6, 7, 8, 9, 1, 2, 3, 4, 5, 6, 7, 8, 9, 10, 1, 2, 3, 4, 5, 6, 7, 8, 9, 10, 3, 5, 1, 2, 4, 1, 2, 3, 4, 5, 6, 7, 8, 9, 10, 3, 1, 2, 3, 4, 5, 6, 7, 8, 9, 10, 1, 2, 3, 4, 5, 6, 7, 8, 9, 10, 6, 4, 1, 2, 3, 4, 5, 6, 7, 8, 9, 10, 1, 2, 1, 2, 3, 4, 5, 6, 7, 8, 9, 10, 5, 1, 3, 1, 2, 3, 4, 5, 6, 7, 8, 9, 10, 1, 2, 7, 2, 1, 2, 3, 1, 3, 1, 2, 3, 4, 5, 6, 7, 8, 9, 10, 1, 7, 6, 2, 3, 1, 2, 3, 4, 5, 6, 7, 8, 9, 10, 5, 3, 1, 6, 1, 1, 2, 3, 4, 5, 6, 7, 8, 9, 10, 1, 6, 1, 2, 3, 4, 5, 6, 7, 8, 9, 10, 6, 1, 1, 1, 2, 3, 4, 5, 6, 7, 8, 9, 10, 1, 2, 3, 4, 5, 6, 7, 8, 9, 10, 1, 2, 3, 4, 5, 6, 7, 8, 9, 10, 3, 1, 2, 3, 4, 5, 6, 7, 8, 9, 10, 1, 2, 3, 4, 5, 6, 7, 8, 9, 10, 1, 2, 3, 4, 5, 6, 7, 8, 9, 10, 1, 2, 3, 6, 1, 2, 3, 4, 5, 6, 7, 8, 9, 10, 1, 2, 3, 4, 5, 6, 7, 9, 1, 8, 2, 1, 6, 1, 2, 3, 4, 5, 6, 7, 8, 9, 10, 1, 2, 3, 4, 5, 6, 7, 8, 9, 10, 5, 3, 3, 1, 2, 3, 4, 5, 6, 7, 8, 9, 10, 5, 1, 6, 1, 2, 3, 4, 5, 6, 7, 8, 9, 10, 2, 1, 2, 3, 4, 5, 6, 7, 8, 9, 10, 1, 2, 3, 4, 5, 6, 7, 8, 9, 10, 1, 2, 3, 4, 5, 6, 7, 8, 9, 10, 1, 2, 3, 4, 5, 6, 7, 8, 9, 10, 6, 1, 2, 3, 4, 5, 6, 7, 8, 9, 10, 1, 2, 3, 4, 5, 6, 7, 8, 9, 10, 5, 1, 2, 3, 4, 5, 6, 7, 8, 9, 10, 1, 1, 2, 3, 4, 5, 6, 7, 8, 9, 10, 1, 1, 2, 3, 4, 5, 6, 7, 8, 9, 10, 6, 1, 2, 3, 5, 6, 9, 1, 2, 1, 2, 3, 4, 5, 6, 7, 8, 9, 10, 1, 2, 3, 4, 5, 6, 7, 8, 9, 10, 1, 2, 5, 1, 1, 1, 2, 3, 4, 5, 6, 7, 8, 9, 10, 1, 2, 3, 4, 5, 6, 9, 10, 1, 2, 3, 4, 5, 6, 7, 8, 9, 10, 1, 2, 3, 4, 5, 6, 7, 8, 9, 10, 3, 1, 2, 3, 1, 2, 3, 4, 5, 6, 7, 8, 9, 10, 1, 2, 3, 4, 5, 6, 7, 8, 9, 10, 1, 2, 3, 4, 5, 6, 7, 8, 9, 1, 2, 1, 2, 3, 4, 5, 6, 7, 8, 9, 10, 1, 2, 3, 4, 5, 6, 7, 8, 9, 10, 1, 2, 5, 7, 3, 2, 1, 1, 2, 3, 4, 5, 6, 7, 8, 9, 10, 1, 2, 3, 4, 5, 6, 7, 8, 9, 10, 2, 3, 1, 2, 3, 4, 5, 6, 7, 8, 9, 10, 1, 2, 3, 4, 5, 6, 7, 8, 9, 10, 1, 1, 2, 3, 4, 5, 6, 7, 8, 9, 10, 1, 2, 3, 4, 5, 6, 7, 8, 9, 10, 1, 2, 3, 4, 5, 6, 7, 8, 9, 10, 1, 2, 3, 4, 5, 6, 7, 8, 9, 10, 2, 4, 1, 2, 3, 4, 5, 6, 7, 8, 9, 10, 1, 1, 7, 1, 2, 3, 4, 5, 6, 7, 8, 1, 2, 3, 4, 5, 6, 7, 8, 9, 10, 1, 2, 3, 4, 5, 6, 7, 8, 9, 10, 1, 2, 3, 4, 5, 6, 7, 8, 9, 10, 1, 2, 3, 4, 5, 6, 7, 8, 9, 10, 1, 1, 2, 3, 4, 5, 6, 7, 8, 9, 10, 1, 2, 3, 4, 5, 6, 7, 8, 9, 10, 1, 5, 2, 1, 2, 3, 4, 5, 6, 7, 8, 9, 10, 1, 2, 3, 4, 5, 6, 7, 8, 9, 10, 3, 1, 4, 1, 2, 1, 2, 3, 4, 5, 6, 7, 8, 9, 10, 1, 2, 3, 4, 5, 6, 7, 8, 9, 10, 1, 9, 1, 2, 3, 4, 5, 6, 7, 8, 9, 10, 1, 2, 3, 4, 5, 6, 7, 8, 9, 10, 1, 2, 3, 4, 5, 6, 7, 8, 9, 10, 1, 2, 3, 4, 5, 6, 7, 8, 9, 10, 1, 1, 2, 3, 4, 5, 6, 7, 8, 9, 10, 4, 1, 2, 3, 4, 5, 6, 7, 8, 9, 10, 1, 2, 3, 4, 5, 6, 7, 8, 9, 10, 1, 2, 3, 4, 5, 6, 7, 8, 9, 10, 1, 2, 3, 4, 5, 6, 7, 8, 9, 10, 1, 2, 3, 4, 5, 6, 7, 8, 9, 10, 1, 1, 2, 3, 4, 5, 6, 7, 8, 9, 10, 2, 1, 7, 3, 1, 2, 3, 4, 5, 6, 7, 8, 9, 10, 6, 2, 7, 1, 4, 2, 2, 1, 2, 3, 4, 5, 6, 7, 8, 9, 10, 2, 4, 1, 2, 3, 4, 5, 6, 7, 8, 9, 10, 1, 2, 3, 4, 5, 6, 7, 8, 9, 10, 1, 3, 1, 2, 3, 4, 5, 6, 7, 8, 9, 10, 1, 2, 3, 4, 5, 6, 7, 8, 9, 10, 1, 2, 3, 4, 5, 6, 7, 8, 9, 10, 5, 1, 2, 3, 4, 5, 6, 7, 8, 9, 10, 1, 2, 3, 4, 5, 6, 7, 8, 9, 10, 1, 2, 3, 4, 5, 6, 7, 8, 9, 10, 1, 2, 3, 4, 5, 6, 7, 8, 9, 10, 1, 2, 3, 4, 5, 6, 7, 8, 9, 10, 1, 2, 3, 4, 5, 6, 7, 8, 9, 1, 2, 3, 4, 5, 6, 7, 8, 9, 10, 1, 2, 1, 2, 6, 1, 2, 3, 4, 5, 6, 7, 8, 9, 10, 1, 2, 3, 4, 5, 6, 7, 8, 9, 10, 1, 1, 2, 3, 4, 5, 6, 7, 8, 9, 10, 1, 2, 3, 4, 5, 6, 7, 8, 9, 10, 1, 2, 7, 1, 2, 3, 4, 5, 6, 7, 8, 9, 10, 1, 2, 1, 1, 2, 3, 4, 5, 6, 7, 8, 9, 10, 5, 1, 2, 3, 4, 5, 6, 7, 8, 9, 10, 1, 2, 3, 4, 5, 6, 7, 8, 9, 10, 1, 2, 3, 4, 5, 6, 7, 8, 9, 10, 1, 2, 3, 4, 5, 6, 7, 8, 9, 10, 1, 2, 3, 1, 2, 3, 4, 5, 6, 7, 8, 9, 10, 1, 2, 3, 4, 5, 6, 7, 8, 9, 10, 3, 1, 2, 4, 5, 1, 2, 3, 4, 5, 6, 7, 8, 9, 10, 1, 2, 3, 4, 5, 6, 7, 8, 9, 10, 1, 2, 3, 4, 5, 6, 7, 8, 9, 10, 1, 2, 3, 4, 5, 6, 7, 8, 9, 10, 1, 2, 3, 4, 5, 6, 7, 8, 9, 10, 1, 1, 2, 3, 4, 5, 6, 7, 8, 9, 10, 5, 1, 2, 3, 4, 5, 6, 7, 8, 9, 10, 1, 2, 3, 4, 5, 6, 7, 8, 9, 10, 1, 2, 3, 4, 5, 6, 7, 8, 10, 1, 2, 3, 4, 5, 6, 7, 8, 9, 10, 1, 2, 3, 5, 6, 9, 1, 2, 3, 4, 5, 6, 7, 8, 9, 10, 1, 2, 3, 4, 5, 6, 7, 8, 9, 10, 2, 5, 8, 1, 2, 3, 4, 5, 6, 7, 8, 9, 10, 3, 1, 6, 1, 2, 3, 4, 5, 6, 7, 8, 9, 10, 2, 1, 2, 3, 4, 5, 6, 7, 8, 9, 10, 1, 2, 3, 4, 5, 6, 7, 8, 9, 10, 5, 1, 2, 3, 4, 5, 6, 7, 8, 9, 10, 1, 2, 3, 4, 5, 6, 7, 8, 9, 10, 3, 1, 2, 3, 4, 5, 6, 7, 8, 9, 10, 6, 1, 2, 3, 4, 5, 6, 7, 8, 9, 10, 1, 2, 3, 4, 5, 6, 7, 8, 9, 10, 1, 2, 3, 4, 5, 6, 7, 8, 9, 10, 1, 2, 3, 4, 5, 6, 7, 8, 9, 10, 2, 1, 2, 3, 4, 5, 6, 7, 8, 9, 10, 1, 2, 3, 4, 5, 6, 7, 8, 9, 10, 1, 2, 3, 4, 5, 6, 7, 8, 9, 10, 5, 1, 2, 3, 4, 5, 6, 7, 8, 9, 1, 2, 3, 6, 1, 1, 2, 3, 4, 5, 6, 7, 8, 9, 10, 1, 2, 3, 4, 5, 6, 7, 8, 9, 10, 2, 1, 1, 2, 3, 4, 5, 6, 7, 8, 9, 1, 2, 3, 4, 5, 6, 7, 8, 9, 10, 1, 1, 2, 5, 1, 2, 3, 4, 5, 6, 7, 8, 9, 10, 2, 1, 2, 3, 4, 5, 6, 7, 8, 9, 10, 1, 2, 3, 4, 5, 6, 7, 8, 9, 10, 1, 2, 3, 4, 5, 6, 7, 8, 9, 10, 1, 2, 3, 4, 5, 6, 7, 8, 9, 10, 5, 1, 2, 3, 4, 5, 6, 7, 8, 9, 10, 1, 2, 3, 4, 5, 6, 7, 8, 9, 10, 1, 2, 3, 4, 5, 6, 1, 2, 3, 4, 5, 6, 7, 8, 9, 10, 6, 7, 1, 2, 3, 4, 5, 6, 7, 8, 9, 10, 1, 1, 2, 3, 4, 5, 6, 7, 8, 9, 10, 1, 2, 3, 4, 5, 6, 7, 8, 9, 10, 1, 2, 3, 4, 5, 6, 7, 8, 9, 10, 2, 4, 3, 1, 6], \"Freq\": [0.3477186858654022, 0.22091300785541534, 0.0709792748093605, 0.061409033834934235, 0.10208255052566528, 0.05582639202475548, 0.03828095644712448, 0.05343383178114891, 0.0319007970392704, 0.017545437440276146, 0.23434746265411377, 0.198293998837471, 0.10665813833475113, 0.06008909270167351, 0.09313809126615524, 0.07811582088470459, 0.10215145349502563, 0.05858686566352844, 0.04356459155678749, 0.022533409297466278, 0.37836551666259766, 0.5343858599662781, 0.29162126779556274, 0.29162126779556274, 0.29162126779556274, 0.27422040700912476, 0.239287868142128, 0.0838380828499794, 0.06462518870830536, 0.06462518870830536, 0.06986507028341293, 0.08907796442508698, 0.05938531085848808, 0.03318590670824051, 0.02095952071249485, 0.20727425813674927, 0.20047837495803833, 0.1359175443649292, 0.09514228254556656, 0.07815258949995041, 0.0679587721824646, 0.06116289272904396, 0.08155052363872528, 0.05436701700091362, 0.01698969304561615, 0.28299498558044434, 0.28299498558044434, 0.28299498558044434, 0.5546478033065796, 0.32712987065315247, 0.5415497422218323, 0.24935758113861084, 0.27844929695129395, 0.09143111109733582, 0.08727515488862991, 0.06441737711429596, 0.06649535149335861, 0.06441737711429596, 0.03740363568067551, 0.04779353365302086, 0.014545858837664127, 0.4789707660675049, 0.47483864426612854, 0.49067625403404236, 0.551706075668335, 0.5801820158958435, 0.5520881414413452, 0.19431893527507782, 0.20756796002388, 0.17665357887744904, 0.09274312853813171, 0.07507777214050293, 0.06624509394168854, 0.048579733818769455, 0.09274312853813171, 0.026498036459088326, 0.013249018229544163, 0.2883554697036743, 0.2883554697036743, 0.2883554697036743, 0.5417177677154541, 0.2070041447877884, 0.2740887999534607, 0.0881684273481369, 0.10158536583185196, 0.08625172823667526, 0.08625172823667526, 0.06325126439332962, 0.0517510361969471, 0.026833869516849518, 0.015333639457821846, 0.23368825018405914, 0.24953152239322662, 0.10298126190900803, 0.1346677988767624, 0.05941226705908775, 0.06337308138608932, 0.0396081767976284, 0.05545144900679588, 0.0396081767976284, 0.01584327034652233, 0.5893961787223816, 0.6179478764533997, 0.3903752565383911, 0.15879671275615692, 0.07278183102607727, 0.07278183102607727, 0.08601488918066025, 0.07278183102607727, 0.04631570726633072, 0.04631570726633072, 0.03969917818903923, 0.019849589094519615, 0.2561996281147003, 0.20185425877571106, 0.06210900470614433, 0.07763625681400299, 0.16303613781929016, 0.06987263262271881, 0.08539988100528717, 0.031054502353072166, 0.031054502353072166, 0.015527251176536083, 0.5003873109817505, 0.4837551712989807, 0.4938000440597534, 0.21041138470172882, 0.21041138470172882, 0.21041138470172882, 0.21041138470172882, 0.3969418704509735, 0.5519130825996399, 0.21916209161281586, 0.23330159485340118, 0.0901392474770546, 0.09897643327713013, 0.07246489077806473, 0.1060461774468422, 0.06539513915777206, 0.0530230887234211, 0.04595334455370903, 0.014139490202069283, 0.33114996552467346, 0.14229099452495575, 0.09184236824512482, 0.06467773020267487, 0.0789068266749382, 0.10865858197212219, 0.05820995569229126, 0.03751308098435402, 0.06467773020267487, 0.023283980786800385, 0.38598790764808655, 0.5879353880882263, 0.2778211534023285, 0.18034003674983978, 0.126725435256958, 0.08610830456018448, 0.08448362350463867, 0.05848866328597069, 0.0617380328476429, 0.05848866328597069, 0.04549118131399155, 0.021120905876159668, 0.2880304157733917, 0.2880304157733917, 0.590448796749115, 0.22415535151958466, 0.2517051696777344, 0.06762228161096573, 0.0726313441991806, 0.09391983598470688, 0.09892889857292175, 0.08264945447444916, 0.05509963631629944, 0.04132472723722458, 0.01252264529466629, 0.2654646933078766, 0.2016187459230423, 0.06384593993425369, 0.11425062268972397, 0.1411331295967102, 0.057125311344861984, 0.0705665647983551, 0.04704437404870987, 0.02688249945640564, 0.01344124972820282, 0.2605368494987488, 0.13221272826194763, 0.12054689973592758, 0.12832412123680115, 0.08166080713272095, 0.08554941415786743, 0.0466633178293705, 0.05055192857980728, 0.08166080713272095, 0.011665829457342625, 0.3100210130214691, 0.15075835585594177, 0.08736252784729004, 0.11519484221935272, 0.07808509469032288, 0.0734463781118393, 0.07421949505805969, 0.056437741965055466, 0.03865598887205124, 0.015462394803762436, 0.42636534571647644, 0.2337038815021515, 0.2436487376689911, 0.10939330607652664, 0.07458634674549103, 0.07458634674549103, 0.06961392611265182, 0.04972423240542412, 0.08950361609458923, 0.039779383689165115, 0.014917269349098206, 0.14990662038326263, 0.29981324076652527, 0.29981324076652527, 0.14990662038326263, 0.1991080343723297, 0.3117210865020752, 0.04451947286725044, 0.12694409489631653, 0.1337280124425888, 0.024082913994789124, 0.0963316559791565, 0.048250626772642136, 0.011787059716880322, 0.003561557736247778, 0.26234370470046997, 0.21054336428642273, 0.09691678732633591, 0.05681328848004341, 0.09524580836296082, 0.10694266110658646, 0.06683916598558426, 0.05347133055329323, 0.040103498846292496, 0.013367832638323307, 0.3206850290298462, 0.1695341318845749, 0.07966061681509018, 0.10110770165920258, 0.08068190515041351, 0.06434126943349838, 0.06536255776882172, 0.06536255776882172, 0.041872888803482056, 0.010212899185717106, 0.25324517488479614, 0.18167588114738464, 0.12882471084594727, 0.10239913314580917, 0.09799487143754959, 0.07707461714744568, 0.06606395542621613, 0.044042639434337616, 0.03413304314017296, 0.015414923429489136, 0.36815494298934937, 0.36815494298934937, 0.39088356494903564, 0.13960127532482147, 0.08376076817512512, 0.06980063766241074, 0.07678069919347763, 0.06980063766241074, 0.06282057613134384, 0.04188038408756256, 0.048860445618629456, 0.013960127718746662, 0.44598695635795593, 0.5906727313995361, 0.60563725233078, 0.461585134267807, 0.11793877184391022, 0.39312922954559326, 0.039312925189733505, 0.07862585037946701, 0.15725170075893402, 0.039312925189733505, 0.07862585037946701, 0.039312925189733505, 0.21579347550868988, 0.23423737287521362, 0.09590820968151093, 0.11804087460041046, 0.08853065967559814, 0.07561993598937988, 0.06639799475669861, 0.070086769759655, 0.022132664918899536, 0.012910720892250538, 0.23416633903980255, 0.20925502479076385, 0.10462751239538193, 0.07473394274711609, 0.07971620559692383, 0.09964524954557419, 0.09715411812067032, 0.047331493347883224, 0.034875839948654175, 0.014946787618100643, 0.19742095470428467, 0.1854560524225235, 0.12563152611255646, 0.07777189463376999, 0.1495613306760788, 0.07777189463376999, 0.05982453376054764, 0.06580698490142822, 0.0358947217464447, 0.02991226688027382, 0.21315206587314606, 0.20588551461696625, 0.08962075412273407, 0.12837567925453186, 0.09930948168039322, 0.07508765906095505, 0.07750984281301498, 0.06297674775123596, 0.036332737654447556, 0.012110913172364235, 0.2196384072303772, 0.23542940616607666, 0.16795878112316132, 0.07321280241012573, 0.08326161652803421, 0.04737298935651779, 0.07751943916082382, 0.05742180347442627, 0.027275357395410538, 0.011484361253678799, 0.26771244406700134, 0.13385622203350067, 0.13385622203350067, 0.06692811101675034, 0.06692811101675034, 0.13385622203350067, 0.06692811101675034, 0.06692811101675034, 0.06692811101675034, 0.06692811101675034, 0.2451408952474594, 0.1864585131406784, 0.11168581247329712, 0.10127442330121994, 0.0927560105919838, 0.09843495488166809, 0.052056945860385895, 0.06152184680104256, 0.03596661612391472, 0.015143838711082935, 0.15456058084964752, 0.29840904474258423, 0.11630301177501678, 0.06886362284421921, 0.09946968406438828, 0.08263634890317917, 0.08569695800542831, 0.03519696369767189, 0.041318174451589584, 0.016833331435918808, 0.32483014464378357, 0.20132702589035034, 0.09643395245075226, 0.06090565398335457, 0.08459118753671646, 0.08459118753671646, 0.06767295300960541, 0.040603768080472946, 0.02537735551595688, 0.016918238252401352, 0.19574511051177979, 0.39149022102355957, 0.2001255452632904, 0.2526175081729889, 0.08529941737651825, 0.0820186659693718, 0.07545717805624008, 0.12138763070106506, 0.07545717805624008, 0.04921120032668114, 0.042649708688259125, 0.01640373282134533, 0.4694720208644867, 0.24534499645233154, 0.17991966009140015, 0.06746987253427505, 0.15129607915878296, 0.12880612909793854, 0.06746987253427505, 0.06746987253427505, 0.04702445864677429, 0.0327126681804657, 0.012267249636352062, 0.31581899523735046, 0.2497173398733139, 0.09401123225688934, 0.054350242018699646, 0.06757057458162308, 0.06610164791345596, 0.054350242018699646, 0.05288131907582283, 0.03525421395897865, 0.008813553489744663, 0.2579503357410431, 0.21524715423583984, 0.1263783574104309, 0.06290064007043839, 0.057707011699676514, 0.08078981190919876, 0.07271083444356918, 0.06636305898427963, 0.04501146823167801, 0.01500382274389267, 0.28206831216812134, 0.20293603837490082, 0.08296127617359161, 0.07785596698522568, 0.10593516379594803, 0.07019799947738647, 0.06892167031764984, 0.0523294173181057, 0.03828981891274452, 0.017868582159280777, 0.5534332990646362, 0.23109129071235657, 0.21428465843200684, 0.12604980170726776, 0.13865478336811066, 0.07983154058456421, 0.07142821699380875, 0.050419919192790985, 0.046218257397413254, 0.03361327946186066, 0.012604979798197746, 0.24804522097110748, 0.3133202791213989, 0.07833006978034973, 0.06962672621011734, 0.05657171458005905, 0.06962672621011734, 0.052220046520233154, 0.052220046520233154, 0.04351670295000076, 0.017406681552529335, 0.2924136519432068, 0.15629005432128906, 0.09074906259775162, 0.07562422007322311, 0.14116521179676056, 0.06554099172353745, 0.06554099172353745, 0.04537453129887581, 0.040332917124032974, 0.020166458562016487, 0.24412590265274048, 0.21902884542942047, 0.09810666739940643, 0.08441736549139023, 0.07985426485538483, 0.07529116421937943, 0.09582512080669403, 0.047912560403347015, 0.03878635913133621, 0.015970854088664055, 0.20729131996631622, 0.18475966155529022, 0.08562032878398895, 0.11716466397047043, 0.09463299810886383, 0.09463299810886383, 0.0675949975848198, 0.058582331985235214, 0.07210133224725723, 0.022531665861606598, 0.2007392793893814, 0.23085016012191772, 0.09367832541465759, 0.08698701858520508, 0.08698701858520508, 0.08364136517047882, 0.08029571175575256, 0.08364136517047882, 0.04014785587787628, 0.016728272661566734, 0.23975059390068054, 0.2829189896583557, 0.0962987095117569, 0.06641290336847305, 0.08301613479852676, 0.06840529292821884, 0.06906942278146744, 0.05113793537020683, 0.03054993599653244, 0.011954323388636112, 0.3388352394104004, 0.3388352394104004, 0.3388352394104004, 0.2625073790550232, 0.1762373447418213, 0.11708075553178787, 0.10968618094921112, 0.059156592935323715, 0.0776430293917656, 0.05422687530517578, 0.07394573837518692, 0.04683230072259903, 0.022183721885085106, 0.364235520362854, 0.12855370342731476, 0.07498966157436371, 0.08570247143507004, 0.07498966157436371, 0.09641528129577637, 0.03213842585682869, 0.03213842585682869, 0.08570247143507004, 0.02142561785876751, 0.5481523871421814, 0.30645713210105896, 0.30645713210105896, 0.4441746473312378, 0.4928078055381775, 0.23359255492687225, 0.13257955014705658, 0.11995293200016022, 0.14520618319511414, 0.08207305520772934, 0.08838637173175812, 0.0631331205368042, 0.06944643706083298, 0.04419318586587906, 0.02525324933230877, 0.24820713698863983, 0.19661352038383484, 0.09342628717422485, 0.08087648451328278, 0.08924301713705063, 0.07529879361391068, 0.10458166152238846, 0.05577688664197922, 0.03764939680695534, 0.01812748797237873, 0.17604611814022064, 0.24717585742473602, 0.09424690902233124, 0.1173640787601471, 0.11558583378791809, 0.06579501181840897, 0.05512554943561554, 0.05868203938007355, 0.04623433202505112, 0.02311716601252556, 0.2186540812253952, 0.2354736328125, 0.11983925849199295, 0.06622695922851562, 0.08620017021894455, 0.0925074964761734, 0.07463673502206802, 0.06097085028886795, 0.03574153408408165, 0.011563437059521675, 0.5774314999580383, 0.18068727850914001, 0.2331448793411255, 0.1020008847117424, 0.06120052933692932, 0.07868639379739761, 0.1194867491722107, 0.08451502025127411, 0.07868639379739761, 0.03788604214787483, 0.02040017768740654, 0.34421369433403015, 0.34421369433403015, 0.28895092010498047, 0.14447546005249023, 0.14447546005249023, 0.14447546005249023, 0.28895092010498047, 0.2033720761537552, 0.2546423673629761, 0.07519640028476715, 0.10766757279634476, 0.07519640028476715, 0.07690540701150894, 0.08886846899986267, 0.05297928303480148, 0.051270272582769394, 0.013672072440385818, 0.5264015197753906, 0.2154415398836136, 0.30237409472465515, 0.10583093017339706, 0.08693254739046097, 0.06047481670975685, 0.0831528753042221, 0.05669514089822769, 0.04535611346364021, 0.037796761840581894, 0.011339028365910053, 0.6024070382118225, 0.35635310411453247, 0.14013886451721191, 0.10810712724924088, 0.06806744635105133, 0.08007935434579849, 0.08408331871032715, 0.040039677172899246, 0.07207141816616058, 0.028027772903442383, 0.02402380481362343, 0.26431363821029663, 0.19945891201496124, 0.09911761432886124, 0.08320984989404678, 0.08565720170736313, 0.12970946729183197, 0.04772329702973366, 0.039157576858997345, 0.03426288068294525, 0.017131440341472626, 0.6058922410011292, 0.6572695374488831, 0.5595212578773499, 0.23068395256996155, 0.16879314184188843, 0.11815519630908966, 0.10127588361501694, 0.07314369082450867, 0.11815519630908966, 0.07314369082450867, 0.03938506543636322, 0.05063794180750847, 0.028132189065217972, 0.1813991367816925, 0.23137645423412323, 0.11291170865297318, 0.06478540599346161, 0.10180564224720001, 0.1258687973022461, 0.044424280524253845, 0.05923237279057503, 0.05367933586239815, 0.024063151329755783, 0.1798425167798996, 0.2618759274482727, 0.15144632756710052, 0.08518856018781662, 0.07256802916526794, 0.09465395659208298, 0.05048210918903351, 0.04417184367775917, 0.04101671278476715, 0.022085921838879585, 0.2471841275691986, 0.22471283376216888, 0.06741385161876678, 0.07303167134523392, 0.05617820844054222, 0.07864949107170105, 0.10673859715461731, 0.05056038871407509, 0.06741385161876678, 0.022471284493803978, 0.4659481942653656, 0.346894234418869, 0.16997817158699036, 0.09713038057088852, 0.0763167291879654, 0.0763167291879654, 0.057237546890974045, 0.06417543441057205, 0.05203413590788841, 0.0381583645939827, 0.01907918229699135, 0.3375196158885956, 0.20660291612148285, 0.09409637749195099, 0.09409637749195099, 0.045002616941928864, 0.053184907883405685, 0.059321630746126175, 0.053184907883405685, 0.038865894079208374, 0.01841016113758087, 0.25593096017837524, 0.21562688052654266, 0.11486665159463882, 0.0906841978430748, 0.08262338489294052, 0.05239531397819519, 0.08060817420482635, 0.04836490750312805, 0.03828888386487961, 0.022167248651385307, 0.2058907300233841, 0.26407724618911743, 0.10443732887506485, 0.08653378486633301, 0.10443732887506485, 0.08951771259307861, 0.06564632058143616, 0.031331200152635574, 0.03729904815554619, 0.011935695074498653, 0.4564683735370636, 0.22525429725646973, 0.3153560161590576, 0.07808815687894821, 0.0690779834985733, 0.08409493416547775, 0.051057640463113785, 0.07508476078510284, 0.045050859451293945, 0.039044078439474106, 0.012013562023639679, 0.19841575622558594, 0.28770285844802856, 0.09672768414020538, 0.06944551318883896, 0.0793663039803505, 0.07688610255718231, 0.06448511779308319, 0.08432669937610626, 0.01736137829720974, 0.02232177183032036, 0.49259093403816223, 0.38187289237976074, 0.386247456073761, 0.386247456073761, 0.1984521448612213, 0.3969042897224426, 0.2577066719532013, 0.20248381793498993, 0.10430984944105148, 0.08590222895145416, 0.08590222895145416, 0.07363048195838928, 0.07363048195838928, 0.05522286146879196, 0.03681524097919464, 0.0306793674826622, 0.26146331429481506, 0.1865576207637787, 0.090452179312706, 0.08903886377811432, 0.10599864274263382, 0.090452179312706, 0.0508793480694294, 0.0734923928976059, 0.045226089656353, 0.0084798913449049, 0.16376517713069916, 0.49129554629325867, 0.16376517713069916, 0.25312551856040955, 0.2314908653497696, 0.09302904456853867, 0.09951943904161453, 0.07788477838039398, 0.07139438390731812, 0.06490398198366165, 0.04759625345468521, 0.04218759015202522, 0.018389461562037468, 0.37013280391693115, 0.5644994974136353, 0.49107909202575684, 0.24281902611255646, 0.1503165364265442, 0.10406529903411865, 0.16187934577465057, 0.09250248968601227, 0.05781405419111252, 0.09250248968601227, 0.05781405419111252, 0.023125622421503067, 0.023125622421503067, 0.39799633622169495, 0.13266544044017792, 0.13266544044017792, 0.13266544044017792, 0.13266544044017792, 0.2419234812259674, 0.21993044018745422, 0.10629971325397491, 0.10080145299434662, 0.08522304147481918, 0.08247391134500504, 0.0595644935965538, 0.05223347991704941, 0.03482231870293617, 0.017411159351468086, 0.2545325756072998, 0.20775361359119415, 0.10594058036804199, 0.07704769819974899, 0.05503406748175621, 0.11557154357433319, 0.07842354476451874, 0.06466503441333771, 0.027517033740878105, 0.013758516870439053, 0.1775379180908203, 0.25185611844062805, 0.09083335101604462, 0.09083335101604462, 0.07018940895795822, 0.14037881791591644, 0.049545466899871826, 0.07018940895795822, 0.03715910017490387, 0.020643943920731544, 0.20918965339660645, 0.292865514755249, 0.06972988694906235, 0.1359732747077942, 0.10459482669830322, 0.04997308552265167, 0.06275689601898193, 0.05229741334915161, 0.017432471737265587, 0.006972988601773977, 0.6255098581314087, 0.45766422152519226, 0.21181099116802216, 0.23828735947608948, 0.02647637389600277, 0.21181099116802216, 0.132381871342659, 0.05295274779200554, 0.05295274779200554, 0.05295274779200554, 0.02647637389600277, 0.21141885221004486, 0.23129583895206451, 0.1517878919839859, 0.07950794696807861, 0.06505195796489716, 0.07047294825315475, 0.07408694922924042, 0.05782395973801613, 0.04156097024679184, 0.01806998811662197, 0.24094286561012268, 0.2965450584888458, 0.09134647250175476, 0.06354537606239319, 0.08869875222444534, 0.060897648334503174, 0.07281240820884705, 0.0489828921854496, 0.026477238163352013, 0.007943172007799149, 0.5497351884841919, 0.603054404258728, 0.17744779586791992, 0.5323433876037598, 0.17744779586791992, 0.2240632176399231, 0.2014305591583252, 0.09732038527727127, 0.12447956204414368, 0.09505712240934372, 0.06110814958810806, 0.07468773424625397, 0.05658162012696266, 0.04526529461145401, 0.015842853114008904, 0.5256554484367371, 0.20014677941799164, 0.2805795967578888, 0.07482122629880905, 0.09913811832666397, 0.07295069098472595, 0.11410236358642578, 0.05985698103904724, 0.05798644945025444, 0.02992849051952362, 0.011223183944821358, 0.22008109092712402, 0.21235893666744232, 0.10038786381483078, 0.07722143083810806, 0.16602608561515808, 0.07336036115884781, 0.06177714467048645, 0.030888572335243225, 0.042471788823604584, 0.015444286167621613, 0.37019580602645874, 0.5408779978752136, 0.2798801064491272, 0.19207458198070526, 0.10262270271778107, 0.0757322609424591, 0.11579353362321854, 0.06969563663005829, 0.06640292704105377, 0.046646684408187866, 0.03128071874380112, 0.019207457080483437, 0.44883641600608826, 0.22441820800304413, 0.3826049864292145, 0.14395038783550262, 0.07576336711645126, 0.08712787181138992, 0.06061069294810295, 0.06061069294810295, 0.08333969861268997, 0.053034354001283646, 0.03788168355822563, 0.015152673237025738, 0.41548725962638855, 0.29791104793548584, 0.29791104793548584, 0.27313369512557983, 0.15757712721824646, 0.09454627335071564, 0.09454627335071564, 0.08404113352298737, 0.08404113352298737, 0.052525706589221954, 0.10505141317844391, 0.04202056676149368, 0.01050514169037342, 0.2837119698524475, 0.2837119698524475, 0.2837119698524475, 0.5036826729774475, 0.23782731592655182, 0.47565463185310364, 0.5799276828765869, 0.3379294276237488, 0.3379294276237488, 0.18847355246543884, 0.303865522146225, 0.1282133013010025, 0.0794922485947609, 0.09103144705295563, 0.061542388051748276, 0.04615679010748863, 0.05000318959355354, 0.0346175916492939, 0.015385597012937069, 0.37102746963500977, 0.37102746963500977, 0.5430029630661011, 0.5027390122413635, 0.5426027178764343, 0.21034662425518036, 0.24189862608909607, 0.07362131774425507, 0.15775996446609497, 0.10517331212759018, 0.06310398876667023, 0.06310398876667023, 0.05258665606379509, 0.021034663543105125, 0.010517331771552563, 0.5840122103691101, 0.5481295585632324, 0.35129931569099426, 0.35129931569099426, 0.49328550696372986, 0.18724027276039124, 0.14979222416877747, 0.12170617282390594, 0.14979222416877747, 0.0655340924859047, 0.14979222416877747, 0.0655340924859047, 0.04681006819009781, 0.04681006819009781, 0.018724028021097183, 0.5434936881065369, 0.5434936881065369, 0.2237069010734558, 0.17754516005516052, 0.09764983505010605, 0.0994252860546112, 0.0994252860546112, 0.11717980355024338, 0.07634441554546356, 0.042610835283994675, 0.04438629001379013, 0.01952996663749218, 0.5448787212371826, 0.45649436116218567, 0.4769543409347534, 0.2806911766529083, 0.20237921178340912, 0.05807403475046158, 0.08183159679174423, 0.08447132259607315, 0.0765521377325058, 0.10558915883302689, 0.05279457941651344, 0.04399548098444939, 0.01319864485412836, 0.23328152298927307, 0.17175672948360443, 0.11279546469449997, 0.06921540200710297, 0.13586726784706116, 0.07946953177452087, 0.08203306794166565, 0.05896126478910446, 0.041016533970832825, 0.017944732680916786, 0.15113791823387146, 0.32386696338653564, 0.07017116993665695, 0.15113791823387146, 0.10255786776542664, 0.06477338820695877, 0.05937560647726059, 0.043182261288166046, 0.032386694103479385, 0.010795565322041512, 0.5321581959724426, 0.2352578043937683, 0.20082983374595642, 0.08606992661952972, 0.08606992661952972, 0.08606992661952972, 0.08033192902803421, 0.08033192902803421, 0.051641955971717834, 0.06885594129562378, 0.02295198105275631, 0.23532456159591675, 0.2112484574317932, 0.09397449344396591, 0.11572065949440002, 0.1328069269657135, 0.05514205992221832, 0.06912174075841904, 0.046598922461271286, 0.02873600274324417, 0.010873082093894482, 0.2682283818721771, 0.26971304416656494, 0.07076874375343323, 0.1242164596915245, 0.0732431709766388, 0.059881243854761124, 0.05245794728398323, 0.04107556492090225, 0.03216760978102684, 0.00841306708753109, 0.2211223542690277, 0.2211223542690277, 0.2211223542690277, 0.2211223542690277, 0.15341761708259583, 0.28842511773109436, 0.1073923334479332, 0.09051639586687088, 0.0951189249753952, 0.07670880854129791, 0.056764520704746246, 0.05523034185171127, 0.059832870960235596, 0.019944289699196815, 0.302622526884079, 0.10087417811155319, 0.10087417811155319, 0.10087417811155319, 0.10087417811155319, 0.10087417811155319, 0.10087417811155319, 0.10087417811155319, 0.2976009249687195, 0.2976009249687195, 0.4998059570789337, 0.5202085971832275, 0.5202085971832275, 0.22355926036834717, 0.18916551768779755, 0.0974489077925682, 0.08598432689905167, 0.10031504929065704, 0.0888504758477211, 0.0974489077925682, 0.06592132151126862, 0.0401260182261467, 0.008598432876169682, 0.20519225299358368, 0.15731406211853027, 0.12311535328626633, 0.10943587124347687, 0.08207690715789795, 0.08891664445400238, 0.07523716241121292, 0.054717935621738434, 0.08891664445400238, 0.020519226789474487, 0.3952103555202484, 0.5828144550323486, 0.5862213373184204, 0.2562622129917145, 0.2557971477508545, 0.1046442836523056, 0.09813307970762253, 0.05581028386950493, 0.05720554292201996, 0.06743742525577545, 0.06325165182352066, 0.028835313394665718, 0.012557313777506351, 0.5924258828163147, 0.5139362812042236, 0.5139362812042236, 0.30257922410964966, 0.18154753744602203, 0.05641307681798935, 0.10769769549369812, 0.08820953965187073, 0.06461861729621887, 0.07384984940290451, 0.08205538988113403, 0.025642307475209236, 0.017436768859624863, 0.49777281284332275, 0.18927811086177826, 0.2927895784378052, 0.08872411400079727, 0.11534134298563004, 0.08280917257070541, 0.06802181899547577, 0.05619193613529205, 0.06210687756538391, 0.03548964485526085, 0.011829881928861141, 0.29892730712890625, 0.2221756875514984, 0.095939502120018, 0.10199884325265884, 0.07877138257026672, 0.06867248564958572, 0.0403955802321434, 0.03938569128513336, 0.03938569128513336, 0.014138452708721161, 0.2557430565357208, 0.22377517819404602, 0.05976604297757149, 0.10424309968948364, 0.09868346154689789, 0.10841281712055206, 0.06810548901557922, 0.04447705298662186, 0.02223852649331093, 0.013899079523980618, 0.2179347574710846, 0.2236698865890503, 0.11183494329452515, 0.10036469250917435, 0.08315932005643845, 0.0630863755941391, 0.07168906927108765, 0.057351253926754, 0.06021881476044655, 0.0114702507853508, 0.5452843904495239, 0.22925733029842377, 0.19701801240444183, 0.0949268639087677, 0.11462866514921188, 0.08776257187128067, 0.0931357890367508, 0.06268754601478577, 0.05373218655586243, 0.05194111168384552, 0.014328583143651485, 0.26410046219825745, 0.32361605763435364, 0.0632353201508522, 0.07439449429512024, 0.07067476958036423, 0.07439449429512024, 0.06695504486560822, 0.026038073003292084, 0.026038073003292084, 0.011159174144268036, 0.6040383577346802, 0.3770888149738312, 0.1550929844379425, 0.09731324762105942, 0.07298493385314941, 0.06690285354852676, 0.06690285354852676, 0.057779740542173386, 0.051697660237550735, 0.03953350707888603, 0.018246233463287354, 0.4782325327396393, 0.2196749746799469, 0.24579018354415894, 0.1059970110654831, 0.07834561914205551, 0.06759230047464371, 0.08449037373065948, 0.06912849098443985, 0.06912849098443985, 0.043013282120227814, 0.01843426376581192, 0.47304782271385193, 0.19042396545410156, 0.18428125977516174, 0.1388252228498459, 0.09091208875179291, 0.10934021323919296, 0.09828334301710129, 0.07616958767175674, 0.06511270999908447, 0.028256461024284363, 0.019656667485833168, 0.5622955560684204, 0.2679060399532318, 0.1339530199766159, 0.1339530199766159, 0.1339530199766159, 0.1339530199766159, 0.1339530199766159, 0.3136211335659027, 0.3136211335659027, 0.2374812215566635, 0.2418253868818283, 0.10715615749359131, 0.055026136338710785, 0.10570809990167618, 0.06081835925579071, 0.06661058217287064, 0.06661058217287064, 0.0463377982378006, 0.014480561949312687, 0.2758805453777313, 0.24081099033355713, 0.08416694402694702, 0.08650492131710052, 0.10988462716341019, 0.051435355097055435, 0.04675941541790962, 0.0374075323343277, 0.05611129850149155, 0.016365794464945793, 0.24277128279209137, 0.48554256558418274, 0.39727407693862915, 0.4573317766189575, 0.5884904861450195, 0.31126904487609863, 0.19278597831726074, 0.08635205775499344, 0.07028655707836151, 0.06827836483716965, 0.08233568072319031, 0.07831930369138718, 0.05020468309521675, 0.038155559450387955, 0.022090060636401176, 0.23665575683116913, 0.23665575683116913, 0.11832787841558456, 0.11832787841558456, 0.11832787841558456, 0.11832787841558456, 0.11832787841558456, 0.11832787841558456, 0.24550415575504303, 0.18667365610599518, 0.13236859440803528, 0.12218639999628067, 0.08145759999752045, 0.061093199998140335, 0.058830488473176956, 0.05656777694821358, 0.037334732711315155, 0.016970332711935043, 0.3350558578968048, 0.19649039208889008, 0.09654151648283005, 0.08064056187868118, 0.07496164739131927, 0.07836899906396866, 0.04202395677566528, 0.03293769434094429, 0.04202395677566528, 0.021579869091510773, 0.5445306897163391, 0.24140048027038574, 0.24140048027038574, 0.24140048027038574, 0.24952325224876404, 0.22720816731452942, 0.08520305901765823, 0.09331763535737991, 0.06897390633821487, 0.12983323633670807, 0.052744753658771515, 0.0405728854238987, 0.03854424133896828, 0.014200510457158089, 0.2127549946308136, 0.30445975065231323, 0.08436836302280426, 0.11371387541294098, 0.10270930826663971, 0.051354654133319855, 0.044018276035785675, 0.03301370516419411, 0.040350086987018585, 0.014672758057713509, 0.19787490367889404, 0.24734362959861755, 0.08657027035951614, 0.08657027035951614, 0.14840617775917053, 0.04946872591972351, 0.06183590739965439, 0.1113046333193779, 0.024734362959861755, 0.38009729981422424, 0.38009729981422424, 0.2205369621515274, 0.19339396059513092, 0.09669698029756546, 0.12892930209636688, 0.06955396384000778, 0.11196491867303848, 0.0848219096660614, 0.05428602173924446, 0.02544657327234745, 0.013571505434811115, 0.27439048886299133, 0.25479117035865784, 0.08035721629858017, 0.08231714367866516, 0.074477419257164, 0.0568380281329155, 0.09799659997224808, 0.037238709628582, 0.029398981481790543, 0.011759592220187187, 0.16301526129245758, 0.48904576897621155, 0.16301526129245758, 0.16301526129245758, 0.54710853099823, 0.39737850427627563, 0.5085656642913818, 0.36489465832710266, 0.2235390692949295, 0.07232145965099335, 0.062459446489810944, 0.06684256345033646, 0.0745130255818367, 0.06136366352438927, 0.03835229203104973, 0.0273944940418005, 0.009862017817795277, 0.23454515635967255, 0.1774936318397522, 0.12044210731983185, 0.08240775763988495, 0.06972964107990265, 0.0887468159198761, 0.10776399075984955, 0.05705152451992035, 0.04437340795993805, 0.01901717483997345, 0.5050877332687378, 0.5370144248008728, 0.2640134394168854, 0.22218415141105652, 0.10919074714183807, 0.07116411626338959, 0.10104218125343323, 0.07062087953090668, 0.0662749782204628, 0.043459005653858185, 0.03911310434341431, 0.01303770113736391, 0.29201287031173706, 0.19123980402946472, 0.08245069533586502, 0.10535366833209991, 0.07787010073661804, 0.09046673774719238, 0.05840257555246353, 0.05496713146567345, 0.03206415846943855, 0.014886931516230106, 0.4569188952445984, 0.23726315796375275, 0.1729205995798111, 0.10455664247274399, 0.13270650804042816, 0.09249241650104523, 0.08847100287675858, 0.06836395710706711, 0.05629973113536835, 0.028149865567684174, 0.016085637733340263, 0.30348196625709534, 0.1754959523677826, 0.08920236676931381, 0.09114154428243637, 0.08629359304904938, 0.06884095817804337, 0.06884095817804337, 0.07465849816799164, 0.029087727889418602, 0.010665500536561012, 0.283917635679245, 0.20249219238758087, 0.062140461057424545, 0.09749624133110046, 0.08678236603736877, 0.09213930368423462, 0.06642600893974304, 0.0546407513320446, 0.040712714195251465, 0.014999421313405037, 0.24503093957901, 0.15475638210773468, 0.16765274107456207, 0.08060228079557419, 0.07737819105386734, 0.10317092388868332, 0.0677059143781662, 0.04191318526864052, 0.03546500578522682, 0.019344547763466835, 0.3745657503604889, 0.3745657503604889, 0.22848308086395264, 0.19018983840942383, 0.11105044186115265, 0.08552160114049911, 0.08807448297739029, 0.07531006634235382, 0.08552160114049911, 0.07658650726079941, 0.04084613919258118, 0.019146626815199852, 0.4813225567340851, 0.3713337182998657, 0.3713337182998657, 0.20075446367263794, 0.1338363140821457, 0.2676726281642914, 0.06691815704107285, 0.06691815704107285, 0.06691815704107285, 0.06691815704107285, 0.06691815704107285, 0.3026500642299652, 0.1922851949930191, 0.09898705035448074, 0.08419588208198547, 0.08647144585847855, 0.06712915003299713, 0.06485358625650406, 0.04209794104099274, 0.04323572292923927, 0.018204515799880028, 0.32882383465766907, 0.14614392817020416, 0.11691514402627945, 0.10668506473302841, 0.07453340291976929, 0.08622492104768753, 0.045304618775844574, 0.05407325178384781, 0.024844467639923096, 0.017537271603941917, 0.23276765644550323, 0.21121510863304138, 0.11782067269086838, 0.06753136217594147, 0.08621024340391159, 0.07758922129869461, 0.07471554726362228, 0.07327871024608612, 0.038794610649347305, 0.020115723833441734, 0.24098126590251923, 0.22914358973503113, 0.08624592423439026, 0.09216476231813431, 0.06510721892118454, 0.093010313808918, 0.09639250487089157, 0.05580618605017662, 0.027057545259594917, 0.012683224864304066, 0.4635712504386902, 0.2861967980861664, 0.18824709951877594, 0.09794970601797104, 0.05356624722480774, 0.1331503838300705, 0.06274902820587158, 0.0658099576830864, 0.06274902820587158, 0.03826160356402397, 0.010713249444961548, 0.28995928168296814, 0.23996630311012268, 0.07665590196847916, 0.07776685804128647, 0.07665590196847916, 0.06999017298221588, 0.06887921690940857, 0.05999157577753067, 0.028884831815958023, 0.0111095504835248, 0.38044026494026184, 0.38044026494026184, 0.3908911347389221, 0.27455946803092957, 0.21839956939220428, 0.0811198428273201, 0.09151981770992279, 0.0811198428273201, 0.04783990606665611, 0.09151981770992279, 0.04991990327835083, 0.04783990606665611, 0.014559971168637276, 0.27088645100593567, 0.23108795285224915, 0.09885429590940475, 0.08280652016401291, 0.07959695905447006, 0.06868447363376617, 0.06868447363376617, 0.05071096867322922, 0.03337937220931053, 0.015405863523483276, 0.5221723914146423, 0.3508380353450775, 0.3508380353450775, 0.5748457312583923, 0.4786972403526306, 0.2647438645362854, 0.2923213243484497, 0.07721695303916931, 0.05515496805310249, 0.07721695303916931, 0.049639470875263214, 0.09376344829797745, 0.052397221326828, 0.030335232615470886, 0.011030993424355984, 0.30142927169799805, 0.19312351942062378, 0.0717688724398613, 0.08220798522233963, 0.08873242884874344, 0.09003731608390808, 0.0782933160662651, 0.05089065432548523, 0.02218310721218586, 0.020878218114376068, 0.289524644613266, 0.289524644613266, 0.28632205724716187, 0.16702120006084442, 0.07158051431179047, 0.09544068574905396, 0.07158051431179047, 0.07158051431179047, 0.09544068574905396, 0.07158051431179047, 0.09544068574905396, 0.02386017143726349, 0.2925041913986206, 0.13509997725486755, 0.08093253523111343, 0.07838347554206848, 0.0994131937623024, 0.11088394373655319, 0.08093253523111343, 0.06500093638896942, 0.04014763608574867, 0.0165688656270504, 0.21002668142318726, 0.23307839035987854, 0.08964553475379944, 0.08452293276786804, 0.1280650496482849, 0.07940033078193665, 0.06403252482414246, 0.051226019859313965, 0.04866471886634827, 0.01536780595779419, 0.2555674910545349, 0.20295065641403198, 0.08268360048532486, 0.08268360048532486, 0.07516691088676453, 0.11275036633014679, 0.10523367673158646, 0.04134180024266243, 0.026308419182896614, 0.011275036260485649, 0.29450541734695435, 0.3021836280822754, 0.1905394196510315, 0.08038382232189178, 0.07889523357152939, 0.07740664482116699, 0.09080394357442856, 0.06400933861732483, 0.05656639114022255, 0.04019191116094589, 0.019351661205291748, 0.39084625244140625, 0.28770166635513306, 0.22772760689258575, 0.07388109713792801, 0.07648865878582001, 0.07996542006731033, 0.05910487473011017, 0.10864866524934769, 0.03650595247745514, 0.03563676401972771, 0.013907029293477535, 0.23914843797683716, 0.2169594019651413, 0.09861791133880615, 0.14299596846103668, 0.07396343350410461, 0.05917074531316757, 0.049308955669403076, 0.0468435063958168, 0.05177440494298935, 0.022189030423760414, 0.231548011302948, 0.19127878546714783, 0.1610768735408783, 0.09563939273357391, 0.08557209372520447, 0.06543748080730438, 0.05537017807364464, 0.05033652484416962, 0.040269218385219574, 0.02516826242208481, 0.38632839918136597, 0.1854376345872879, 0.09271881729364395, 0.061812542378902435, 0.06953911483287811, 0.046359408646821976, 0.054085977375507355, 0.054085977375507355, 0.030906271189451218, 0.015453135594725609, 0.2451377809047699, 0.26817482709884644, 0.11813868582248688, 0.07088321447372437, 0.06911113113164902, 0.07797153294086456, 0.061432115733623505, 0.0395764596760273, 0.03780438005924225, 0.011813868768513203, 0.4136492908000946, 0.19218182563781738, 0.17828917503356934, 0.12503395974636078, 0.0972486361861229, 0.14124207198619843, 0.09493319690227509, 0.057886093854904175, 0.06020153686404228, 0.03704709932208061, 0.0162081066519022, 0.3432098627090454, 0.3747302293777466, 0.3747302293777466, 0.5455795526504517, 0.17610155045986176, 0.30054664611816406, 0.05635249614715576, 0.119749054312706, 0.12209707498550415, 0.046960413455963135, 0.09626884758472443, 0.04930843412876129, 0.02817624807357788, 0.0046960413455963135, 0.5181856155395508, 0.38473764061927795, 0.38473764061927795, 0.3529026508331299, 0.3529026508331299, 0.3349871337413788, 0.5091047883033752, 0.3814399540424347, 0.15893332660198212, 0.10898284614086151, 0.07265523076057434, 0.06357333064079285, 0.07265523076057434, 0.054491423070430756, 0.04540951922535896, 0.03178666532039642, 0.009081903845071793, 0.2738390862941742, 0.2738390862941742, 0.33655858039855957, 0.14914777874946594, 0.11322736740112305, 0.08589662611484528, 0.09604804217815399, 0.0710599347949028, 0.057785000652074814, 0.044510070234537125, 0.035139527171850204, 0.01015141885727644, 0.2137899547815323, 0.17740017175674438, 0.0955231711268425, 0.08187700062990189, 0.08187700062990189, 0.11826678365468979, 0.11371806263923645, 0.059133391827344894, 0.04548722505569458, 0.018194889649748802, 0.28339409828186035, 0.28339409828186035, 0.21393822133541107, 0.19263701140880585, 0.12595497071743011, 0.08890938758850098, 0.1000230610370636, 0.06760818511247635, 0.08242641389369965, 0.06297748535871506, 0.047233112156391144, 0.01852278970181942, 0.18559756875038147, 0.14633654057979584, 0.1391981691122055, 0.13562899827957153, 0.12135225534439087, 0.10350633412599564, 0.07138367742300034, 0.0535377599298954, 0.0321226567029953, 0.014276735484600067, 0.3675607144832611, 0.16435642540454865, 0.09562555700540543, 0.07171916961669922, 0.08367235958576202, 0.053789373487234116, 0.056777674704790115, 0.056777674704790115, 0.03287128359079361, 0.014941493049263954, 0.5749498009681702, 0.2957763373851776, 0.15420818328857422, 0.09606411308050156, 0.13904015719890594, 0.07584009319543839, 0.0657280758023262, 0.06067207083106041, 0.04803205654025078, 0.04803205654025078, 0.017696021124720573, 0.2724188566207886, 0.22202502191066742, 0.08325938135385513, 0.08398972451686859, 0.09202352911233902, 0.1044394001364708, 0.05623659864068031, 0.03286554664373398, 0.039438653737306595, 0.013146217912435532, 0.3263131380081177, 0.1691994071006775, 0.08762111514806747, 0.09769251197576523, 0.08762111514806747, 0.08762111514806747, 0.06143549829721451, 0.03222845867276192, 0.03323559835553169, 0.017121367156505585, 0.31315165758132935, 0.1925380676984787, 0.08103179186582565, 0.07671164721250534, 0.0864027738571167, 0.0909564346075058, 0.05044053867459297, 0.05335954949259758, 0.03969857096672058, 0.01576266810297966, 0.25968560576438904, 0.1763003170490265, 0.12865158915519714, 0.07623797655105591, 0.0857677236199379, 0.09291503578424454, 0.06432579457759857, 0.05241360887885094, 0.04645751789212227, 0.017868276685476303, 0.296323299407959, 0.2074263095855713, 0.0592646598815918, 0.0592646598815918, 0.0592646598815918, 0.0888969898223877, 0.0592646598815918, 0.0592646598815918, 0.0888969898223877, 0.2561368942260742, 0.24822679162025452, 0.08851789683103561, 0.09115460515022278, 0.08437450975179672, 0.07759441435337067, 0.0493440181016922, 0.04068056493997574, 0.04972069337964058, 0.014313532039523125, 0.1955125629901886, 0.3910251259803772, 0.34613749384880066, 0.34613749384880066, 0.34613749384880066, 0.17674756050109863, 0.37313371896743774, 0.05891584977507591, 0.07855446636676788, 0.09819308668375015, 0.05891584977507591, 0.05891584977507591, 0.03927723318338394, 0.03927723318338394, 0.01963861659169197, 0.22266483306884766, 0.2894642949104309, 0.08659187704324722, 0.07669566571712494, 0.09153998643159866, 0.07422161102294922, 0.04948107525706291, 0.06679944694042206, 0.024740537628531456, 0.017318375408649445, 0.46312886476516724, 0.17810580134391785, 0.3158857524394989, 0.08065168559551239, 0.06384924799203873, 0.09073314815759659, 0.09409363567829132, 0.07057022303342819, 0.05712827667593956, 0.03360486775636673, 0.016802433878183365, 0.20282518863677979, 0.20862019062042236, 0.0753350704908371, 0.10431009531021118, 0.10431009531021118, 0.0985150933265686, 0.05795005336403847, 0.06374505907297134, 0.06374505907297134, 0.011590010486543179, 0.1999371200799942, 0.3998742401599884, 0.1999371200799942, 0.24405020475387573, 0.287544310092926, 0.09423720836639404, 0.07490649819374084, 0.0821555107831955, 0.04107775539159775, 0.0483267717063427, 0.057992126792669296, 0.053159449249506, 0.01691437140107155, 0.45261505246162415, 0.39195021986961365, 0.5565810203552246, 0.19463279843330383, 0.3371807634830475, 0.07675659656524658, 0.07127398252487183, 0.09046313166618347, 0.07127398252487183, 0.057567447423934937, 0.06579136848449707, 0.021930456161499023, 0.01370653510093689, 0.5833210945129395, 0.2341727614402771, 0.2197374552488327, 0.1427491456270218, 0.07378046214580536, 0.07698830217123032, 0.07378046214580536, 0.08661184459924698, 0.03207845985889435, 0.040098074823617935, 0.020850999280810356, 0.23839138448238373, 0.1787935346364975, 0.10517267137765884, 0.12971295416355133, 0.07712662220001221, 0.12620720267295837, 0.045574821531772614, 0.04908058047294617, 0.031551800668239594, 0.017528777942061424, 0.2573902904987335, 0.22099165618419647, 0.16899362206459045, 0.05459793657064438, 0.0727972537279129, 0.06499754637479782, 0.049398135393857956, 0.041598428040742874, 0.044198330491781235, 0.020799214020371437, 0.23913513123989105, 0.16698229312896729, 0.11956756561994553, 0.13605964183807373, 0.09070643037557602, 0.08864491432905197, 0.07009132951498032, 0.04535321518778801, 0.03298415616154671, 0.012369058094918728, 0.4770548641681671, 0.15901829302310944, 0.15901829302310944, 0.25840821862220764, 0.23361147940158844, 0.08744116872549057, 0.07178006321191788, 0.08874625712633133, 0.08091570436954498, 0.06655969470739365, 0.07047496736049652, 0.02871202491223812, 0.013050920329988003, 0.2391699105501175, 0.18968647718429565, 0.1690683811903, 0.07628695666790009, 0.09484323859214783, 0.10515229403972626, 0.04329800233244896, 0.032988954335451126, 0.03505076467990875, 0.016494477167725563, 0.5618793964385986, 0.14122268557548523, 0.4236680269241333, 0.14122268557548523, 0.14122268557548523, 0.27414262294769287, 0.17343716323375702, 0.08871670812368393, 0.09111445397138596, 0.09111445397138596, 0.09031520783901215, 0.07512946426868439, 0.057545971125364304, 0.03916323184967041, 0.01998124085366726, 0.26239100098609924, 0.16180777549743652, 0.08746366947889328, 0.1246357262134552, 0.07434411346912384, 0.09621003270149231, 0.07871729880571365, 0.048105016350746155, 0.04591842368245125, 0.019679324701428413, 0.20483803749084473, 0.20483803749084473, 0.0925074964761734, 0.09581133723258972, 0.14536893367767334, 0.08589982241392136, 0.06938062608242035, 0.04294991120696068, 0.04294991120696068, 0.01982303522527218, 0.2900313138961792, 0.1993965208530426, 0.10217011719942093, 0.06921201199293137, 0.06921201199293137, 0.08733896911144257, 0.06426829844713211, 0.05767668038606644, 0.03954972326755524, 0.021422766149044037, 0.2727561891078949, 0.20097824931144714, 0.08613353967666626, 0.08900465816259384, 0.0803913027048111, 0.094746895134449, 0.0631645917892456, 0.04019565135240555, 0.05742235854268074, 0.017226707190275192, 0.6185625195503235, 0.17568093538284302, 0.25791457295417786, 0.11213676631450653, 0.0672820582985878, 0.1345641165971756, 0.06354416906833649, 0.07475784420967102, 0.056068383157253265, 0.04111681506037712, 0.018689461052417755, 0.6035969853401184, 0.201522096991539, 0.23846781253814697, 0.08396753668785095, 0.10411974787712097, 0.07389143854379654, 0.1007610484957695, 0.10747845470905304, 0.04030441865324974, 0.03022831492125988, 0.01679350808262825, 0.3767409920692444, 0.19192466139793396, 0.071083202958107, 0.071083202958107, 0.07819152623414993, 0.056866563856601715, 0.07819152623414993, 0.0355416014790535, 0.028433281928300858, 0.007108320482075214, 0.2555769085884094, 0.19168268144130707, 0.06389422714710236, 0.14908653497695923, 0.10649038106203079, 0.04259615018963814, 0.1277884542942047, 0.06389422714710236, 0.02129807509481907, 0.24318726360797882, 0.171751007437706, 0.08511554449796677, 0.10487450659275055, 0.07447610050439835, 0.12311355024576187, 0.07447610050439835, 0.053197212517261505, 0.04255777224898338, 0.027358567342162132, 0.1444866806268692, 0.1444866806268692, 0.1444866806268692, 0.1444866806268692, 0.1444866806268692, 0.1444866806268692, 0.195211723446846, 0.2144128829240799, 0.1504090279340744, 0.07360441982746124, 0.11840710788965225, 0.0864051878452301, 0.06720403581857681, 0.05760345980525017, 0.03200192376971245, 0.00960057694464922, 0.21896764636039734, 0.24442899227142334, 0.11712222546339035, 0.0784209668636322, 0.09064241498708725, 0.07536560297012329, 0.08453169465065002, 0.04073816537857056, 0.03462744131684303, 0.015276812016963959, 0.2973898649215698, 0.2973898649215698, 0.2973898649215698, 0.19309917092323303, 0.2717691957950592, 0.06436639279127121, 0.08582185208797455, 0.1358845978975296, 0.05006274953484535, 0.07509412616491318, 0.07151821255683899, 0.035759106278419495, 0.017879553139209747, 0.5520902276039124, 0.36773210763931274, 0.36773210763931274, 0.24218066036701202, 0.2171274870634079, 0.11413111537694931, 0.07794319838285446, 0.06959214061498642, 0.08907794207334518, 0.058457400649785995, 0.061241086572408676, 0.055673714727163315, 0.013918428681790829, 0.3893175423145294, 0.20420610904693604, 0.24835878610610962, 0.08278626203536987, 0.10762213915586472, 0.10762213915586472, 0.07174809277057648, 0.09934351593255997, 0.03587404638528824, 0.02759542129933834, 0.016557252034544945, 0.22178418934345245, 0.16279903054237366, 0.12504853308200836, 0.10617327690124512, 0.10027476400136948, 0.08611832559108734, 0.08375892043113708, 0.05544604733586311, 0.04128960892558098, 0.018875250592827797, 0.5905470252037048, 0.1865861862897873, 0.29616856575012207, 0.08588887751102448, 0.056272026151418686, 0.08885056525468826, 0.10069730877876282, 0.09477394074201584, 0.038501910865306854, 0.04146359860897064, 0.01184674259275198, 0.23091250658035278, 0.160939022898674, 0.11662247776985168, 0.10962512344121933, 0.10029532760381699, 0.08863308280706406, 0.10729267448186874, 0.04198409244418144, 0.027989394962787628, 0.011662247590720654, 0.5808362364768982, 0.3860216438770294, 0.18165723979473114, 0.06812147051095963, 0.06812147051095963, 0.07569051533937454, 0.07569051533937454, 0.0529833622276783, 0.03784525766968727, 0.045414309948682785, 0.015138103626668453, 0.5393086671829224, 0.22224706411361694, 0.19885264337062836, 0.11112353205680847, 0.09650202095508575, 0.06725898385047913, 0.11989644914865494, 0.05263746529817581, 0.0643346756696701, 0.05263746529817581, 0.017545821145176888, 0.3717576563358307, 0.10910279303789139, 0.07677604258060455, 0.11718448251485825, 0.0686943531036377, 0.07273519784212112, 0.05253097414970398, 0.06465350836515427, 0.04040844365954399, 0.03232675418257713, 0.20830701291561127, 0.19557712972164154, 0.12035515904426575, 0.10415350645780563, 0.09836719930171967, 0.09489541500806808, 0.07175019383430481, 0.04976223036646843, 0.04050413891673088, 0.017358917742967606, 0.3124762177467346, 0.22171548008918762, 0.09011243283748627, 0.08492610603570938, 0.06936712563037872, 0.07779490202665329, 0.06223592534661293, 0.0453803613781929, 0.026579925790429115, 0.00907607190310955, 0.3347828984260559, 0.18485358357429504, 0.21272094547748566, 0.10868275910615921, 0.12261644750833511, 0.10682493448257446, 0.0845310315489769, 0.070597343146801, 0.0668816938996315, 0.029725197702646255, 0.01300477422773838, 0.29653990268707275, 0.16291390359401703, 0.14643946290016174, 0.06223677098751068, 0.06772825121879578, 0.11166008561849594, 0.05308430269360542, 0.0402708500623703, 0.045762330293655396, 0.012813452631235123, 0.25946301221847534, 0.2222195267677307, 0.0943501889705658, 0.08938439190387726, 0.07572844624519348, 0.07076264172792435, 0.06579684466123581, 0.07324554026126862, 0.034760598093271255, 0.01489739865064621, 0.6005446314811707, 0.45423468947410583, 0.14194834232330322, 0.0851690024137497, 0.05677933618426323, 0.05677933618426323, 0.05677933618426323, 0.05677933618426323, 0.028389668092131615, 0.05677933618426323, 0.17669710516929626, 0.17669710516929626, 0.17669710516929626, 0.17669710516929626, 0.6175549030303955, 0.2906968891620636, 0.17053666710853577, 0.10612087696790695, 0.10570795834064484, 0.08258434385061264, 0.0640028640627861, 0.07473883032798767, 0.06358994543552399, 0.03138205036520958, 0.01032304298132658, 0.24513210356235504, 0.20308390259742737, 0.11093569546937943, 0.08946426957845688, 0.10914640873670578, 0.08856962621212006, 0.053678564727306366, 0.05994106084108353, 0.026839282363653183, 0.012524997815489769, 0.5036243200302124, 0.3813868463039398, 0.11617722362279892, 0.37757596373558044, 0.05808861181139946, 0.11617722362279892, 0.1452215313911438, 0.02904430590569973, 0.05808861181139946, 0.05808861181139946, 0.02904430590569973, 0.20911765098571777, 0.24203431606292725, 0.06970588117837906, 0.12779411673545837, 0.13360294699668884, 0.06970588117837906, 0.05227941274642944, 0.04647058993577957, 0.03485294058918953, 0.013553922064602375, 0.6321645379066467, 0.27901026606559753, 0.27901026606559753, 0.27901026606559753, 0.2335866242647171, 0.2335866242647171, 0.107266366481781, 0.09174097329378128, 0.09103526920080185, 0.06774717569351196, 0.09597516804933548, 0.04375338554382324, 0.022582393139600754, 0.012702595442533493, 0.489376962184906, 0.2762920558452606, 0.23702950775623322, 0.11342516541481018, 0.09015846252441406, 0.0581667497754097, 0.053804244846105576, 0.08434178680181503, 0.043625060468912125, 0.030537543818354607, 0.01163334958255291, 0.21768330037593842, 0.33641964197158813, 0.09399960190057755, 0.06926286965608597, 0.07421021163463593, 0.05936817079782486, 0.05936817079782486, 0.04947347566485405, 0.02968408539891243, 0.00989469513297081, 0.2185269147157669, 0.2267732173204422, 0.15255652368068695, 0.0783398374915123, 0.0783398374915123, 0.08246298879384995, 0.0700935423374176, 0.053600940853357315, 0.02886204607784748, 0.012369448319077492, 0.20130307972431183, 0.17385265231132507, 0.1372520923614502, 0.05490083992481232, 0.10065153986215591, 0.17385265231132507, 0.05490083992481232, 0.0457506999373436, 0.03660055994987488, 0.01830027997493744, 0.3986983597278595, 0.31139570474624634, 0.16485653817653656, 0.09891392290592194, 0.08242826908826828, 0.08059652894735336, 0.07510131597518921, 0.04762522503733635, 0.06411087512969971, 0.06777435541152954, 0.009158696979284286, 0.21863077580928802, 0.18658018112182617, 0.11046005040407181, 0.06925215572118759, 0.11732803285121918, 0.08413278311491013, 0.09901341050863266, 0.046358879655599594, 0.05150986835360527, 0.016597624868154526, 0.5054483413696289, 0.08424139022827148, 0.08424139022827148, 0.08424139022827148, 0.08424139022827148, 0.08424139022827148, 0.15882608294487, 0.25645312666893005, 0.10054127871990204, 0.0932556763291359, 0.12094096094369888, 0.08159872144460678, 0.0655703991651535, 0.07285600155591965, 0.034970879554748535, 0.014571200124919415, 0.38210323452949524, 0.4065479636192322, 0.24430890381336212, 0.17101623117923737, 0.15065714716911316, 0.077364481985569, 0.06107722595334053, 0.09161583334207535, 0.09365174174308777, 0.05496950075030327, 0.03664633631706238, 0.01628725975751877, 0.40092733502388, 0.21746312081813812, 0.2318013459444046, 0.09558818489313126, 0.06452202796936035, 0.09319847822189331, 0.09558818489313126, 0.0669117271900177, 0.06930143386125565, 0.04062497988343239, 0.023897046223282814, 0.23301564157009125, 0.20889167487621307, 0.11349232494831085, 0.08169254660606384, 0.09539934992790222, 0.059213388711214066, 0.08991662412881851, 0.05537548288702965, 0.04715140163898468, 0.015351618640124798, 0.2593846321105957, 0.21138162910938263, 0.09600599855184555, 0.09769031405448914, 0.08126823604106903, 0.09474276006221771, 0.05895105376839638, 0.04926623776555061, 0.03831818327307701, 0.013053447008132935, 0.37312036752700806, 0.37312036752700806, 0.5912895798683167, 0.5165132284164429, 0.5165132284164429], \"Term\": [\"000\", \"000\", \"000\", \"000\", \"000\", \"000\", \"000\", \"000\", \"000\", \"000\", \"1\", \"1\", \"1\", \"1\", \"1\", \"1\", \"1\", \"1\", \"1\", \"1\", \"10million\", \"163m\", \"1954\", \"1954\", \"1954\", \"2\", \"2\", \"2\", \"2\", \"2\", \"2\", \"2\", \"2\", \"2\", \"2\", \"20\", \"20\", \"20\", \"20\", \"20\", \"20\", \"20\", \"20\", \"20\", \"20\", \"200m\", \"200m\", \"200m\", \"2112\", \"2b\", \"2c\", \"3\", \"3\", \"3\", \"3\", \"3\", \"3\", \"3\", \"3\", \"3\", \"3\", \"351m\", \"544\", \"564\", \"57m\", \"85th\", \"89m\", \"9\", \"9\", \"9\", \"9\", \"9\", \"9\", \"9\", \"9\", \"9\", \"9\", \"a320\", \"a320\", \"a320\", \"abhinav\", \"accus\", \"accus\", \"accus\", \"accus\", \"accus\", \"accus\", \"accus\", \"accus\", \"accus\", \"accus\", \"action\", \"action\", \"action\", \"action\", \"action\", \"action\", \"action\", \"action\", \"action\", \"action\", \"adl\", \"aftershock\", \"ahead\", \"ahead\", \"ahead\", \"ahead\", \"ahead\", \"ahead\", \"ahead\", \"ahead\", \"ahead\", \"ahead\", \"ahmadinejad\", \"ahmadinejad\", \"ahmadinejad\", \"ahmadinejad\", \"ahmadinejad\", \"ahmadinejad\", \"ahmadinejad\", \"ahmadinejad\", \"ahmadinejad\", \"ahmadinejad\", \"aint\", \"alabama\", \"albani\", \"allen\", \"allen\", \"allen\", \"allen\", \"ambigu\", \"amburn\", \"american\", \"american\", \"american\", \"american\", \"american\", \"american\", \"american\", \"american\", \"american\", \"american\", \"amp\", \"amp\", \"amp\", \"amp\", \"amp\", \"amp\", \"amp\", \"amp\", \"amp\", \"amp\", \"anjem\", \"ansar\", \"anti\", \"anti\", \"anti\", \"anti\", \"anti\", \"anti\", \"anti\", \"anti\", \"anti\", \"anti\", \"appelbaum\", \"appelbaum\", \"arbit\", \"arrest\", \"arrest\", \"arrest\", \"arrest\", \"arrest\", \"arrest\", \"arrest\", \"arrest\", \"arrest\", \"arrest\", \"ask\", \"ask\", \"ask\", \"ask\", \"ask\", \"ask\", \"ask\", \"ask\", \"ask\", \"ask\", \"assang\", \"assang\", \"assang\", \"assang\", \"assang\", \"assang\", \"assang\", \"assang\", \"assang\", \"assang\", \"attack\", \"attack\", \"attack\", \"attack\", \"attack\", \"attack\", \"attack\", \"attack\", \"attack\", \"attack\", \"auf\", \"away\", \"away\", \"away\", \"away\", \"away\", \"away\", \"away\", \"away\", \"away\", \"away\", \"aziz\", \"aziz\", \"aziz\", \"aziz\", \"b\", \"b\", \"b\", \"b\", \"b\", \"b\", \"b\", \"b\", \"b\", \"b\", \"back\", \"back\", \"back\", \"back\", \"back\", \"back\", \"back\", \"back\", \"back\", \"back\", \"ban\", \"ban\", \"ban\", \"ban\", \"ban\", \"ban\", \"ban\", \"ban\", \"ban\", \"ban\", \"bank\", \"bank\", \"bank\", \"bank\", \"bank\", \"bank\", \"bank\", \"bank\", \"bank\", \"bank\", \"beje\", \"beje\", \"bid\", \"bid\", \"bid\", \"bid\", \"bid\", \"bid\", \"bid\", \"bid\", \"bid\", \"bid\", \"bilal\", \"billionth\", \"billlionair\", \"bladerunn\", \"bnp\", \"bnp\", \"bnp\", \"bnp\", \"bnp\", \"bnp\", \"bnp\", \"bnp\", \"bomb\", \"bomb\", \"bomb\", \"bomb\", \"bomb\", \"bomb\", \"bomb\", \"bomb\", \"bomb\", \"bomb\", \"border\", \"border\", \"border\", \"border\", \"border\", \"border\", \"border\", \"border\", \"border\", \"border\", \"bring\", \"bring\", \"bring\", \"bring\", \"bring\", \"bring\", \"bring\", \"bring\", \"bring\", \"bring\", \"britain\", \"britain\", \"britain\", \"britain\", \"britain\", \"britain\", \"britain\", \"britain\", \"britain\", \"britain\", \"british\", \"british\", \"british\", \"british\", \"british\", \"british\", \"british\", \"british\", \"british\", \"british\", \"bug\", \"bug\", \"bug\", \"bug\", \"bug\", \"bug\", \"bug\", \"bug\", \"bug\", \"bug\", \"call\", \"call\", \"call\", \"call\", \"call\", \"call\", \"call\", \"call\", \"call\", \"call\", \"can\", \"can\", \"can\", \"can\", \"can\", \"can\", \"can\", \"can\", \"can\", \"can\", \"canada\", \"canada\", \"canada\", \"canada\", \"canada\", \"canada\", \"canada\", \"canada\", \"canada\", \"canada\", \"caster\", \"caster\", \"caus\", \"caus\", \"caus\", \"caus\", \"caus\", \"caus\", \"caus\", \"caus\", \"caus\", \"caus\", \"chaebol\", \"charg\", \"charg\", \"charg\", \"charg\", \"charg\", \"charg\", \"charg\", \"charg\", \"charg\", \"charg\", \"children\", \"children\", \"children\", \"children\", \"children\", \"children\", \"children\", \"children\", \"children\", \"children\", \"china\", \"china\", \"china\", \"china\", \"china\", \"china\", \"china\", \"china\", \"china\", \"china\", \"chines\", \"chines\", \"chines\", \"chines\", \"chines\", \"chines\", \"chines\", \"chines\", \"chines\", \"chines\", \"chossudovski\", \"cia\", \"cia\", \"cia\", \"cia\", \"cia\", \"cia\", \"cia\", \"cia\", \"cia\", \"cia\", \"climat\", \"climat\", \"climat\", \"climat\", \"climat\", \"climat\", \"climat\", \"climat\", \"climat\", \"climat\", \"commun\", \"commun\", \"commun\", \"commun\", \"commun\", \"commun\", \"commun\", \"commun\", \"commun\", \"commun\", \"compani\", \"compani\", \"compani\", \"compani\", \"compani\", \"compani\", \"compani\", \"compani\", \"compani\", \"compani\", \"confirm\", \"confirm\", \"confirm\", \"confirm\", \"confirm\", \"confirm\", \"confirm\", \"confirm\", \"confirm\", \"confirm\", \"control\", \"control\", \"control\", \"control\", \"control\", \"control\", \"control\", \"control\", \"control\", \"control\", \"countri\", \"countri\", \"countri\", \"countri\", \"countri\", \"countri\", \"countri\", \"countri\", \"countri\", \"countri\", \"coupon\", \"coupon\", \"coupon\", \"court\", \"court\", \"court\", \"court\", \"court\", \"court\", \"court\", \"court\", \"court\", \"court\", \"crimea\", \"crimea\", \"crimea\", \"crimea\", \"crimea\", \"crimea\", \"crimea\", \"crimea\", \"crimea\", \"crimea\", \"cromarti\", \"csec\", \"csec\", \"currant\", \"damian\", \"david\", \"david\", \"david\", \"david\", \"david\", \"david\", \"david\", \"david\", \"david\", \"david\", \"day\", \"day\", \"day\", \"day\", \"day\", \"day\", \"day\", \"day\", \"day\", \"day\", \"dead\", \"dead\", \"dead\", \"dead\", \"dead\", \"dead\", \"dead\", \"dead\", \"dead\", \"dead\", \"death\", \"death\", \"death\", \"death\", \"death\", \"death\", \"death\", \"death\", \"death\", \"death\", \"deceas\", \"demand\", \"demand\", \"demand\", \"demand\", \"demand\", \"demand\", \"demand\", \"demand\", \"demand\", \"demand\", \"dial\", \"dial\", \"dialect\", \"dialect\", \"dialect\", \"dialect\", \"dialect\", \"die\", \"die\", \"die\", \"die\", \"die\", \"die\", \"die\", \"die\", \"die\", \"die\", \"doggedli\", \"don\", \"don\", \"don\", \"don\", \"don\", \"don\", \"don\", \"don\", \"don\", \"don\", \"douchebag\", \"drone\", \"drone\", \"drone\", \"drone\", \"drone\", \"drone\", \"drone\", \"drone\", \"drone\", \"drone\", \"drug\", \"drug\", \"drug\", \"drug\", \"drug\", \"drug\", \"drug\", \"drug\", \"drug\", \"drug\", \"dung\", \"dwarv\", \"earnestli\", \"ebola\", \"ebola\", \"ebola\", \"ebola\", \"ebola\", \"ebola\", \"ebola\", \"ebola\", \"ebola\", \"ebola\", \"egypt\", \"egypt\", \"egypt\", \"egypt\", \"egypt\", \"egypt\", \"egypt\", \"egypt\", \"egypt\", \"egypt\", \"egyptian\", \"egyptian\", \"egyptian\", \"egyptian\", \"egyptian\", \"egyptian\", \"egyptian\", \"egyptian\", \"egyptian\", \"egyptian\", \"embassi\", \"embassi\", \"embassi\", \"embassi\", \"embassi\", \"embassi\", \"embassi\", \"embassi\", \"embassi\", \"embassi\", \"enceladu\", \"end\", \"end\", \"end\", \"end\", \"end\", \"end\", \"end\", \"end\", \"end\", \"end\", \"eu\", \"eu\", \"eu\", \"eu\", \"eu\", \"eu\", \"eu\", \"eu\", \"eu\", \"eu\", \"european\", \"european\", \"european\", \"european\", \"european\", \"european\", \"european\", \"european\", \"european\", \"european\", \"face\", \"face\", \"face\", \"face\", \"face\", \"face\", \"face\", \"face\", \"face\", \"face\", \"fadelalah\", \"fail\", \"fail\", \"fail\", \"fail\", \"fail\", \"fail\", \"fail\", \"fail\", \"fail\", \"fail\", \"famili\", \"famili\", \"famili\", \"famili\", \"famili\", \"famili\", \"famili\", \"famili\", \"famili\", \"famili\", \"farmvil\", \"favela\", \"figg\", \"figg\", \"fijian\", \"fijian\", \"fine\", \"fine\", \"fine\", \"fine\", \"fine\", \"fine\", \"fine\", \"fine\", \"fine\", \"fine\", \"fire\", \"fire\", \"fire\", \"fire\", \"fire\", \"fire\", \"fire\", \"fire\", \"fire\", \"fire\", \"firewood\", \"firewood\", \"firewood\", \"first\", \"first\", \"first\", \"first\", \"first\", \"first\", \"first\", \"first\", \"first\", \"first\", \"fisherfolk\", \"fissur\", \"flander\", \"flu\", \"flu\", \"flu\", \"flu\", \"flu\", \"flu\", \"flu\", \"flu\", \"flu\", \"flu\", \"foment\", \"foment\", \"foment\", \"foment\", \"foment\", \"forc\", \"forc\", \"forc\", \"forc\", \"forc\", \"forc\", \"forc\", \"forc\", \"forc\", \"forc\", \"found\", \"found\", \"found\", \"found\", \"found\", \"found\", \"found\", \"found\", \"found\", \"found\", \"fukushima\", \"fukushima\", \"fukushima\", \"fukushima\", \"fukushima\", \"fukushima\", \"fukushima\", \"fukushima\", \"fukushima\", \"fukushima\", \"gaza\", \"gaza\", \"gaza\", \"gaza\", \"gaza\", \"gaza\", \"gaza\", \"gaza\", \"gaza\", \"gaza\", \"gellman\", \"genr\", \"georgian\", \"georgian\", \"georgian\", \"georgian\", \"georgian\", \"georgian\", \"georgian\", \"georgian\", \"georgian\", \"germani\", \"germani\", \"germani\", \"germani\", \"germani\", \"germani\", \"germani\", \"germani\", \"germani\", \"germani\", \"get\", \"get\", \"get\", \"get\", \"get\", \"get\", \"get\", \"get\", \"get\", \"get\", \"giblet\", \"gigolo\", \"gilbert\", \"gilbert\", \"gilbert\", \"global\", \"global\", \"global\", \"global\", \"global\", \"global\", \"global\", \"global\", \"global\", \"global\", \"gnocidair\", \"go\", \"go\", \"go\", \"go\", \"go\", \"go\", \"go\", \"go\", \"go\", \"go\", \"googl\", \"googl\", \"googl\", \"googl\", \"googl\", \"googl\", \"googl\", \"googl\", \"googl\", \"googl\", \"gordo\", \"gori\", \"govern\", \"govern\", \"govern\", \"govern\", \"govern\", \"govern\", \"govern\", \"govern\", \"govern\", \"govern\", \"griev\", \"griev\", \"hack\", \"hack\", \"hack\", \"hack\", \"hack\", \"hack\", \"hack\", \"hack\", \"hack\", \"hack\", \"haditha\", \"hadopi\", \"hadopi\", \"hard\", \"hard\", \"hard\", \"hard\", \"hard\", \"hard\", \"hard\", \"hard\", \"hard\", \"hard\", \"hardship\", \"hardship\", \"hardship\", \"henin\", \"hersh\", \"hersh\", \"homocid\", \"hopi\", \"hopi\", \"human\", \"human\", \"human\", \"human\", \"human\", \"human\", \"human\", \"human\", \"human\", \"human\", \"hummer\", \"hummer\", \"hygein\", \"hyperventil\", \"idd\", \"idf\", \"idf\", \"idf\", \"idf\", \"idf\", \"idf\", \"idf\", \"idf\", \"idf\", \"idf\", \"ijf\", \"illinoi\", \"improb\", \"improb\", \"incomplet\", \"indonesia\", \"indonesia\", \"indonesia\", \"indonesia\", \"indonesia\", \"indonesia\", \"indonesia\", \"indonesia\", \"indonesia\", \"indonesia\", \"insignific\", \"insignific\", \"internet\", \"internet\", \"internet\", \"internet\", \"internet\", \"internet\", \"internet\", \"internet\", \"internet\", \"internet\", \"inver\", \"investigatori\", \"iquiqu\", \"iran\", \"iran\", \"iran\", \"iran\", \"iran\", \"iran\", \"iran\", \"iran\", \"iran\", \"iran\", \"iranian\", \"iranian\", \"iranian\", \"iranian\", \"iranian\", \"iranian\", \"iranian\", \"iranian\", \"iranian\", \"iranian\", \"iraqi\", \"iraqi\", \"iraqi\", \"iraqi\", \"iraqi\", \"iraqi\", \"iraqi\", \"iraqi\", \"iraqi\", \"iraqi\", \"irrit\", \"islamist\", \"islamist\", \"islamist\", \"islamist\", \"islamist\", \"islamist\", \"islamist\", \"islamist\", \"islamist\", \"islamist\", \"isra\", \"isra\", \"isra\", \"isra\", \"isra\", \"isra\", \"isra\", \"isra\", \"isra\", \"isra\", \"israel\", \"israel\", \"israel\", \"israel\", \"israel\", \"israel\", \"israel\", \"israel\", \"israel\", \"israel\", \"jade\", \"jade\", \"jade\", \"jade\", \"japan\", \"japan\", \"japan\", \"japan\", \"japan\", \"japan\", \"japan\", \"japan\", \"japan\", \"japan\", \"jeddah\", \"jeddah\", \"jeddah\", \"jeddah\", \"jeddah\", \"jeddah\", \"jeddah\", \"jeddah\", \"jelli\", \"jelli\", \"jericho\", \"jiangmen\", \"jiangmen\", \"journalist\", \"journalist\", \"journalist\", \"journalist\", \"journalist\", \"journalist\", \"journalist\", \"journalist\", \"journalist\", \"journalist\", \"julian\", \"julian\", \"julian\", \"julian\", \"julian\", \"julian\", \"julian\", \"julian\", \"julian\", \"julian\", \"kernel\", \"khadafi\", \"kibosh\", \"kill\", \"kill\", \"kill\", \"kill\", \"kill\", \"kill\", \"kill\", \"kill\", \"kill\", \"kill\", \"kke\", \"kodama\", \"kodama\", \"korea\", \"korea\", \"korea\", \"korea\", \"korea\", \"korea\", \"korea\", \"korea\", \"korea\", \"korea\", \"ladin\", \"land\", \"land\", \"land\", \"land\", \"land\", \"land\", \"land\", \"land\", \"land\", \"land\", \"law\", \"law\", \"law\", \"law\", \"law\", \"law\", \"law\", \"law\", \"law\", \"law\", \"leader\", \"leader\", \"leader\", \"leader\", \"leader\", \"leader\", \"leader\", \"leader\", \"leader\", \"leader\", \"least\", \"least\", \"least\", \"least\", \"least\", \"least\", \"least\", \"least\", \"least\", \"least\", \"lethbridg\", \"live\", \"live\", \"live\", \"live\", \"live\", \"live\", \"live\", \"live\", \"live\", \"live\", \"look\", \"look\", \"look\", \"look\", \"look\", \"look\", \"look\", \"look\", \"look\", \"look\", \"lulz\", \"made\", \"made\", \"made\", \"made\", \"made\", \"made\", \"made\", \"made\", \"made\", \"made\", \"mahmood\", \"make\", \"make\", \"make\", \"make\", \"make\", \"make\", \"make\", \"make\", \"make\", \"make\", \"malt\", \"man\", \"man\", \"man\", \"man\", \"man\", \"man\", \"man\", \"man\", \"man\", \"man\", \"manifold\", \"mapl\", \"mapl\", \"mapl\", \"mapl\", \"mapl\", \"mapl\", \"mare\", \"mare\", \"may\", \"may\", \"may\", \"may\", \"may\", \"may\", \"may\", \"may\", \"may\", \"may\", \"men\", \"men\", \"men\", \"men\", \"men\", \"men\", \"men\", \"men\", \"men\", \"men\", \"menez\", \"menez\", \"merri\", \"mesut\", \"methadon\", \"mexico\", \"mexico\", \"mexico\", \"mexico\", \"mexico\", \"mexico\", \"mexico\", \"mexico\", \"mexico\", \"mexico\", \"microphon\", \"microphon\", \"microphon\", \"microphon\", \"microphon\", \"microphon\", \"microphon\", \"microphon\", \"militari\", \"militari\", \"militari\", \"militari\", \"militari\", \"militari\", \"militari\", \"militari\", \"militari\", \"militari\", \"minist\", \"minist\", \"minist\", \"minist\", \"minist\", \"minist\", \"minist\", \"minist\", \"minist\", \"minist\", \"misunderstand\", \"mont\", \"mont\", \"mont\", \"month\", \"month\", \"month\", \"month\", \"month\", \"month\", \"month\", \"month\", \"month\", \"month\", \"much\", \"much\", \"much\", \"much\", \"much\", \"much\", \"much\", \"much\", \"much\", \"much\", \"mumbai\", \"mumbai\", \"mumbai\", \"mumbai\", \"mumbai\", \"mumbai\", \"mumbai\", \"mumbai\", \"mumbai\", \"muse\", \"muse\", \"muslim\", \"muslim\", \"muslim\", \"muslim\", \"muslim\", \"muslim\", \"muslim\", \"muslim\", \"muslim\", \"muslim\", \"n\", \"n\", \"n\", \"n\", \"n\", \"n\", \"n\", \"n\", \"n\", \"n\", \"na\", \"na\", \"na\", \"na\", \"naked\", \"nakoula\", \"nastas\", \"nation\", \"nation\", \"nation\", \"nation\", \"nation\", \"nation\", \"nation\", \"nation\", \"nation\", \"nation\", \"nazi\", \"nazi\", \"nazi\", \"nazi\", \"nazi\", \"nazi\", \"nazi\", \"nazi\", \"nazi\", \"nazi\", \"neoconserv\", \"nereu\", \"new\", \"new\", \"new\", \"new\", \"new\", \"new\", \"new\", \"new\", \"new\", \"new\", \"news\", \"news\", \"news\", \"news\", \"news\", \"news\", \"news\", \"news\", \"news\", \"news\", \"newsasia\", \"next\", \"next\", \"next\", \"next\", \"next\", \"next\", \"next\", \"next\", \"next\", \"next\", \"north\", \"north\", \"north\", \"north\", \"north\", \"north\", \"north\", \"north\", \"north\", \"north\", \"now\", \"now\", \"now\", \"now\", \"now\", \"now\", \"now\", \"now\", \"now\", \"now\", \"nsa\", \"nsa\", \"nsa\", \"nsa\", \"nsa\", \"nsa\", \"nsa\", \"nsa\", \"nsa\", \"nsa\", \"nsoldier\", \"nsoldier\", \"nuclear\", \"nuclear\", \"nuclear\", \"nuclear\", \"nuclear\", \"nuclear\", \"nuclear\", \"nuclear\", \"nuclear\", \"nuclear\", \"numpti\", \"nynorsk\", \"nynorsk\", \"oath\", \"oath\", \"oath\", \"oath\", \"oath\", \"oath\", \"oath\", \"oath\", \"offici\", \"offici\", \"offici\", \"offici\", \"offici\", \"offici\", \"offici\", \"offici\", \"offici\", \"offici\", \"oil\", \"oil\", \"oil\", \"oil\", \"oil\", \"oil\", \"oil\", \"oil\", \"oil\", \"oil\", \"old\", \"old\", \"old\", \"old\", \"old\", \"old\", \"old\", \"old\", \"old\", \"old\", \"one\", \"one\", \"one\", \"one\", \"one\", \"one\", \"one\", \"one\", \"one\", \"one\", \"ozil\", \"pakistan\", \"pakistan\", \"pakistan\", \"pakistan\", \"pakistan\", \"pakistan\", \"pakistan\", \"pakistan\", \"pakistan\", \"pakistan\", \"palestinian\", \"palestinian\", \"palestinian\", \"palestinian\", \"palestinian\", \"palestinian\", \"palestinian\", \"palestinian\", \"palestinian\", \"palestinian\", \"paliament\", \"paliament\", \"parentag\", \"parti\", \"parti\", \"parti\", \"parti\", \"parti\", \"parti\", \"parti\", \"parti\", \"parti\", \"parti\", \"peopl\", \"peopl\", \"peopl\", \"peopl\", \"peopl\", \"peopl\", \"peopl\", \"peopl\", \"peopl\", \"peopl\", \"pershmaga\", \"phelp\", \"phelp\", \"phila\", \"pibor\", \"pirat\", \"pirat\", \"pirat\", \"pirat\", \"pirat\", \"pirat\", \"pirat\", \"pirat\", \"pirat\", \"pirat\", \"plan\", \"plan\", \"plan\", \"plan\", \"plan\", \"plan\", \"plan\", \"plan\", \"plan\", \"plan\", \"plural\", \"plural\", \"poach\", \"poach\", \"poach\", \"poach\", \"poach\", \"poach\", \"poach\", \"poach\", \"poach\", \"poach\", \"polic\", \"polic\", \"polic\", \"polic\", \"polic\", \"polic\", \"polic\", \"polic\", \"polic\", \"polic\", \"polit\", \"polit\", \"polit\", \"polit\", \"polit\", \"polit\", \"polit\", \"polit\", \"polit\", \"polit\", \"pope\", \"pope\", \"pope\", \"pope\", \"pope\", \"pope\", \"pope\", \"pope\", \"pope\", \"pope\", \"populac\", \"power\", \"power\", \"power\", \"power\", \"power\", \"power\", \"power\", \"power\", \"power\", \"power\", \"precept\", \"presid\", \"presid\", \"presid\", \"presid\", \"presid\", \"presid\", \"presid\", \"presid\", \"presid\", \"presid\", \"prime\", \"prime\", \"prime\", \"prime\", \"prime\", \"prime\", \"prime\", \"prime\", \"prime\", \"prime\", \"pro\", \"pro\", \"pro\", \"pro\", \"pro\", \"pro\", \"pro\", \"pro\", \"pro\", \"pro\", \"probe\", \"probe\", \"probe\", \"probe\", \"probe\", \"probe\", \"probe\", \"probe\", \"probe\", \"probe\", \"protest\", \"protest\", \"protest\", \"protest\", \"protest\", \"protest\", \"protest\", \"protest\", \"protest\", \"protest\", \"prum\", \"public\", \"public\", \"public\", \"public\", \"public\", \"public\", \"public\", \"public\", \"public\", \"public\", \"pukkelpop\", \"purloin\", \"purloin\", \"qusra\", \"r\", \"r\", \"r\", \"r\", \"r\", \"r\", \"r\", \"r\", \"r\", \"r\", \"radioisotop\", \"ratzing\", \"ratzing\", \"ravi\", \"ravi\", \"redress\", \"reinvest\", \"reject\", \"reject\", \"reject\", \"reject\", \"reject\", \"reject\", \"reject\", \"reject\", \"reject\", \"reject\", \"relay\", \"relay\", \"report\", \"report\", \"report\", \"report\", \"report\", \"report\", \"report\", \"report\", \"report\", \"report\", \"respons\", \"respons\", \"respons\", \"respons\", \"respons\", \"respons\", \"respons\", \"respons\", \"respons\", \"respons\", \"rhinocero\", \"rhinocero\", \"right\", \"right\", \"right\", \"right\", \"right\", \"right\", \"right\", \"right\", \"right\", \"right\", \"riot\", \"riot\", \"riot\", \"riot\", \"riot\", \"riot\", \"riot\", \"riot\", \"riot\", \"riot\", \"rise\", \"rise\", \"rise\", \"rise\", \"rise\", \"rise\", \"rise\", \"rise\", \"rise\", \"rise\", \"rollin\", \"run\", \"run\", \"run\", \"run\", \"run\", \"run\", \"run\", \"run\", \"run\", \"run\", \"russia\", \"russia\", \"russia\", \"russia\", \"russia\", \"russia\", \"russia\", \"russia\", \"russia\", \"russia\", \"russian\", \"russian\", \"russian\", \"russian\", \"russian\", \"russian\", \"russian\", \"russian\", \"russian\", \"russian\", \"s\", \"s\", \"s\", \"s\", \"s\", \"s\", \"s\", \"s\", \"s\", \"s\", \"said\", \"said\", \"said\", \"said\", \"said\", \"said\", \"said\", \"said\", \"said\", \"said\", \"salari\", \"salari\", \"salari\", \"salari\", \"salari\", \"salari\", \"salari\", \"salari\", \"salari\", \"say\", \"say\", \"say\", \"say\", \"say\", \"say\", \"say\", \"say\", \"say\", \"say\", \"scammer\", \"scammer\", \"scarewar\", \"scarewar\", \"scarewar\", \"scheme\", \"scheme\", \"scheme\", \"scheme\", \"scheme\", \"scheme\", \"scheme\", \"scheme\", \"scheme\", \"scheme\", \"school\", \"school\", \"school\", \"school\", \"school\", \"school\", \"school\", \"school\", \"school\", \"school\", \"schoolbook\", \"see\", \"see\", \"see\", \"see\", \"see\", \"see\", \"see\", \"see\", \"see\", \"see\", \"seen\", \"seen\", \"seen\", \"seen\", \"seen\", \"seen\", \"seen\", \"seen\", \"seen\", \"seen\", \"semenya\", \"semenya\", \"semenya\", \"sex\", \"sex\", \"sex\", \"sex\", \"sex\", \"sex\", \"sex\", \"sex\", \"sex\", \"sex\", \"shakeup\", \"sharper\", \"shaw\", \"ship\", \"ship\", \"ship\", \"ship\", \"ship\", \"ship\", \"ship\", \"ship\", \"ship\", \"ship\", \"shipbreak\", \"show\", \"show\", \"show\", \"show\", \"show\", \"show\", \"show\", \"show\", \"show\", \"show\", \"site\", \"site\", \"site\", \"site\", \"site\", \"site\", \"site\", \"site\", \"site\", \"site\", \"snowden\", \"snowden\", \"snowden\", \"snowden\", \"snowden\", \"snowden\", \"snowden\", \"snowden\", \"snowden\", \"snowden\", \"soldier\", \"soldier\", \"soldier\", \"soldier\", \"soldier\", \"soldier\", \"soldier\", \"soldier\", \"soldier\", \"soldier\", \"sour\", \"sour\", \"sour\", \"south\", \"south\", \"south\", \"south\", \"south\", \"south\", \"south\", \"south\", \"south\", \"south\", \"spi\", \"spi\", \"spi\", \"spi\", \"spi\", \"spi\", \"spi\", \"spi\", \"spi\", \"spi\", \"splendid\", \"stamped\", \"stamped\", \"stamped\", \"stamped\", \"state\", \"state\", \"state\", \"state\", \"state\", \"state\", \"state\", \"state\", \"state\", \"state\", \"stop\", \"stop\", \"stop\", \"stop\", \"stop\", \"stop\", \"stop\", \"stop\", \"stop\", \"stop\", \"street\", \"street\", \"street\", \"street\", \"street\", \"street\", \"street\", \"street\", \"street\", \"street\", \"strike\", \"strike\", \"strike\", \"strike\", \"strike\", \"strike\", \"strike\", \"strike\", \"strike\", \"strike\", \"student\", \"student\", \"student\", \"student\", \"student\", \"student\", \"student\", \"student\", \"student\", \"student\", \"sudetenland\", \"suicid\", \"suicid\", \"suicid\", \"suicid\", \"suicid\", \"suicid\", \"suicid\", \"suicid\", \"suicid\", \"suicid\", \"supper\", \"suspect\", \"suspect\", \"suspect\", \"suspect\", \"suspect\", \"suspect\", \"suspect\", \"suspect\", \"suspect\", \"suspect\", \"suspend\", \"suspend\", \"suspend\", \"suspend\", \"suspend\", \"suspend\", \"suspend\", \"suspend\", \"suspend\", \"suspend\", \"swine\", \"swine\", \"swine\", \"swine\", \"swine\", \"swine\", \"swine\", \"swine\", \"swine\", \"syria\", \"syria\", \"syria\", \"syria\", \"syria\", \"syria\", \"syria\", \"syria\", \"syria\", \"syria\", \"syrup\", \"syrup\", \"syrup\", \"syrup\", \"syrup\", \"syrup\", \"system\", \"system\", \"system\", \"system\", \"system\", \"system\", \"system\", \"system\", \"system\", \"system\", \"t\", \"t\", \"t\", \"t\", \"t\", \"t\", \"t\", \"t\", \"t\", \"t\", \"taj\", \"taj\", \"taj\", \"taliban\", \"taliban\", \"taliban\", \"taliban\", \"taliban\", \"taliban\", \"taliban\", \"taliban\", \"taliban\", \"taliban\", \"tantal\", \"tatarstan\", \"tatarstan\", \"tax\", \"tax\", \"tax\", \"tax\", \"tax\", \"tax\", \"tax\", \"tax\", \"tax\", \"tax\", \"teheran\", \"terror\", \"terror\", \"terror\", \"terror\", \"terror\", \"terror\", \"terror\", \"terror\", \"terror\", \"terror\", \"time\", \"time\", \"time\", \"time\", \"time\", \"time\", \"time\", \"time\", \"time\", \"time\", \"timezon\", \"today\", \"today\", \"today\", \"today\", \"today\", \"today\", \"today\", \"today\", \"today\", \"today\", \"top\", \"top\", \"top\", \"top\", \"top\", \"top\", \"top\", \"top\", \"top\", \"top\", \"touchscreen\", \"traffick\", \"traffick\", \"traffick\", \"traffick\", \"traffick\", \"traffick\", \"traffick\", \"traffick\", \"traffick\", \"traffick\", \"trickster\", \"turkey\", \"turkey\", \"turkey\", \"turkey\", \"turkey\", \"turkey\", \"turkey\", \"turkey\", \"turkey\", \"turkey\", \"turkish\", \"turkish\", \"turkish\", \"turkish\", \"turkish\", \"turkish\", \"turkish\", \"turkish\", \"turkish\", \"turkish\", \"two\", \"two\", \"two\", \"two\", \"two\", \"two\", \"two\", \"two\", \"two\", \"two\", \"u\", \"u\", \"u\", \"u\", \"u\", \"u\", \"u\", \"u\", \"u\", \"u\", \"u212\", \"uk\", \"uk\", \"uk\", \"uk\", \"uk\", \"uk\", \"uk\", \"uk\", \"uk\", \"uk\", \"ukrain\", \"ukrain\", \"ukrain\", \"ukrain\", \"ukrain\", \"ukrain\", \"ukrain\", \"ukrain\", \"ukrain\", \"ukrain\", \"un\", \"un\", \"un\", \"un\", \"un\", \"un\", \"un\", \"un\", \"un\", \"un\", \"undigest\", \"unesco\", \"unesco\", \"unesco\", \"unesco\", \"unesco\", \"unesco\", \"unesco\", \"unesco\", \"unesco\", \"unicorn\", \"unicorn\", \"unicorn\", \"unicorn\", \"unionist\", \"us\", \"us\", \"us\", \"us\", \"us\", \"us\", \"us\", \"us\", \"us\", \"us\", \"use\", \"use\", \"use\", \"use\", \"use\", \"use\", \"use\", \"use\", \"use\", \"use\", \"vatileak\", \"vicin\", \"vid\", \"vid\", \"vid\", \"vid\", \"vid\", \"vid\", \"vid\", \"vid\", \"vid\", \"video\", \"video\", \"video\", \"video\", \"video\", \"video\", \"video\", \"video\", \"video\", \"video\", \"villa\", \"walter\", \"walter\", \"walter\", \"war\", \"war\", \"war\", \"war\", \"war\", \"war\", \"war\", \"war\", \"war\", \"war\", \"ware\", \"warn\", \"warn\", \"warn\", \"warn\", \"warn\", \"warn\", \"warn\", \"warn\", \"warn\", \"warn\", \"watch\", \"watch\", \"watch\", \"watch\", \"watch\", \"watch\", \"watch\", \"watch\", \"watch\", \"watch\", \"western\", \"western\", \"western\", \"western\", \"western\", \"western\", \"western\", \"western\", \"western\", \"western\", \"whale\", \"whale\", \"whale\", \"whale\", \"whale\", \"whale\", \"whale\", \"whale\", \"whale\", \"whale\", \"whine\", \"wikileak\", \"wikileak\", \"wikileak\", \"wikileak\", \"wikileak\", \"wikileak\", \"wikileak\", \"wikileak\", \"wikileak\", \"wikileak\", \"will\", \"will\", \"will\", \"will\", \"will\", \"will\", \"will\", \"will\", \"will\", \"will\", \"wolf\", \"wolf\", \"wolf\", \"wolf\", \"wolf\", \"wolf\", \"women\", \"women\", \"women\", \"women\", \"women\", \"women\", \"women\", \"women\", \"women\", \"women\", \"woodi\", \"woof\", \"work\", \"work\", \"work\", \"work\", \"work\", \"work\", \"work\", \"work\", \"work\", \"work\", \"workday\", \"worker\", \"worker\", \"worker\", \"worker\", \"worker\", \"worker\", \"worker\", \"worker\", \"worker\", \"worker\", \"world\", \"world\", \"world\", \"world\", \"world\", \"world\", \"world\", \"world\", \"world\", \"world\", \"year\", \"year\", \"year\", \"year\", \"year\", \"year\", \"year\", \"year\", \"year\", \"year\", \"ynet\", \"ynet\", \"zapatista\", \"zuckberg\", \"zuckberg\"]}, \"R\": 30, \"lambda.step\": 0.01, \"plot.opts\": {\"xlab\": \"PC1\", \"ylab\": \"PC2\"}, \"topic.order\": [10, 9, 4, 8, 2, 5, 6, 3, 1, 7]};\n",
       "\n",
       "function LDAvis_load_lib(url, callback){\n",
       "  var s = document.createElement('script');\n",
       "  s.src = url;\n",
       "  s.async = true;\n",
       "  s.onreadystatechange = s.onload = callback;\n",
       "  s.onerror = function(){console.warn(\"failed to load library \" + url);};\n",
       "  document.getElementsByTagName(\"head\")[0].appendChild(s);\n",
       "}\n",
       "\n",
       "if(typeof(LDAvis) !== \"undefined\"){\n",
       "   // already loaded: just create the visualization\n",
       "   !function(LDAvis){\n",
       "       new LDAvis(\"#\" + \"ldavis_el865629183269758486995204091\", ldavis_el865629183269758486995204091_data);\n",
       "   }(LDAvis);\n",
       "}else if(typeof define === \"function\" && define.amd){\n",
       "   // require.js is available: use it to load d3/LDAvis\n",
       "   require.config({paths: {d3: \"https://cdnjs.cloudflare.com/ajax/libs/d3/3.5.5/d3.min\"}});\n",
       "   require([\"d3\"], function(d3){\n",
       "      window.d3 = d3;\n",
       "      LDAvis_load_lib(\"https://cdn.rawgit.com/bmabey/pyLDAvis/files/ldavis.v1.0.0.js\", function(){\n",
       "        new LDAvis(\"#\" + \"ldavis_el865629183269758486995204091\", ldavis_el865629183269758486995204091_data);\n",
       "      });\n",
       "    });\n",
       "}else{\n",
       "    // require.js not available: dynamically load d3 & LDAvis\n",
       "    LDAvis_load_lib(\"https://cdnjs.cloudflare.com/ajax/libs/d3/3.5.5/d3.min.js\", function(){\n",
       "         LDAvis_load_lib(\"https://cdn.rawgit.com/bmabey/pyLDAvis/files/ldavis.v1.0.0.js\", function(){\n",
       "                 new LDAvis(\"#\" + \"ldavis_el865629183269758486995204091\", ldavis_el865629183269758486995204091_data);\n",
       "            })\n",
       "         });\n",
       "}\n",
       "</script>"
      ],
      "text/plain": [
       "PreparedData(topic_coordinates=              x         y  topics  cluster       Freq\n",
       "topic                                                \n",
       "9     -0.000339 -0.002627       1        1  25.266338\n",
       "8     -0.008660 -0.000788       2        1  21.628956\n",
       "3      0.004843  0.001239       3        1   9.769872\n",
       "7     -0.008151 -0.001200       4        1   9.019284\n",
       "1     -0.008356 -0.000723       5        1   8.862262\n",
       "4      0.008439 -0.006214       6        1   7.922798\n",
       "5     -0.007441  0.003422       7        1   6.849905\n",
       "2     -0.001454  0.002737       8        1   5.270893\n",
       "0      0.008740 -0.000252       9        1   3.822563\n",
       "6      0.012378  0.004407      10        1   1.587130, topic_info=     Category          Freq     Term         Total  loglift  logprob\n",
       "18    Default  11792.000000        b  11792.000000  30.0000  30.0000\n",
       "136   Default   8564.000000        s   8564.000000  29.0000  29.0000\n",
       "139   Default   2654.000000      say   2654.000000  28.0000  28.0000\n",
       "180   Default   1747.000000     will   1747.000000  27.0000  27.0000\n",
       "184   Default   2374.000000     year   2374.000000  26.0000  26.0000\n",
       "183   Default   1823.000000    world   1823.000000  25.0000  25.0000\n",
       "171   Default   2421.000000       us   2421.000000  24.0000  24.0000\n",
       "674   Default   1822.000000   govern   1822.000000  23.0000  23.0000\n",
       "34    Default   1732.000000    china   1732.000000  22.0000  22.0000\n",
       "261   Default   1569.000000    polic   1569.000000  21.0000  21.0000\n",
       "89    Default   2150.000000     kill   2150.000000  20.0000  20.0000\n",
       "104   Default   1840.000000      new   1840.000000  19.0000  19.0000\n",
       "277   Default   1251.000000    state   1251.000000  18.0000  18.0000\n",
       "384   Default   1079.000000    right   1079.000000  17.0000  17.0000\n",
       "117   Default   1557.000000    peopl   1557.000000  16.0000  16.0000\n",
       "17    Default   1293.000000   attack   1293.000000  15.0000  15.0000\n",
       "124   Default   1692.000000  protest   1692.000000  14.0000  14.0000\n",
       "79    Default   1136.000000     iran   1136.000000  13.0000  13.0000\n",
       "12    Default    773.000000      amp    773.000000  12.0000  12.0000\n",
       "0     Default   1253.000000      000   1253.000000  11.0000  11.0000\n",
       "83    Default   2020.000000   israel   2020.000000  10.0000  10.0000\n",
       "134   Default   1369.000000   russia   1369.000000   9.0000   9.0000\n",
       "1490  Default    811.000000    court    811.000000   8.0000   8.0000\n",
       "176   Default   1417.000000      war   1417.000000   7.0000   7.0000\n",
       "1211  Default    974.000000    korea    974.000000   6.0000   6.0000\n",
       "58    Default   1091.000000     forc   1091.000000   5.0000   5.0000\n",
       "40    Default   1505.000000  countri   1505.000000   4.0000   4.0000\n",
       "632   Default   1076.000000       uk   1076.000000   3.0000   3.0000\n",
       "1425  Default   1056.000000     call   1056.000000   2.0000   2.0000\n",
       "776   Default   1182.000000      one   1182.000000   1.0000   1.0000\n",
       "...       ...           ...      ...           ...      ...      ...\n",
       "180   Topic10     28.918837     will   1747.238037   0.0419  -5.6338\n",
       "361   Topic10     15.872807      man    813.973145   0.2059  -6.2337\n",
       "110   Topic10     14.010556      old    695.972961   0.2377  -6.3585\n",
       "428   Topic10     12.741786     anti    615.503906   0.2657  -6.4534\n",
       "261   Topic10     26.123043    polic   1569.208252   0.0477  -5.7355\n",
       "3     Topic10     11.995550        2    572.532166   0.2777  -6.5138\n",
       "0     Topic10     21.903721      000   1253.887207   0.0959  -5.9116\n",
       "220   Topic10     17.343468    first    924.442505   0.1673  -6.1451\n",
       "139   Topic10     38.146404      say   2654.830322  -0.0995  -5.3569\n",
       "374   Topic10     13.457378    power    671.776978   0.2328  -6.3988\n",
       "107   Topic10     15.037407  nuclear    783.427795   0.1901  -6.2878\n",
       "183   Topic10     27.711039    world   1823.911865  -0.0437  -5.6765\n",
       "58    Topic10     18.991415     forc   1091.254150   0.0921  -6.0543\n",
       "34    Topic10     25.999447    china   1732.891724  -0.0562  -5.7402\n",
       "401   Topic10     15.757508     time    847.670898   0.1581  -6.2410\n",
       "117   Topic10     23.895033    peopl   1557.848389  -0.0341  -5.8246\n",
       "184   Topic10     31.109564     year   2374.851562  -0.1919  -5.5608\n",
       "109   Topic10     16.109329   offici    878.902832   0.1440  -6.2189\n",
       "17    Topic10     20.231955   attack   1293.460693  -0.0146  -5.9910\n",
       "1211  Topic10     17.030014    korea    974.951233   0.0958  -6.1633\n",
       "89    Topic10     27.199171     kill   2150.141357  -0.2269  -5.6951\n",
       "104   Topic10     23.712837      new   1840.815308  -0.2087  -5.8323\n",
       "135   Topic10     16.594854  russian    992.911316   0.0517  -6.1892\n",
       "171   Topic10     25.005419       us   2421.766602  -0.4299  -5.7792\n",
       "18    Topic10     41.983860        b  11792.592773  -1.4947  -5.2610\n",
       "124   Topic10     20.123707  protest   1692.925537  -0.2891  -5.9964\n",
       "134   Topic10     17.978203   russia   1369.215088  -0.1896  -6.1091\n",
       "40    Topic10     18.146017  countri   1505.731445  -0.2753  -6.0999\n",
       "176   Topic10     17.842289      war   1417.033203  -0.2315  -6.1167\n",
       "83    Topic10     17.162798   israel   2020.666138  -0.6252  -6.1556\n",
       "\n",
       "[874 rows x 6 columns], token_table=       Topic      Freq       Term\n",
       "term                             \n",
       "0          1  0.347719        000\n",
       "0          2  0.220913        000\n",
       "0          3  0.070979        000\n",
       "0          4  0.061409        000\n",
       "0          5  0.102083        000\n",
       "0          6  0.055826        000\n",
       "0          7  0.038281        000\n",
       "0          8  0.053434        000\n",
       "0          9  0.031901        000\n",
       "0         10  0.017545        000\n",
       "1          1  0.234347          1\n",
       "1          2  0.198294          1\n",
       "1          3  0.106658          1\n",
       "1          4  0.060089          1\n",
       "1          5  0.093138          1\n",
       "1          6  0.078116          1\n",
       "1          7  0.102151          1\n",
       "1          8  0.058587          1\n",
       "1          9  0.043565          1\n",
       "1         10  0.022533          1\n",
       "5033       4  0.378366  10million\n",
       "17425      6  0.534386       163m\n",
       "4308       1  0.291621       1954\n",
       "4308       2  0.291621       1954\n",
       "4308       8  0.291621       1954\n",
       "3          1  0.274220          2\n",
       "3          2  0.239288          2\n",
       "3          3  0.083838          2\n",
       "3          4  0.064625          2\n",
       "3          5  0.064625          2\n",
       "...      ...       ...        ...\n",
       "634        6  0.095588     worker\n",
       "634        7  0.066912     worker\n",
       "634        8  0.069301     worker\n",
       "634        9  0.040625     worker\n",
       "634       10  0.023897     worker\n",
       "183        1  0.233016      world\n",
       "183        2  0.208892      world\n",
       "183        3  0.113492      world\n",
       "183        4  0.081693      world\n",
       "183        5  0.095399      world\n",
       "183        6  0.059213      world\n",
       "183        7  0.089917      world\n",
       "183        8  0.055375      world\n",
       "183        9  0.047151      world\n",
       "183       10  0.015352      world\n",
       "184        1  0.259385       year\n",
       "184        2  0.211382       year\n",
       "184        3  0.096006       year\n",
       "184        4  0.097690       year\n",
       "184        5  0.081268       year\n",
       "184        6  0.094743       year\n",
       "184        7  0.058951       year\n",
       "184        8  0.049266       year\n",
       "184        9  0.038318       year\n",
       "184       10  0.013053       year\n",
       "5053       2  0.373120       ynet\n",
       "5053       4  0.373120       ynet\n",
       "15225      3  0.591290  zapatista\n",
       "15032      1  0.516513   zuckberg\n",
       "15032      6  0.516513   zuckberg\n",
       "\n",
       "[2461 rows x 3 columns], R=30, lambda_step=0.01, plot_opts={'xlab': 'PC1', 'ylab': 'PC2'}, topic_order=[10, 9, 4, 8, 2, 5, 6, 3, 1, 7])"
      ]
     },
     "execution_count": 59,
     "metadata": {},
     "output_type": "execute_result"
    }
   ],
   "source": [
    "news"
   ]
  },
  {
   "cell_type": "code",
   "execution_count": null,
   "metadata": {},
   "outputs": [],
   "source": []
  }
 ],
 "metadata": {
  "_change_revision": 3,
  "_is_fork": false,
  "kernelspec": {
   "display_name": "Python 3",
   "language": "python",
   "name": "python3"
  },
  "language_info": {
   "codemirror_mode": {
    "name": "ipython",
    "version": 3
   },
   "file_extension": ".py",
   "mimetype": "text/x-python",
   "name": "python",
   "nbconvert_exporter": "python",
   "pygments_lexer": "ipython3",
   "version": "3.7.3"
  }
 },
 "nbformat": 4,
 "nbformat_minor": 1
}
